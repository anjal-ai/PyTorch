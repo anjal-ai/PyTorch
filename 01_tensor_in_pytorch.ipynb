{
  "nbformat": 4,
  "nbformat_minor": 0,
  "metadata": {
    "colab": {
      "provenance": [],
      "gpuType": "T4",
      "authorship_tag": "ABX9TyPWBlW6WmmJXNSD3RKGDB1K",
      "include_colab_link": true
    },
    "kernelspec": {
      "name": "python3",
      "display_name": "Python 3"
    },
    "language_info": {
      "name": "python"
    },
    "accelerator": "GPU"
  },
  "cells": [
    {
      "cell_type": "markdown",
      "metadata": {
        "id": "view-in-github",
        "colab_type": "text"
      },
      "source": [
        "<a href=\"https://colab.research.google.com/github/anjal-ai/PyTorch/blob/main/tensor_in_pytorch.ipynb\" target=\"_parent\"><img src=\"https://colab.research.google.com/assets/colab-badge.svg\" alt=\"Open In Colab\"/></a>"
      ]
    },
    {
      "cell_type": "code",
      "execution_count": 2,
      "metadata": {
        "id": "X3L0-3jYLP3X",
        "outputId": "4e410482-5e3c-437c-ebc5-d2c546683a04",
        "colab": {
          "base_uri": "https://localhost:8080/"
        }
      },
      "outputs": [
        {
          "output_type": "stream",
          "name": "stdout",
          "text": [
            "2.6.0+cu124\n"
          ]
        }
      ],
      "source": [
        "import torch\n",
        "print(torch.__version__)"
      ]
    },
    {
      "cell_type": "code",
      "source": [
        "if torch.cuda.is_available() :\n",
        "  print(\"GPU is available\")\n",
        "  print(f\"Using GPU : {torch.cuda.get_device_name()}\")\n",
        "else:\n",
        "  print(\"GPU not available. Using CPU\")"
      ],
      "metadata": {
        "id": "dbT1hKVRhAaN",
        "outputId": "f79e23b1-1131-4b5b-c4ff-f4cc8e7fc451",
        "colab": {
          "base_uri": "https://localhost:8080/"
        }
      },
      "execution_count": 3,
      "outputs": [
        {
          "output_type": "stream",
          "name": "stdout",
          "text": [
            "GPU is available\n",
            "Using GPU : Tesla T4\n"
          ]
        }
      ]
    },
    {
      "cell_type": "markdown",
      "source": [
        "# Creating a Tensor"
      ],
      "metadata": {
        "id": "N6BELEHjdPqW"
      }
    },
    {
      "cell_type": "code",
      "source": [
        "# using empty\n",
        "a = torch.empty(2,3)"
      ],
      "metadata": {
        "id": "9BKTfnF4dPLE"
      },
      "execution_count": 4,
      "outputs": []
    },
    {
      "cell_type": "code",
      "source": [
        "# check type\n",
        "type(a)"
      ],
      "metadata": {
        "id": "oRqvvsPwhItm",
        "colab": {
          "base_uri": "https://localhost:8080/"
        },
        "outputId": "7bb14bd1-1848-4294-de38-e8ca59db9dcc"
      },
      "execution_count": 5,
      "outputs": [
        {
          "output_type": "execute_result",
          "data": {
            "text/plain": [
              "torch.Tensor"
            ]
          },
          "metadata": {},
          "execution_count": 5
        }
      ]
    },
    {
      "cell_type": "code",
      "source": [
        "# using zeros\n",
        "torch.zeros(2,3)"
      ],
      "metadata": {
        "colab": {
          "base_uri": "https://localhost:8080/"
        },
        "id": "4qx2qcXOdqM3",
        "outputId": "1ddf3c82-41cf-4196-ab61-e51754b71311"
      },
      "execution_count": 6,
      "outputs": [
        {
          "output_type": "execute_result",
          "data": {
            "text/plain": [
              "tensor([[0., 0., 0.],\n",
              "        [0., 0., 0.]])"
            ]
          },
          "metadata": {},
          "execution_count": 6
        }
      ]
    },
    {
      "cell_type": "code",
      "source": [
        "# using rand\n",
        "torch.rand(2,3)"
      ],
      "metadata": {
        "colab": {
          "base_uri": "https://localhost:8080/"
        },
        "id": "x_ElvT0Edrb-",
        "outputId": "ab23bc96-bae1-4483-b218-75774407cb16"
      },
      "execution_count": 7,
      "outputs": [
        {
          "output_type": "execute_result",
          "data": {
            "text/plain": [
              "tensor([[0.1150, 0.1008, 0.8116],\n",
              "        [0.7882, 0.0712, 0.7102]])"
            ]
          },
          "metadata": {},
          "execution_count": 7
        }
      ]
    },
    {
      "cell_type": "code",
      "source": [
        "# use of seed\n",
        "torch.rand(2,3)"
      ],
      "metadata": {
        "colab": {
          "base_uri": "https://localhost:8080/"
        },
        "id": "1w1CYzyEdtHm",
        "outputId": "efc8aea1-abbe-4ee8-89d7-c2a5957256be"
      },
      "execution_count": 8,
      "outputs": [
        {
          "output_type": "execute_result",
          "data": {
            "text/plain": [
              "tensor([[0.5747, 0.3500, 0.7106],\n",
              "        [0.3959, 0.0916, 0.6817]])"
            ]
          },
          "metadata": {},
          "execution_count": 8
        }
      ]
    },
    {
      "cell_type": "code",
      "source": [
        "# manual_seed\n",
        "torch.manual_seed(100)\n",
        "torch.rand(2,3)"
      ],
      "metadata": {
        "colab": {
          "base_uri": "https://localhost:8080/"
        },
        "id": "3kRHDmdydugK",
        "outputId": "bc6ab0d1-07b6-4dbc-cc38-f284b2aba729"
      },
      "execution_count": 9,
      "outputs": [
        {
          "output_type": "execute_result",
          "data": {
            "text/plain": [
              "tensor([[0.1117, 0.8158, 0.2626],\n",
              "        [0.4839, 0.6765, 0.7539]])"
            ]
          },
          "metadata": {},
          "execution_count": 9
        }
      ]
    },
    {
      "cell_type": "code",
      "source": [
        "torch.rand(2,3)"
      ],
      "metadata": {
        "colab": {
          "base_uri": "https://localhost:8080/"
        },
        "id": "rZLzZs2JeI8o",
        "outputId": "65303ebb-2d31-456a-d218-051876467772"
      },
      "execution_count": 10,
      "outputs": [
        {
          "output_type": "execute_result",
          "data": {
            "text/plain": [
              "tensor([[0.2627, 0.0428, 0.2080],\n",
              "        [0.1180, 0.1217, 0.7356]])"
            ]
          },
          "metadata": {},
          "execution_count": 10
        }
      ]
    },
    {
      "cell_type": "code",
      "source": [
        "# using tensor\n",
        "torch.tensor([[1,2,3],[4,5,6]])"
      ],
      "metadata": {
        "colab": {
          "base_uri": "https://localhost:8080/"
        },
        "id": "apNk20_mePMV",
        "outputId": "41510044-eeb0-4481-c38b-24efcb897b24"
      },
      "execution_count": 11,
      "outputs": [
        {
          "output_type": "execute_result",
          "data": {
            "text/plain": [
              "tensor([[1, 2, 3],\n",
              "        [4, 5, 6]])"
            ]
          },
          "metadata": {},
          "execution_count": 11
        }
      ]
    },
    {
      "cell_type": "code",
      "source": [
        "# other ways\n",
        "\n",
        "# arange\n",
        "print(f\"using arange -> \\n {torch.arange(0,10,2)} \\n\")\n",
        "\n",
        "# using linspace\n",
        "print(f\"using linspace -> \\n {torch.linspace(0,10,10)} \\n\")\n",
        "\n",
        "# using eye\n",
        "print(f\"using eye -> \\n {torch.eye(5)} \\n\")\n",
        "\n",
        "# using full\n",
        "print(f\"using full -> \\n {torch.full((3, 3), 5)} \\n\")"
      ],
      "metadata": {
        "colab": {
          "base_uri": "https://localhost:8080/"
        },
        "id": "phKERy7NeRf6",
        "outputId": "15d74cb7-a9eb-4cf5-f9f1-3e413ed43948"
      },
      "execution_count": 14,
      "outputs": [
        {
          "output_type": "stream",
          "name": "stdout",
          "text": [
            "using arange -> \n",
            " tensor([0, 2, 4, 6, 8]) \n",
            "\n",
            "using linspace -> \n",
            " tensor([ 0.0000,  1.1111,  2.2222,  3.3333,  4.4444,  5.5556,  6.6667,  7.7778,\n",
            "         8.8889, 10.0000]) \n",
            "\n",
            "using eye -> \n",
            " tensor([[1., 0., 0., 0., 0.],\n",
            "        [0., 1., 0., 0., 0.],\n",
            "        [0., 0., 1., 0., 0.],\n",
            "        [0., 0., 0., 1., 0.],\n",
            "        [0., 0., 0., 0., 1.]]) \n",
            "\n",
            "using full -> \n",
            " tensor([[5, 5, 5],\n",
            "        [5, 5, 5],\n",
            "        [5, 5, 5]]) \n",
            "\n"
          ]
        }
      ]
    },
    {
      "cell_type": "markdown",
      "source": [
        "# Tensor Shapes"
      ],
      "metadata": {
        "id": "uJRCoiKSevOY"
      }
    },
    {
      "cell_type": "code",
      "source": [
        "x = torch.tensor([[1,2,3],[4,5,6]])\n",
        "x"
      ],
      "metadata": {
        "colab": {
          "base_uri": "https://localhost:8080/"
        },
        "id": "vk8S45kXeUWT",
        "outputId": "d1327810-e914-4c12-cab4-d625db379dcd"
      },
      "execution_count": 15,
      "outputs": [
        {
          "output_type": "execute_result",
          "data": {
            "text/plain": [
              "tensor([[1, 2, 3],\n",
              "        [4, 5, 6]])"
            ]
          },
          "metadata": {},
          "execution_count": 15
        }
      ]
    },
    {
      "cell_type": "code",
      "source": [
        "x.shape"
      ],
      "metadata": {
        "colab": {
          "base_uri": "https://localhost:8080/"
        },
        "id": "wHqLmaGdex-R",
        "outputId": "fcffa526-1b31-4bb7-a5cc-bf9ea9280c7a"
      },
      "execution_count": 16,
      "outputs": [
        {
          "output_type": "execute_result",
          "data": {
            "text/plain": [
              "torch.Size([2, 3])"
            ]
          },
          "metadata": {},
          "execution_count": 16
        }
      ]
    },
    {
      "cell_type": "code",
      "source": [
        "torch.empty_like(x)"
      ],
      "metadata": {
        "colab": {
          "base_uri": "https://localhost:8080/"
        },
        "id": "NreTaY2Eey7a",
        "outputId": "30aab906-f0d2-442f-fb14-8d94dfe6359c"
      },
      "execution_count": 17,
      "outputs": [
        {
          "output_type": "execute_result",
          "data": {
            "text/plain": [
              "tensor([[7309453675965983778, 8315168162784306286, 8367752027310484831],\n",
              "        [7954801838398993778, 2459029315949324647, 3688783872695678310]])"
            ]
          },
          "metadata": {},
          "execution_count": 17
        }
      ]
    },
    {
      "cell_type": "code",
      "source": [
        "torch.zeros_like(x)"
      ],
      "metadata": {
        "colab": {
          "base_uri": "https://localhost:8080/"
        },
        "id": "DHxaNB_kez3U",
        "outputId": "f0cab1b1-4f51-46b9-f7b3-ab60959d9ec7"
      },
      "execution_count": 18,
      "outputs": [
        {
          "output_type": "execute_result",
          "data": {
            "text/plain": [
              "tensor([[0, 0, 0],\n",
              "        [0, 0, 0]])"
            ]
          },
          "metadata": {},
          "execution_count": 18
        }
      ]
    },
    {
      "cell_type": "code",
      "source": [
        "torch.ones_like(x)"
      ],
      "metadata": {
        "colab": {
          "base_uri": "https://localhost:8080/"
        },
        "id": "EeXaC7u5e031",
        "outputId": "9cabbed7-4da5-4198-e228-caf4de55a80f"
      },
      "execution_count": 19,
      "outputs": [
        {
          "output_type": "execute_result",
          "data": {
            "text/plain": [
              "tensor([[1, 1, 1],\n",
              "        [1, 1, 1]])"
            ]
          },
          "metadata": {},
          "execution_count": 19
        }
      ]
    },
    {
      "cell_type": "code",
      "source": [
        "torch.rand_like(x, dtype=torch.float32)"
      ],
      "metadata": {
        "colab": {
          "base_uri": "https://localhost:8080/"
        },
        "id": "JKryx0KJe2Pu",
        "outputId": "d8e234b3-9a5b-4e56-f746-e9b842308a95"
      },
      "execution_count": 20,
      "outputs": [
        {
          "output_type": "execute_result",
          "data": {
            "text/plain": [
              "tensor([[0.7118, 0.7876, 0.4183],\n",
              "        [0.9014, 0.9969, 0.7565]])"
            ]
          },
          "metadata": {},
          "execution_count": 20
        }
      ]
    },
    {
      "cell_type": "code",
      "source": [],
      "metadata": {
        "id": "wgPSn61Be4DN"
      },
      "execution_count": null,
      "outputs": []
    },
    {
      "cell_type": "markdown",
      "source": [
        "# Tensor Data Types"
      ],
      "metadata": {
        "id": "gXLY1Khle58E"
      }
    },
    {
      "cell_type": "markdown",
      "source": [
        "![Screenshot From 2025-07-05 18-51-26.png](data:image/png;base64,iVBORw0KGgoAAAANSUhEUgAAApgAAAKICAYAAADU54pSAAAABHNCSVQICAgIfAhkiAAAABl0RVh0U29mdHdhcmUAZ25vbWUtc2NyZWVuc2hvdO8Dvz4AAAAvdEVYdENyZWF0aW9uIFRpbWUAU2F0IDA1IEp1bCAyMDI1IDA2OjUxOjI2IFBNICswNTQ1XzjEFgAAIABJREFUeJzs3XdUVNfaBvCHIiUCYqT3IqJYE8EoagzYImJBBQ02JCZqJIpiwXKtMdiIxi4ar7EjKCaYaK5EjD0aC0ZRwaAoRZAiiHTY3x8szudIx7Hm+a3FWsycc/Z+z572zi5nFIQQAkREREREcqL4ugMgIiIioncLE0wiIiIikismmEREREQkV0wwiYiIiEiumGASERERkVwxwSQiIiIiuWKCSURERERyxQSTiIiIiOSKCSYRERERyRUTTCIiIiKSq3olmNOmTYOWlha0tLSgra0NW1tb+Pj4ICUlpVbHp6enIyAgABcvXqxz3f3795fqfv5v8eLFdS6PiOQjPT1d5vVoaGgIJycnhISEvJZ4QkJCYGpqips3b9Zq/zVr1iA0NBQAIIRAhw4dMGHChJcZIhHRO0v5RQ5esGAB1NXVERsbi927d+P48eM4c+YMGjduXO1x5Qlmo0aN4ODgUKc6v/76awwePBgA4O/vD0tLS4wbNw4A0LZt2/qdCBHJjaqqKpYsWYLs7GwcPnwYn3/+OZKTkzFp0qRXFkNpaSlMTU3RqVOnGt+Pyq1ZswYODg4YMmQIFBQU0KlTJzRv3vwlR0pE9I4S9eDn5yc0NTVFTk6OdN/p06eFpqamWLBggRBCiPT0dDF+/HhhbW0tDA0NxWeffSYePXok4uPjhaampvTXp08fIYQQf//9t+jfv78wNDQUVlZWYs6cOaKkpKTaOMzNzcWQIUOk276+vkJLS0skJSVJ97m5uQlTU1NRUFAgvLy8hLW1tdiwYYOwsrISVlZWIjAwUNr3yZMn4quvvhImJibC2tpa+Pn5yZwjEVUtLS1NaGpqitmzZ0v3FRcXi/79+wtdXV2RnZ0thBAiJiZG9OvXT+jp6Yk2bdqITZs2SfsnJSWJzz77TFhaWgpLS0sxduxY8fjxYyGEEKWlpWLVqlWiRYsWQk9PT/Tp00dcuXJFCCHE1q1bhaampli5cqUwNzcXy5Ytk+6LiooSt2/fFpqammLRokWid+/eQk9PT/Tu3Vv8888/Qggh7OzsZN6XhBDC2tpaDBs2rELdurq6onv37uLChQtS3NbW1mLChAliwoQJQl9fX7Rr106cOXPmJbY2EdGbTW5zMDt37gw7Ozv8/vvvAIBVq1bhyJEjWLRoEdasWYMTJ05gzpw50NPTw8qVKwEAvXv3xrfffovS0lL4+voiLS0NP/zwA8aPH481a9Zgz549dYph6NChEELgl19+AQBkZWXhjz/+gJubG1RUVACU9Z4eP34cW7duRadOnbBgwQL89NNPAIAJEyYgLCwMCxcuxMKFC7Fjxw7MnTtXXk1E9K+jpKQEb29v5Ofn48yZM8jLy8OAAQOQkpKCjRs3YtCgQZg+fToOHDgAAJg7dy5OnDiBFStWYPXq1fjtt9+we/duAEBQUBDmzZuHHj16YP369Xj8+DH69++PnJwcqb59+/Zh9uzZ6N27d6XxbNiwASNHjsS6detw5coVDB8+HADwww8/AADee+896f3gWc/WvWHDBmRnZ8PNzU1mWtCBAwdgYmKCwMBAZGRk4IsvvpBPIxIRvYVeaIj8eQYGBoiJiQEALF68GPPnz8eTJ09w7949NGnSBFFRUVBTU8Mnn3wCAHByckK7du0AABERESgqKkJaWhqUlcvCunr1KkaMGFHr+j/66COYm5sjPDwcY8eOxS+//IKioiIMHTpU2qekpAQbN26Ejo4O7O3t8csvv+DAgQPo2rUrwsPDMXPmTHh7ewMArl27hu3bt+O7776DgoKCPJqI6F/H0NAQAJCWloaIiAgkJCTg119/RZcuXTBo0CAcO3YMu3fvxuDBg1FUVISSkhIoKyujS5cuiI+Pl15727dvh5WVFVavXg1FRUXY29vj9u3bUFJSkupaunQpunfvDgD466+/KsTi6ekpJZXXrl3D999/j5s3b6Jjx47Q09ODg4MDnJycKhz3fN1GRkb49NNPceDAAXz11VcAgNatW2P27NlS2Rs3bkR2dja0tLTk2JpERG8HuSaYycnJ0NXVBQD88ssv+M9//oN79+7B3NwcT58+lXoRK7N8+XJs3LgRubm5aN68ORQUFFBcXFyn+hUUFODh4YHVq1fj8ePHOHTokDQPq5yGhgZ0dHQAAJqamtDR0UFqaiqSkpJQWlqKgIAAfP/99wCA3NxcAEBSUhKMjY3rFAsRlUlKSgIA6Orq4u7duwAAFxcXvPfeewDKXmeWlpYAyr6YPn36FN7e3igqKkLbtm2xatUq2NvbIzExER06dICiYtnAi4WFBSwsLGTqKn//qUp5Pc/+n5qaihYtWlR73PN1l8/NTEhIqLRuDQ0NAEBRUVG15RIRvavkNkR++vRp3Lx5Ez169AAA+Pj4wMrKComJibhy5UqFD4JnRUdH45tvvsH48eORlJSEo0eP1jsODw8PFBUV4ejRozhx4gSGDh0q0/uYk5MjfSikp6cjNTUVBgYGMDAwAAC4ubnh7NmzOHv2LK5evYqrV69CT0+v3vEQ/ZuVlJTgv//9L9TV1eHo6Cj1ZgYGBsq8zsLDwwEAenp6WLduHRITE3H48GHEx8dj6tSpAABjY2PcuXMHpaWlAIB//vkHISEhMkPkNXl2RXl0dDQASK/96jxf961btwAAJiYmta6biOjf5IV6MDdv3gw1NTXExsZiz549MDU1xddffw0AKC4uRlpaGq5cuYK//voLUVFRUpKpra0NAPjf//6HVq1aSbcfPHiAP//8Ezt37qx3TLa2tmjbti2WL1+O/Px8meFxoGxO2BdffIHRo0djz549EEJgyJAh0NHRQd++fXH06FF06tQJhoaGWLFiBYyMjLB///56x0P0bxMUFARzc3NkZWXh8OHDuHLlCr799ltoamqiR48eMDIywoYNG9CoUSMUFBRg4cKFmDBhAvz8/NCnTx/cv38fy5cvR3FxMYQQUs/g6NGjMWPGDPj6+uLjjz/GqlWr8ODBA/Tp06fWsYWGhsLa2hqqqqrYvn07WrduDVtbWwBl70vXrl1DSEgI3N3dZY57vu7ly5dDU1MTbm5u8ms4IqJ3SX1WBpWvItfU1BTa2trC1tZWfP311yIlJUXa58iRI6JNmzZCX19fjBkzRnh4eIgPP/xQ2j5v3jxhaGgoOnbsKIQQIiAgQFhbWwtzc3OxevVqYW5uLiZPnlxtHM+vIi+3du1aoampKbp06SJzv5eXlzA2Nhbbt28XTZs2FZaWlmLlypXS9qysLDF+/HhhamoqTExMxKBBg8Tt27fr00RE/zrlq8jL/wwMDISzs7MICQmR2e/mzZvSKnIbGxsxadIkkZWVJYQQ4t69e2LIkCHC1NRUGBoaCk9PT+mqEKWlpeK7776TVpH37t1bXL58WQghZFaMl6tsFfnChQtF//79hZ6enujVq5e0ilwIIQ4ePChsbGyErq6uSEpKqrCKvLxuXV1d4ezsXGEVefm+QgixaNEioampKdLS0uTcykREbwcFIYR43UmuvJ08eRKurq4ICAjAxIkTpfvHjBmDY8eOycybIqJ3X0xMDOzt7bF06VJpUQ4REb08cl3k8ybYuXMn9u7dC01NTQwbNux1h0NERET0r/NOJZipqanw8/ODnp4efvjhBzRp0uR1h0RERET0r/NODpETERER0esjt8sUEREREREBTDCJiIiISM6YYBIRERGRXDHBJCIiIiK5YoJJRERERHLFBJOIiIiI5Kpe18GMiYmRdxxERERE9I7gdTCJiIiISK44RE5EREREcsUEk4iIiIjkigkmEREREckVE0wiIiIikismmEREREQkV0wwiYiIiEiumGASERERkVwxwSQiIiIiuWKCSURERERyxQSTiIiIiOSKCSYRERERyZVyfQ8sKChAfn4+iouL5RkPPUdZWRlqampQVVV93aEQERER1YqCEELU9aCCggLk5OS8jHioChoaGkwyiYiI6K1QryHy/Px8ecdBNWCbE9GbIjExEevXr3/dYVAVtm3bhri4uNcdBv3L1SvB5LD4q8c2p7dBVlYWvL29YWBgAAsLC/znP/9BaWmptP3ChQvo1q0bdHV14eDggCNHjtRYprOzMw4fPlzptsTERNja2iI2NhYAEBQUhPv371dZ1pYtW2BlZQUXF5cay66Lo0eP4tSpU9Ltbt26Ye/evS9crrw8307ViY6Oxu7du6vd57vvvqs2gWnevDmuXLlSq9ief0zqa/78+Zg5cyaAms+hpKQEPj4+MDIywpIlSxAREYHOnTu/UP0A8PTpUwQEBFS5vTZtKw/JyclYsmTJS6+HqDpv3SIfd3d3/P3333U+7s6dO3B1dUWPHj3g6uqK5ORkAGXf9Nzc3NCmTRt5h0r0r+Ph4QEVFRVERUXh8OHD+Pnnn/HDDz8AAJ48eYLBgwdj1KhRiImJgb+/P7y8vJCQkFDv+vT19bFgwQKYmZkBADZv3oz4+PhK9y0pKYG/vz82btyIAwcO1LvOyhw9ehSnT5+Wbvv7++Pjjz+Wax0v4vl2qk5NSVBxcTGCg4MxcuTIF47rZT0mNZ3D+fPnERYWhosXL2LatGlyqzcnJ+eNSDBHjRqFn3/+Gbm5uS+9LqKqyC3BvH379gu/UOsxHbTWgoOD0aNHD0RERODw4cMwNDQEAHh7eyMkJERu9VTVDn///TcGDx6M/v37o2/fvvjjjz+kbStWrMCnn36KPn36wNfXF4WFhXKLh+hVEUJg4MCBWLp0KfT19dGqVSsMGDBA6slKTk7G4MGD8fnnn6Nx48YYPHgwrK2tcf369RrLvnv3Lrp06QI9PT307dtXSiKLi4sxbtw45Ofno0OHDoiNjUXfvn0xfvx4meP3798PHR0dFBUVwd3dHVOmTKm0ns2bN8POzg76+voYOHCgTLJ66NAhODo6Ql9fHx07dsTZs2cBAL6+vti2bRsCAgKkL6orVqyQztvZ2Rlr1qxB165dYWRkBA8PDzx58kQq9+jRo/jwww+hp6eHCRMmYPz48fjuu+8qxJafnw8tLS2EhISgZcuWsLCwgI+PD/Ly8mqM/9l2Ki9n7969aNOmDYyNjTFv3jypnby9vXH69GkYGBjgzp07FeK4dOkSVFRU0LZtWwBlj3tAQAAsLS1hamqKoKAgmf3z8vIwefJkmJqawsbGBosWLUJRUVGVj0lV7Vwed1ZWllT2yJEjsWHDhgqPdXXn4Ovriz59+uDJkydo3749goODK5zjgwcP4ObmBn19fdjZ2cnUUVpaiqVLl0rtPGDAAKSkpCAhIQE2NjYAAAMDA+zYsaPGuPr27Yt169bJlG1ra4tjx44hIiICzs7OWLRoEWxsbNC8eXOZfQFgw4YNaNGiBUxMTODl5YXU1FQAgKmpKYyNjXHmzJkK50b0yoh6SEtLk/k7deqUaN26tTA3Nxddu3YVffr0kbbFx8cLT09P0bNnT9G1a1exfv16advnn38uNm3aJFxdXUWHDh2Ev7+/SEtLEwkJCWLMmDHCyclJdOzYUSxdulQ6xsnJSfj7+4tevXqJ1q1bi71791aI59m/lJQU0bVrV2Fubi5atmwpunbtKpycnGT2efjwoTAyMpK5r7q4AwICRJcuXYSzs7Pw9PQUKSkpNbZD7969xdGjR0VaWpo4fvy4aNOmjUhLSxNHjhwRn3zyiXj48KF49OiR6N+/v/jhhx8qPReit0lycrKwt7cXu3fvrnT7gwcPhJGRkUhMTKy2HCcnJ2Fraytu3LghcnNzxcSJE0XXrl2FEELk5eUJTU1N8fjxYyGEEB9++KE4efJkpeU8v2952eHh4UIIIQ4cOCAsLS3F9evXRV5enpg5c6awt7cXxcXFIjMzUzg6OoqIiAhRWFgo9uzZI5o2bSqVM3nyZPHtt99WWq6Tk5Po3r27SE9PF0+ePBHOzs7SvnFxcUJXV1ccOHBAFBYWii1btggdHR0RGBhYZfxDhw4VeXl5IicnR/Tu3VvMnj27xvifPffy/2fNmiXy8/PFP//8I4yNjcWpU6eEEEKEhISIPn36VPl4rFq1SgwfPly6vX37dtG0aVNx+/Zt8fTpU/Hll1+Kxo0bi8uXLwshhJg0aZIYPHiwyMjIEMnJyaJTp07S+T//mFTXzpU9fiNGjBDr168XQggxb948MWPGjFqdw7Fjx4Sjo2Olt0tKSsRHH30kZsyYIfLy8sT169eFpaWl2L9/vxBCiDNnzogePXqIW7duiby8PDFp0iQxZswYIYQQDx8+FJqamlXW+3xcP/74o/jkk0+k2ydPnhTW1taiuLhYHDt2TDRu3FgsXbpUCFH2XLGwsBBHjhyRyrKzsxMxMTEiNzdXjBs3Tri4uEhlTZgwQSxcuLDKWIheNrn0YLZo0QLTp0+Hk5MTwsLCsHPnTmlbUFAQ9PX1sXfvXuzcuROrV69GUlISAMDCwgKBgYGYM2cOfv31V6nnLygoCI0bN0ZISAhCQ0Nx4sQJpKSkyNS5Z88eLF++HGvXrq02NiUlJYSFhaFnz56YMmUKwsLCatVjWVXcQggUFBRg165d2L9/P548eSJ9S6yuHXbv3g17e3sIIRAdHQ1LS0sAgIODA0JDQ6GsrAwFBQUUFxejSZMmtWh1ojdTSUkJrK2t0axZM9jb22PYsGEV9snJyYGnpyemTZsGIyMjAMC0adNgYWEh/YWGhkr7f/HFF7Czs4O6ujpWrlyJGzduICYmRq5x//jjj/Dz80PLli2hpqaGJUuWID09HX/++Se0tbVx5swZdO/eHdnZ2WjUqBFSUlJqfTUNLy8vvP/++9DQ0MDAgQNx8+ZNAMCBAwfg5OSEQYMGoUGDBhg7dixsbW2rLWvGjBlQU1NDw4YNMXfuXKkHrrr4KzNu3DioqqrCysoKjo6OiI6OrtW5JCQkyAy1h4SEwM/PD82aNcN7772HZcuWSXPGi4uLsW/fPqxcuRKNGzeGgYEBZs2ahbCwsErLftF2loeLFy9KcxjV1NTQsmVLzJgxQ+qRdHR0xLFjx2BjY4O0tDTo6urWam5rZQYOHIjo6Ghp3vDBgwcxZMgQKCkpAQBUVVUxY8YMAIClpSW+/PJL6fHeuXMn/P39YWNjA3V1dSxduhSnTp1CWloaAMDMzOyFpp8Qvah6Xwezti5dugQfHx8AZZfaad26Na5fvw4jIyM0bNgQnTp1koYVyl28eFE6Rk1NDbt27ZLZ7uTkBKAsQc3MzHzlcevo6MDX1xfq6uq4c+cOMjIyalVmVFQUvL290bBhQ2zbtk1mW0lJCQICAmBiYoIuXbrI/XyIXhUlJSWcOXMG9+/fx4IFC+Dn54dVq1ZJ2/Py8uDh4YFWrVrJDFXPnTtX5vb7778v/f9sQqOmpgZDQ0M8fPiwVnMKayspKQlNmzaVOQ9LS0skJSWhqKgIc+fORXh4OPT09KQksKSkpFZla2trS/+rqqqiqKhIqrNZs2Yy+1pZWVVbVvn0HgAwNzdHamoqSktLq43/ww8/rDGm2i4kzMjIgJ2dnXQ7JSVFJmZtbW00atQIAJCZmYm8vDx07twZCgoKAIDs7GxoaWlVWnZ17ays/NI/rgCULYiysLCQqc/GxgaJiYkAgIcPH8LX1xfXrl2Dubk5NDQ0ZBay1YWWlhZ69+6NgwcPwsfHBz/99JNM8m1gYCC1G1D2eJ88eRJA2WdUZGQkZs2aJVNmamoqdHR00KRJE1y8eLFecRHJw2tZ5KOo+P/V6uvrV9guhKh2PqaKiorMvq+KoqIibt26hbVr12LVqlVYu3YtWrduXevj27Zti0uXLmH16tUYNWqUdOmh7OxsfP7559DV1cW33377ssIneqmePHkizS02MDBAhw4dMH/+fOzfv1/ap7CwEJ6entDT06sw+qCtrQ1jY2PpT11dXdr27Dy6vLw8JCUlySRa8mBkZCRTT0lJCe7evQsjIyP89NNPiIyMxJ9//okTJ07IbYWujo5OhUVJDx48qPaYZ2OMiYmBvr4+FBUVq41fnjQ1NfH48WPptoGBgUwPXkZGhjRPUltbG+rq6jh37hwSEhKQkJCA7OzsKnvWqmvn8oTv2Tmnjx49kuu5AYCxsTHu3bsnk3DHxsbC2NgYALB06VJoa2vj+vXrOHLkCDw9PV+oPg8PDxw6dAhnzpyBjo6ONLcVKOstLigokG7HxMRIz/sPP/wQGzdulNq1vG3Lk//MzExoamq+UGxEL0JuCaaKikqlPXkODg6IjIwEUHYJhxs3btSYlDk4OOD48eMAyj6QPDw8at3Vf+DAgQqTq2uiqKhY4RtoVXFnZGRAR0cHmpqaePToEa5cuSL1RgCVt4MQAh9//LE0LGZubo6cnBwUFxfj6dOnGD58OEaNGoVx48bVKW6iN0lpaSk8PT2xYsUKPHr0CHFxcVizZo208KW4uBhjxoxBUVERli1bhsePHyM9PV0mYajKzp07ERUVhZycHEyZMgVt2rSpMPIBlI02xMXF1bo3TkVFBY8ePYIQAqNHj0ZgYCCuX7+O3NxczJkzB02aNMFHH30EoOy9KDs7G+np6RUSTA0NDcTHx9f5erUDBgzAkSNHcPToURQXF2PXrl01XiVj6dKlePjwIRITEzFv3jxpCkJN8deWpqYmUlNTkZ2dXWnPnK2trcz0hKFDh0r1ZmdnY/r06VBTUwMANGjQAMOGDcNXX32F5ORkPH78GJMmTcLixYurrL+qdlZWVkbTpk2xfv16ZGVl4dChQzKXQlJRUUFaWhpKS0trPIfnNWjQANnZ2cjPz4eDgwMMDQ0xZ84c5Obm4vr161i+fDlGjx4NoOz9PDc3F3l5eYiLi5NZeKOhoQEAVT4HK4urV69eiI+Px44dOypMJ1FQUIC/vz+ePn2KixcvYvPmzdI+o0aNwqJFixAVFYW8vDxs27YNffv2lTpdYmJiZKZbhIeHy0zbInrZ5JZg2tvbIzU1FS4uLvDw8JCukTZ27FgkJydj5MiR8PLywsyZMyvttXzWF198gUePHmHo0KEYMWIE3NzcYGJiUqs4Ll++jPPnz9cpdkVFRbRq1Qqurq7Si7equO3t7aGpqYlx48Zh7dq1mDx5MrZu3Sr1OlTWDgoKCggICMD06dPRt29feHp6Yt68edDQ0MC+ffsQFxeHVatWoV+/fujXrx+2bt1ap/iJ3gSNGjXCoUOHcOzYMbRs2RLdunWDmpoafvzxRwDAsWPHEB4ejpMnT8LGxgaWlpawtLTE6tWrayx72rRpmDp1KqytrZGUlFRh2kw5Pz8/LF68GB4eHrWKeejQoZg1axa2bNmCQYMGYebMmfDw8IClpSVu3bqF0NBQKCkpYeDAgejVqxc6d+6MLl26VBhyHj16NC5fvgxra2uZL5w1admyJTZu3Ijp06fD0NAQp06dQv/+/as95vPPP0evXr3g4OCA9u3bY86cOQBQbfx10a1bN5iZmcHa2rrSIdaPP/4Yp06dkq52MXz4cIwbNw79+vWDnZ0dOnfuLNO7vHTpUtja2qJjx45o27YtsrOz8eWXX1Zad03tvGbNGvz8889o1qwZ/ve//6Ffv37SNhcXF5w8eRJeXl41nsPz2rdvj0aNGqFly5ZQUFBASEgIYmJiYGlpCXd3d0ybNg1DhgwBUDaV4+nTp7CxscGIESPg6uoqldOwYUP4+fnB0dERa9asqVXbqqioYMCAAQgJCanwvLWxsYGZmRlat24NT09PzJ8/H7169QIADBkyBFOnToWnpycsLS0RHByMxYsXQ0FBAUIInDhxAl27dpXKOnXqFI4dO1ZjWxDJS71+KjI9Pf1lxEI14OIfonePEEJmnt3w4cPh6OiIiRMnyuyXn58PPT09PHjwQJrj+Lo4Ojpi2rRpGDRo0GuN413xww8/4ODBg/jll1+k+yIiIjB//vx6XWooMjISPj4+uH79usxzi+hVeusutE5E9K5ISkpChw4dcO7cOZSUlODcuXOIjIxEhw4dXndo1Zo6dSo2bdr0usN46xUXFyMhIQE//vgjxowZI7dyN23ahKlTpzK5pNfq1SzLIyKiCoyMjPDVV1/h66+/xv3796Gvr48lS5bAwcHhdYdWrSFDhkhDxlR/Z8+ehbu7OwYPHizX3uDKLh5P9KrVa4g8KyuLv439iikrK7/2YTEiIiKi2qjXEHn5CkF6ddjmRERE9Lao1xC5qqoqgLJJ5+zJfLmUlZWhpqYmtTkRERHRm65eQ+RERERERFXhKnIiIiIikismmEREREQkV0wwiYiIiEiumGASERERkVwxwSQiIiIiuWKCSURERERyxQSTiIiIiOSKCSYRERERyVW9fsknJydH3nEQERER0TuCv+RDRERERHLFIXIiIiIikismmEREREQkV0wwiYiIiEiumGASERERkVwxwSQiIiIiuWKCSURERERyxQSTiIiIiOSKCSYRERERyRUTTCIiIiKSKyaYRERERCRXTDCJiIiISK6U63tgQUEB8vPzUVxcLM946DnKyspQU1ODqqrq6w6FiIiIqFYUhBCirgcVFBQgJyfnZcRDVdDQ0GCSSURERG+Feg2R5+fnyzsOqgHbnIiIiN4W9UowOSz+6rHNiYiI6G3BRT5EJDelpaVYtGgRrKysYGhoiIkTJyIvL6/CfoWFhdDS0oKWllaNZUZERKBz585Vbu/WrRv27t0LAIiOjsbu3bsr3S8/Px9aWlrIysqqdPusWbPg4+NTYzwA4OzsjMOHD9dq31ctMTERtra2iI2NrXa/upxvXTx8+BAuLi7Q19fH8ePHa3z8auvp06cICAiQQ4RE9Cq8dQmmu7s7/v777zofd+fOHbi6uqJHjx5wdXVFcnIyAGDbtm1wc3NDmzZt5B0q0b/Od999h8jISBw+fBgXLlxAamoqvvrqqwr7BQYGym3xmr+/Pz7++GMA1SeYNRk2bBhGjx79wvG8bvr6+liwYAHMzMyq3e9lne/27dshhEDosaBfAAAgAElEQVRMTAy6desmt3JzcnKYYBK9ReSWYN6+fRvTpk17oTLqsd6o1oKDg9GjRw9ERETg8OHDMDQ0BAB4e3sjJCREbvVU1Q4FBQWYOXMm+vXrh169euHIkSMy20tLSzF27Fi4u7vLLRaiV6m0tBQbNmzApk2bYGdnB1NTU2zevBmjRo2S2e/mzZvYunUrfvjhBzRp0qTW5S9btgyGhoawsbHBunXrpPtXrFiBK1euYP/+/fD29sbp06dhYGCAO3fuVFrO8ePH0apVKxgZGWHevHnS/QcPHkRoaKh0OzAwEFZWVjAxMcHmzZvRtm1bXLx4UdqekJAAZ2dn6OnpwcPDA0+ePKk2fmdnZ6xfvx5dunSBpaUl+vbti/j4eAD/37u6du1amJqaYsOGDQCADRs2oEWLFjAxMYGXlxdSU1Ol8v744w906dIF+vr66NKlC06cOAGgbDrNuHHjpHnbx44dQ6dOnWBpaQkXFxf8888/lZ5veXl6enro3LkzIiMjZWJfs2YNunbtCiMjoyrPt0OHDvj2229x5swZ2Nra4u7duxX2efDgAdzc3KCvrw87OzvpXAEgPT0d48ePh4WFBUxMTDBlyhSUlJQgISEBNjY2AAADAwPs2LGj2rYmotdPLgnmzZs3MX78eERGRsLNzQ0jR46Utj19+hSTJk3CZ599Bjc3NwQHB0vbZs6cidDQUHh5ecHFxQWBgYEAyt5sp0+fDnd3d7i6umLr1q0y9f3222/w9PSEk5MTjh07Vm1sJSUlcHNzw8GDBxEWFgY3N7daJXHVxb1lyxYMHDgQHh4emDRpEkpKSmpsh6CgIBgZGSE8PBw7d+6Ujim3cuVKtGzZssa4iN5UcXFxUFRURFxcHD755BO0bNkSK1asQKdOnaR9SktL4ePjgwULFsDAwKDWZd++fRuZmZm4e/cu9u/fj4CAABw9elRmHw8PD2zbtg1dunTBw4cP0bRp00rLioyMxIkTJxAeHo4tW7bg9OnTFfYJDg7G+vXrcfjwYcTGxuLKlStITEyU2Wf37t3YunUrrl69iqSkJJmktyqbNm3C/v37ERcXh3bt2sm8RwBAfHw8oqOjMX78eISGhmL9+vX4+eefERsbCzU1NYwZMwYAcP/+fQwdOhRTpkzBgwcPMGvWLAwfPhzp6eky5eXk5GD48OH4/vvvcffuXfTr1w87d+6sENez5SUmJsLPzw/Dhg3DvXv3pH1+/vln/PTTT4iJiUF6enql53vhwgVMmTIFEyZMqPQxKC0thbu7O5o1a4b4+HiEhIRg5cqV0pf8vXv3orCwEJcvX8a1a9fw119/4ccff4SJiYk05P/w4cMKX1qI6M0jlwSzRYsWmD59OpycnBAWFibzBhYUFAR9fX3s3bsXO3fuxOrVq5GUlAQAsLCwQGBgIObMmYNff/1V6vkLCgpC48aNERISgtDQUJw4cQIpKSkyde7ZswfLly/H2rVrq41NSUkJYWFh6NmzJ6ZMmYKwsLBa9VhWFbcQAgUFBdi1axf279+PJ0+e4MyZMzW2w2+//YaGDRti1KhRmDp1KkxMTKRthw4dQqNGjdCjR48a4yJ6U6WlpeHJkydYs2YNVq5ciaCgIPzxxx/w9/eX9tm0aRM0NDQqJFZAWY+ghYWF9Ne1a1dpm5KSEr755huoqanhgw8+wIQJE2S+9NWFr68vdHR00L59e3Tu3BnR0dEV9tmzZw+mTp0KOzs7qKurY9myZSgsLJTZZ+zYsbCysoKRkRHc3d1x8+ZNAMC0adNkzuPZXsKxY8fCyMgICgoKWLBgAaKjoxETEyNtnzJlCjQ1NaGoqIidO3fC398fNjY2UFdXx9KlS3Hq1CmkpaVh//79+OSTTzB48GCoqKigb9++uHnzZoUeYSUlJSgoKCAmJga5ubmYMGECFixYUOF8ny2vQYMGGDRoEHr06CHTxl5eXnj//fehoaGBgQMHSudbFxcvXkRycjKWLFkCNTU1tGzZEjNmzJB6JH18fLBt2zZoaGggIyMDenp6VfZEE9Gbrd4XWq+tS5cuSRPJNTQ00Lp1a1y/fh1GRkZo2LAhOnXqJA19lLt48aJ0jJqaGnbt2iWz3cnJCUBZgpqZmfnK49bR0YGvry/U1dVx584dZGRk1FheSkoKhBDYsWMHoqKiMGHCBJw5cwZRUVG4cOECvv3223rNLSV6U6ioqCAvLw/r16+HlZUVgLI5mQMGDMDq1atx//59BAYGygy9PsvQ0FD6sgaU/chAOSMjI5nbVlZWMvvWxbNJmLq6eqVXaEhKSkKzZs2k240aNaqQvD1fTlFREQBg7ty5mDJlirTt/ffflzmPcg0aNICBgQEePnwozZfU0NCQtl+6dAmRkZGYNWuWTL2pqalISkqq0DtY2YIpdXV1hIaGYsWKFZg+fTratWuHb775Bu3bt69wvs+XZ2NjI3UGAIC2trb0v6qqqnS+dZGYmAgLCwuZx9LGxkbqHT537hxmz56NzMxMWFpaIjMzs8JoDxG9HV56glkZRcX/7zjV19evsF0IUe18TBUVFZl9XxVFRUXcunULa9euxdGjR6GpqVnpAobKNGrUCN27dwcAtG3bFqWlpcjMzMSePXtw8+ZNuLm5IS8vDwkJCfD398fSpUtf5qkQyV3Tpk2hqKgIBQUF6b733nsPQNnrdNeuXcjMzISjoyMAIDs7GwBgYmKC8+fPw8TEBMbGxpWWnZCQgMLCQum1f+fOHWke9cugo6MjMzycm5tbqy+SQFki9mwy9qxne+Nyc3ORlJRU5Xl8+OGHGDp0KIYPH15hm5GREf766y+Z+5KSkmQS2HJdunRB165dUVhYiMDAQIwaNQo3btyosbzY2Fi5L340NjbGvXv3UFxcLCWZsbGx0uPu4+MDX19fqYfbz89PrvUT0asjt0U+Kioqlb4BOzg4SD0WT58+xY0bN9C6detqy3JwcMDx48cBlF3OxMPDAwkJCbWK48CBA3WeAK6oqIjS0tJaxZ2RkQEdHR1oamri0aNHuHLlisw3+araoUuXLggPDwdQNp9MQUEBjRs3xvLlyxEeHo6wsDCsWLECLVq0YHJJbyUtLS0MHjwYvr6+SEhIQFxcHL7++mt4eHhAQUEBEydOxNWrV3H27FmcPXsW27ZtAwCcPXu2xvmYSkpK8Pf3x9OnT3Hx4kVs2rQJw4YNq7CfpqYmUlNTkZ2dXeE1XReDBw/GqlWrcOfOHeTl5WHWrFlQUlKqd3nltm/fjqioKOTk5GDq1Klo06ZNhRGccqNGjcKiRYsQFRWFvLw8bNu2DX379oUQAh4eHjhx4gRCQ0ORl5eHw4cPw97eHg8fPpQp4969e7Czs8PVq1cBlPVoPvsFvdyz5eXn5+PAgQOIiIjA0KFDX/icGzRogOzsbOTn58PBwQGGhoaYM2cOcnNzcf36dSxfvlxazS6EwOPHj5Gfn4/Tp0/j0KFDUjnlvbtxcXEoLi7G06dP4e/vL7PwiYjeHHJLMO3t7ZGamgoXFxd4eHggLi4OQNmco+TkZIwcORJeXl6YOXNmpb2Wz/riiy/w6NEjDB06FCNGjICbm5vMnMXqXL58GefPn69T7IqKimjVqhVcXV2lD62q4ra3t4empibGjRuHtWvXYvLkydi6dSsePHhQbTtMmTIFt27dgqurK/z8/BAYGCjT00P0Lvj+++9hZGSErl274pNPPkH79u2xfPlyAGW9+GZmZtKfubk5jIyMYGZmJjNkWpnyVemtW7eGp6cn5s2bh169elXYr1u3bjAzM4O1tbXMiu+68vb2xrBhw9C9e3fY2NjAzs4Oenp69S6v3OTJkzF16lRYW1sjKSmpwvSfZw0ZMgRTp06Fp6cnLC0tERwcjMWLF0NBQQFmZmYIDg7GqlWrYG5ujmXLlmHv3r0VEnULCwtMmTIFI0eOhLGxMX7++Wf897//rVDXs+WZmpoiMDAQ+/btg4WFxQufc/v27dGoUSO0bNkSCgoKCAkJQUxMDCwtLeHu7o5p06ZhyJAhAMoWUAYHB8PS0lKaXlGuYcOG8PPzg6OjI9asWYP09HQcPHiw1p0PRPRq1eu3yJ9fqUivRl0u6UJEL0YIIfMl0MzMDOHh4Wjbtm29ynN2dsbUqVPh6uoqrxCJiN5Yb92F1omIXrbffvsNn376KeLj41FUVISgoCAAkFn4Q0REVXsti3yIiN5k3bp1Q2RkJD799FOkp6ejRYsWCA4Ohrq6+usOjYjorVCvIfKsrKxKL+1BL4+ysjIaNWr0usMgIiIiqlG9hsjV1NTkHQfVgG1OREREb4t6DZGrqqoCKPtJR/ZkvlzKyspQU1OT2pyIiIjoTVevIXIiIiIioqpwFTkRERERyRUTTCIiIiKSKyaYRERERCRXTDCJiIiISK6YYBIRERGRXDHBJCIiIiK5YoJJRERERHLFBJOIiIiI5Kpev+STk5Mj7ziIiIiI6B3BX/IhIiIiIrniEDkRERERyRUTTCIiIiKSKyaYRERERCRXTDCJiIiISK6YYBIRERGRXDHBJCIiIiK5YoJJRERERHLFBJOIiIiI5IoJJhERERHJFRNMIiIiIpIrJphEREREJFfK9T2woKAA+fn5KC4ulmc89BxlZWWoqalBVVX1dYdCREREVCsKQghR14MKCgqQk5PzMuKhKmhoaDDJJCIiordCvYbI8/Pz5R0H1YBtTkRUJjg4GFFRUa87DHrLxMbG4scff3zdYfxr1CvB5LD4q8c2p7fBuXPnYGdnBy0tLZn7Q0ND0a5dO+jq6sLFxQXx8fHVlhMREYHOnTtXub1bt27Yu3cvACA6Ohq7d++udL/8/HxoaWkhKyurjmcCzJ8/HzNnzpRub9myBVZWVnBxcalzWS/Ds21QlcTERNja2iI2Nlbu9T/bHi/Szs8LCgrC/fv3q9yenJyMSZMmQV9f/4XrqovmzZvjypUrFe7/+eefYW9vj3oMBtbarFmz4OPjI/dyqzqnV+lVPo8NDQ0xa9Ys3Llz54XKodp56xb5uLu74++//67zcXfu3IGrqyt69OgBV1dXJCcnAwC2bdsGNzc3tGnTRt6hEv2rHDt2DKNHj8bEiRNl7j937hxmzpyJVatWITo6Gp07d0afPn1QWFhY77r8/f3x8ccfA6g+wZSXkpIS+Pv7Y+PGjThw4MBLrau2nm2Dqujr62PBggUwMzOTa90vsz02b95c7ReQkJAQdOvWDQYGBnKtt74++ugjzJs3DwoKCi+tjmHDhmH06NEvrfzX6VU+jzU0NDBgwADs27fvhcqh2pFbgnn79m1Mmzbthcp4md8Ag4OD0aNHD0RERODw4cMwNDQEAHh7eyMkJERu9VTVDnl5eTh+/DicnZ0rfBiePXsWAwcOxKeffoovvvgCeXl5couH6FV5//33cerUKfTs2VPm/vXr12P27NlwcnKCrq4uZs+ejdWrV6OoqKjGMpctWwZDQ0PY2Nhg3bp10v0rVqzAlStXsH//fnh7e+P06dMwMDCosmfi+PHjaNWqFYyMjDBv3jzp/vT0dIwfPx4WFhYwMTHBlClTUFJSInPs/v37oaOjg6KiIri7u2PKlClVxhsREQFnZ2csWrQINjY2aN68uUzczs7OWLx4MVq1agVPT08AQGRkJBwdHaGvr49evXrJ9Cjl5+dj6tSpMDMzg5mZGaZMmSJNlylvAwCIi4uDq6srrKys0KFDBxw7dgxA2cjHuHHjpGMePHgANzc36Ovrw87ODhs2bJDqmj9/PqZOnYqhQ4fC1NQUjo6OuHHjRoVzrE17PBu3qakpfH19Zd7XDh06JJ1zx44dcfbsWQBAhw4dEBsbi759+2L8+PGVtvHvv/+OHj16yLTp4cOHpdtBQUH47LPPAABPnz7FhAkT0KxZM9jZ2WHlypXSfnl5eZg8eTJMTU1hY2ODRYsWSc9JIQQCAgJgaWkJU1NTBAUFVRoLAPz9999YtmwZgP9//BcsWAArKys0b968ygS8fN/Zs2fDzs4O3bt3R2xsLDw8PNCsWTP07NkTjx49AgAcPHgQoaGhAIAff/wRH3zwAQoKCgAAAQEBcHV1hRBCbuf0Lj+PnZyc8Pvvv1d57iQ/ckkwb968ifHjxyMyMhJubm4YOXKktO3p06eYNGkSPvvsM7i5uSE4OFjaNnPmTISGhsLLywsuLi4IDAwEUPZknD59Otzd3eHq6oqtW7fK1Pfbb7/B09MTTk5O0hOwKiUlJXBzc8PBgwcRFhYGNzc3uLu713hO1cW9ZcsWDBw4EB4eHpg0aZL0gVRdO4wbNw43btxAx44dZerJzc3F/PnzsXXrVhw9ehSDBw9GZmZmjfERvWnat29f6bDlhQsXoKuri8GDB8POzg4jRoyAnZ0dGjZsWG15t2/fRmZmJu7evYv9+/cjICAAR48eldnHw8MD27ZtQ5cuXfDw4UM0bdq00rIiIyNx4sQJhIeHY8uWLTh9+jQAYO/evSgsLMTly5dx7do1/PXXXxXmaHl4eEgjHg8ePMCmTZuqjfvq1atQVVVFbGwsjhw5gsDAQJm4T548id9++w27du1CfHw8Ro4ciXnz5iEhIQHDhg3DgAEDpKHm2bNnIzo6GpcvX8alS5dw7949LFmypEKd48aNg7OzM+Li4rBu3TqsW7euQqJcWloKd3d3NGvWDPHx8QgJCcHKlStlvmAfOnQI//nPfxAfHw9HR0fMmDGjQl21aY9n475y5Qpu374tTTd4/PgxVqxYgcWLFyMhIQGTJ0+WeucuXLgAGxsb/PLLL1W28/nz56udPvGswMBAZGZm4tq1azh58iSOHz8u9Y76+/sjMTER165dw6lTp3D06FEpAd2xYwe2bduG3377Dbdv38alS5eQmppaqzovXbqEVq1a4Z9//kFAQAAmTpxYZafB9evX4erqiujoaHzwwQfo3bs35s6di9u3b6NZs2aYP39+hWNGjx4Nc3NzfPfdd/jnn3+wceNGrFu3DgoKCnI9p3f1eezo6IirV6+yI+cVkEuC2aJFC0yfPh1OTk4ICwvDzp07pW1BQUHQ19fH3r17sXPnTqxevRpJSUkAAAsLCwQGBmLOnDn49ddfpZ6/oKAgNG7cGCEhIQgNDcWJEyeQkpIiU+eePXuwfPlyrF27ttrYlJSUEBYWhp49e2LKlCkICwurVY9lVXELIVBQUIBdu3Zh//79ePLkCc6cOVNjO+zYsQNff/011NTUZOo5d+4cWrRogSVLlsDd3R2XL1+Gnp5ejfERvS3S0tKwcOFCfP7559i3bx9UVVUxaNAglJaWIiEhARYWFtJf165dpeOUlJTwzTffQE1NDR988AEmTJgg80WvLnx9faGjo4P27dujc+fOiI6OBgD4+Phg27Zt0NDQQEZGBvT09Go1P6u6uFVVVaUPNEtLS3z55ZcycY8dOxbGxsZQVFRESEgIXFxc8Omnn6JBgwbw9vaGiYkJjh8/juLiYuzevRvLli2Djo4OdHV1sXv3bixYsKBCPCoqKkhMTERqaio6dOiAn376CUpKSjL7XLx4EcnJyViyZAnU1NTQsmVLzJgxAzt27JD26dmzJ1q1agVFRUWMGDFCaqe6eD5uHR0drFixAvv27UNhYSG0tbVx5swZdO/eHdnZ2WjUqBFSUlJqdWWSjIwM5OXlwdzcvFaxNGjQAJmZmbh//z50dHTw66+/wtzcHMXFxdi3bx9WrlyJxo0bw8DAALNmzUJYWBiAsmF4Pz8/NGvWDO+99x6WLVtW63nwxsbGGDJkCBQUFODm5gYFBQXcu3evyn0dHR0BAJ988gkMDQ3Rpk0bKCgowMnJCXFxcZUet27dOmzbtg3e3t7w9/eHhYWF3M/pXX0eGxkZQUFBoUJOQfJX7+tg1talS5ekyckaGhpo3bo1rl+/DiMjIzRs2BCdOnWCjY2NzDEXL16UjlFTU8OuXbtktjs5OQEoS1BfVm9fdXHr6OjA19cX6urquHPnDjIyMupdz8OHD3H16lUcPHgQ2tramDhxIvbv3y8NOxC97Ro0aIBJkyZJi2M2b94MExMTXLlyBe3atZO+oAFl130tZ2RkJHPbyspKZt+6aNKkifS/urq69MF67tw5zJ49G5mZmbC0tERmZmaFHpPKGBoaVhm3gYGBzHw8c3NznDx5Urr9bM9tUlIS9u3bh19//VW6Lzs7G2lpacjMzEReXp7M++N7771XaTwbN27EggUL4ODgAD09PUydOlUaJi6XmJgICwsLmVhtbGyQmJgo3dbW1pb+V1FRqdU0hudVFreNjQ3y8/ORkZGBJk2aYO7cuQgPD4eenh5sbW0BoFbtnpGRgQYNGkBDQ6NWsZQPzbu5uaGwsBDDhw/H3LlzpRg7d+4sPVbZ2dnS4rSUlBRYWVlJ5Whra6NRo0a1qrNx48Yyt1VVVatsx+cfz+eTqdLS0kqPMzExgbm5OS5cuCCN4sn7nN7V57GioiK0tbWRnp4OCwuLKs+fXtxLTzAro6j4/x2nlQ2pCSGqnY+poqIis++roqioiFu3bmHt2rU4evQoNDU18dVXX71QmVpaWmjXrh10dHQAlCXP9ek1IHpT2draynxQKSoqQl1dHUIIKCkpwdjYuNLjEhISUFhYKL3e79y5I82dlhcfHx/4+vpK01n8/PxqdVxNcRcUFEjXrY2JiakybgMDA3h6elY6HFxcXAx1dXXExsaibdu2AICsrCw0aNCgwge0qakptm3bBiEEjh8/Dnd3d3Tq1ElmIYyxsTHu3buH4uJi6cM5Nja2yvOor8aNG1eIOzY2Fmpqanj//ffx008/ITIyEn/++Sc0NTWRlpZW4yrichoaGigqKkJubq7UBg0aNJC5jFv5vEWg7MvEwoULsWjRIsTGxsLNzQ02Njbw8PCAuro6zp07V+nCEQMDA8TGxqJXr14AyhJbeayQl5eoqCgkJibi008/xapVqzBz5kxoa2vL9Zze1eexEAJZWVm1/pJC9Se3RT4qKiqV9uQ5ODggMjISQNm8xhs3bqB169bVluXg4IDjx48DAAoLC+Hh4YGEhIRaxXHgwAGZrvLaUFRUrPBNsaq4MzIyoKOjA01NTTx69AhXrlyR+XZUVTtU5aOPPsKlS5eQkZEBIQTOnj2LZs2a1Sl+ojeZt7c3li5diqioKKSlpWHSpElo0qQJPvjgg2qPU1JSgr+/P54+fYqLFy9i06ZNGDZsWIX9NDU1kZqaiuzs7Cp7fKoihMDjx4+Rn5+P06dP49ChQ9I2FRUVpKWl1bnM8rlw5XFv3ry50riBsvmM4eHhCA0NRX5+Ps6fPw97e3skJydDWVkZw4cPx8yZM5GSkoKHDx/C29sbCxculCmjtLQU9vb2CAkJQUFBAdTV1aGoqCjTwwOUvacZGhpizpw5yM3NxfXr17F8+XK5rE5WVlaGgoICHj16VCHulJQUTJ8+HZ999pn0ZaGwsBDZ2dlIT0+vMBdPQ0MDcXFxlQ7f6uvrQ1tbGzExMdJ9zZs3x/bt25GSkoKoqCiZYdyvv/4a/v7+yMrKgpqaGpSVlaGiooIGDRpg2LBh+Oqrr5CcnIzHjx9j0qRJWLx4MQBg6NChCAwMxPXr15GdnY3p06dXmN70uhQWFmL8+PGYNWsWvv/+e2zatAnXrl2T+zm9q8/ju3fvQkFBQeq9vHnzZqXD9fTi5JZg2tvbIzU1FS4uLvDw8JDmjowdOxbJyckYOXIkvLy8MHPmzBqvX/bFF1/g0aNHGDp0KEaMGAE3NzeYmJjUKo7Lly/j/PnzdYpdUVERrVq1gqurq/QCqipue3t7aGpqYty4cVi7di0mT56MrVu34sGDB9W2w5gxY+Dm5obDhw9j8+bNcHNzw19//QU9PT34+/tj5MiR6Nu3L1RVVTF06NA6xU/0JvPy8sLnn3+O4cOHo2XLlkhOTsbBgwcrDAc+z87ODqampmjdujU8PT0xb948qfflWd26dYOZmRmsra1x8eLFOsW2ZcsWBAcHw9LSEt999x0GDBggbXNxccHJkyfh5eVVpzJtbGxgZmYmxT1//vxK4wbKpvns3r0b33//PczMzODj44Pp06dLPUXffvst7OzsYG9vj44dO8LCwqLCB7OioiK+//57rFmzBmZmZpgwYQI2bNhQ4T2zfK5cTEwMLC0t4e7ujmnTpmHIkCF1Or/KKCsr47PPPkPHjh1x/fp1mbjt7e1ha2uLpUuXAgAGDhyIXr16oXPnzujSpQs+/PBDmbL8/PywePFieHh4VKhHQUEBXbt2RUREhHSfv78/CgsL0apVK8yYMQOjRo2Sts2cORN37txBixYt0K1bN/Tr1w+DBw8GACxduhS2trbo2LEj2rZti+zsbHz55ZcAgOHDh2PcuHHo168f7Ozs0LlzZ7n3ntdXQEAAmjRpgpEjR8LQ0BD/+c9/MG7cOBQWFsr1nN7V5/Hx48fx0UcfST2zt27dwoEDB/hjJi9BvX4qMj09/WXEQjV4dh4ZEb15IiIiMH/+/HrPFaWahYeHY/Hixbhw4cLrDuWd9S4/j3v27IlRo0bJXOWFXo637kLrRET079W3b18IIaQpTES1VT53laOEr8ZrWeRDRERUH4qKinWeCkEEAG3btuUi2leoXkPkWVlZ/G3sV0xZWbnWl8kgIiIiep3qNUT+pqym+zdhmxMREdHbol5D5OWrr/Lz89mT+ZIpKytDTU1NanMiIiKiN129hsiJiIiIiKrCVeREREREJFdMMImIiIhIrphgEhEREZFcMcEkIiIiIrligklEREREcsUEk4iIiIjkigkmEREREckVE0wiIiIikismmEREREQkV/X6qcicnBx5x0FERERE7wj+VCQRERERyRWHyImIiIhIrphgEhEREZFcMcEkIiIiIrligklEREREcsUEk4iIiIjkigkmEREREckVE0wiIiIikismmEREREQkV0wwiYiIiEiumGASERERkVwxwbegTd4AACAASURBVCQiIiIiuVKu74EFBQXIz89HcXGxPOOhWlJWVoaamhpUVVVfdyhEREREMhSEEKKuBxUUFCAnJ+dlxEN1pKGhwSSTiIiI3ij1GiLPz8+XdxxUT3wsiKgmwcHBiIqKet1hUA1+//13REZGvu4wiOSiXgkmh8XfHHws6E1y7tw52NnZQUtLS+b+0NBQtGvXDrq6unBxcUF8fHy15URERKBz585Vbu/WrRv27t0LAIiOjsbu3bsr3S8/Px9aWlrIysqq45lUbtasWfDx8anXsVu2bIGVlRVcXFzkGldQUBDu379f5fbk5GRMmjQJ+vr6NZZVUlICHx8fGBkZYcmSJRXiBmTbvjq13a8mNZ3f+fPn8cEHH8DY2BjZ2dkvVNeYMWOgpaVV6d+5c+cQExMjc5+xsTG8vLyQnp4OANL259+Xr127Bl1d3RrrV1ZWxsSJE1FSUvJC50H0JnjrFvm4u7vj77//lusxR44cgZOTE3r16gVvb28AQG5uLv6PvXuP6/H+Hz/+6FwTcuggSQ6xImzSaOiTs7C8UYhaM5tsY06tHD7YmskIc5jDfGwTcoiIbZlD+y1bpk/Oh5EhKjSJlJLo90e3rk9vpd7V29fwvN9u3W66XtfrdT2vV7p6Xq/X67reKpWKTp06sXbt2mrFLMTLYO/evbz99tt8+OGHatvj4+MJCgpi0aJFnDlzhjfffJO+ffuSn59f5WMFBwfTtWtXoPwEU9uGDRvG22+/Xel6Dx8+JDg4mBUrVrBt2zatxrRq1apyE/atW7fi5uaGlZVVhW0dOnSIqKgoEhISmDJlSplxl+z78mi6X0UqOr/PP/8cT09Pzp07V+rGprJWr15Neno66enptG/fniVLlijfd+zYUdnv+vXrpKen88cff5Cfn1/q/3xVde3aFT09PeLi4rTSnhDPktYSzHPnzjFlypRqtVGF5aBasXz5ckJDQ/n555+VZPKVV14hKiqKIUOGaO04H3zwASkpKWrbHj16xNWrV/niiy9wcXEpVWfNmjX079+f7t27ExYWprVYhNC2unXrEhcXR8+ePdW2L1++nGnTpuHu7o65uTnTpk1j8eLFPHjwoMI2582bR4MGDbC3t2fZsmXK9vnz53P06FG2bNnCqFGjOHjwIFZWVly4cKHMdn7++WdatGhBgwYN+Oijj8jNzQWKRkrd3d0JCAjA3NycEydOkJGRQUBAAHZ2dtjY2DBx4kRlRGn79u1ERkYCMGvWLCZNmsTQoUNp1KgRrq6unD59utSxt2zZQv369Xnw4AFeXl5MnDix1D55eXlMmjQJW1tbGjVqxIQJE5QYAXbs2IGrqyuWlpZ07NiR33//HQAXFxeSkpLo168fAQEBZZ77/v376dGjh/J9cnIynp6eWFpa8vrrr7N161YAJkyYQN++fbl79y7t27dnypQpZcZd3PePx21ra8vEiROVZTsl98vNzeXjjz+mUaNG2Nvb89lnnyk//3379tGtWzdmz55N06ZNefXVV5VktrzzS0lJwcrKil9//ZWFCxfi6uoKwNWrV1GpVFhaWuLo6MjXX3+t1Jk1axZjx46lR48eNG7cuFRfGRgYYGxsjLGxMTo6OqW+L2ZoaIixsTE2NjZMnTqVmJiYSt0w7d27l06dOtGkSRM8PDz466+/ANDR0eFf//oXBw4c0LgtIf6ptJJgnj17loCAAGJjY1GpVPj6+iplOTk5jB8/nuHDh6NSqdi8ebNSFhQURGRkJP7+/nh4eCgJVF5eHoGBgXh5edG/f3/WrFmjdrw9e/bg4+ODu7s7e/fu1SjGXbt24evrS69evZQ1LidOnEClUpGUlERISAgqlYrZs2dX2Na+fftQqVT4+Pjw7rvvcvPmTQAePHjAxIkT8fb2xtPTUy3u2bNnExsby5gxY1CpVOzatUuJ68svv8TV1bVUgp2QkMCvv/7Kjh072LNnD9bW1tUa9RHiaWrfvn2Z07CHDx/G3NycwYMH4+joyMiRI3F0dKRGjRrltnfu3DkyMzO5dOkSW7ZsYe7cucTExKjt4+3tzdq1a+ncuTPXr1+nefPmZba1fv164uPjOXbsGMePH+fzzz9Xyo4ePYqbmxspKSk4OTkRERFBfn4+R44c4cSJE/z3v//l+++/L7PdHTt28O9//5vk5GRcXV355JNPSu3j7e3NtWvXgKLkZ+XKlaX2mTZtGmfOnOHIkSMcPXqUc+fOERQUBMDt27eZP38+ISEhpKSk8PHHHyujqIcPH8be3p4ffvihzHahaFSyeLnBw4cPGTJkCB07duTKlSt88803fPzxx8TFxbF48WK2b9+Ok5MT169fZ+nSpZWKOzExkcuXLytT6yUFBweTmprKiRMniIuLIyYmhgULFijliYmJtG7dmr/++ou5c+fy4YcfkpubW+752djYcP36dZydndm4cSMnTpzg0aNHeHl50aJFC5KTk9m6dSsLFixQkmgoutkIDQ3l4sWLZfZXZRkYGFBYWMijR4802j87O5sRI0bw1VdfcenSJQYMGEB4eLhS7urqSnx8vFZiE+JZqvJrikpycHAgMDCQAwcOqF00oGjKwdLSkiVLlpCdnU3Pnj3p0qUL1tbW2NnZERYWxrp167C3t1erU6dOHebPn09eXh6jR49mwIABan+8Nm7cSEJCAiEhIaVGTMqip6dHeHg4Z8+eZcyYMbi7u9OmTRuioqJwc3Pjm2++oUGDBhW2c/fuXaZPn87u3bsxNzdn5cqVLFy4kC+++IKMjAzatm3LokWLyM/P54033mDkyJEYGxsze/Zs4uPjWbVqFTY2Nkp7np6eeHp6lrl26Oeff6ZVq1aMHTuWzMxMhg0bhqGhYYUxCvFPcvPmTT799FNCQkKwsbFh8eLFDBo0iEOHDpGWlkbnzp2VfRs1aqRMD+rp6fH555+jr6/Pa6+9xtixY9m8eTN9+vSpdAzTp0+nXr16AISEhDB69GglEWrcuDHDhw9X9i1eY5mfn8+VK1ewsLB44shoz549ad26NQAjR45EpVJVOraCggI2bNjAzz//TP369YGi0b9u3bqxYMECzMzM+O233wDIyMigdu3a3Lhxg+zsbExNTctt+9atW+Tm5iqjdf/973/Jyclh6tSpQNFNwciRI9mxYwddunSpdtwbNmwo9VaLgoICNm3axB9//EGdOnWAorWsISEhShwNGzZUZotUKhUffPABly9fxsHBoVIxJSQkcO3aNebMmYO+vj6tWrXik08+Yd26dXh5eQHQt29fnJ2dK9Xuk+Tl5fH111/TtWtXjI2NNaqjp6eHjo4O58+fp3Xr1owdO1at3NbWltTUVK3EJ8SzpJUEszyJiYnKBdvU1BQnJydOnTqFtbU1NWrUoFOnTmrJJRRdJIrrGBsbs379erVyd3d3AOzs7MjMzNQojuK1QA4ODspF18TEpNLn8+eff9KkSRNlwXbXrl2VpQF169YlLS2N999/H2NjY/Ly8sjMzNQocS3LjRs3lAtYdnY2np6etGvX7omjNEL8ExkYGDB+/HjlIZHim6yjR4/Srl07JXmCooccillbW6t937RpU7V9K6NRo0bKv5s1a0Z6eroy4vR4khYfH8+0adPIzMykSZMmZGZmPvGhCzMzM+XfhoaGGk37Py4zM5Pc3Fy166C9vT15eXncunWLevXqMWPGDHbt2oWFhQUtW7YE0OhBkFu3bmFgYKCcY2pqKikpKWo3uVlZWQwaNEgrcb/yyitP3O/NN99UppmzsrLU1ksWJ57FjIyMqtSXqamp2NnZqf2/sbe3V0vYKho510TxMbKzs2nXrh3ffvstgHJ+j89GFRYWKmUmJiZERkYyf/58AgMDadeuHZ9//jnt27cHoF69espDQ0I8z556glkWXd3/zcyXNaVWWFhY7nrMkqN4mq7bLHnBAdTW01RX8fls2rSJy5cvs2rVKnR0dJQLRlXVqlWLjh07YmBgQJ06dXjttdc4d+6cJJjiudKyZUu13zddXV1MTEwoLCxET0+Phg0bllkvJSWF/Px85ff9woULVb5Z++uvv5S6Fy5cwNLSUu06VNJHH33EhAkTlKU+kydPrtIxNVWnTh1MTExISkqibdu2ACQlJWFsbEzdunXZuXMnsbGx/PHHH9SsWZObN29q/HS2qakpDx484N69e7zyyis0aNCARo0alblWVBtx37lzBwMDA7VE08zMDBMTE+Lj47G1ta32ccvTsGFDLl++TEFBgXLNT0pKeuL/sar6/fff0dPTo1atWtSsWVPZbm5uroxOtmrVStl+7tw5tb91nTt3pkuXLuTn5xMWFoafn5/yM8nMzKxwZFqI54HWHvIxNDTk1q1bpbZ36NBBWfOYk5PD6dOncXJyKretDh06KIuc8/Pz8fb2LvVwzJNs27aNdevWldp++PBhoGgEsn79+hpPZ+jq6qqtrXn11Ve5fPmycocZFxenJJIZGRk0adIEHR0dDh48SHZ2ttrrKgwMDDQecYWii9BPP/1EQUEB9+7d4/jx46VGe4X4pxs1ahShoaEcP36cmzdvMn78eOrVq8drr71Wbj09PT2Cg4PJyckhISGBlStXMmzYsFL71axZk/T0dLKysp64Du7LL7/k+vXrpKamMmPGjDLbKVZYWMjt27fJy8vj4MGD7Nixo3InrAF9fX10dHT4+++/0dfXZ8SIEQQFBXHjxg1u3LhBYGAgw4cPV5Lr/Px8srKyyMjIKLXG0dTUlIsXL5b5yjJLS0vMzMw4f/48UPTQzCuvvML06dPJyckhOTkZDw+PUmtbNT2HknFfv36dUaNG8emnn6rtZ2BgwLBhw/jggw+4du0at2/fZvz48YSEhGh0nPLO73EdOnSgQYMGTJ8+nXv37nHq1Cm+/PLLKj35Xx5ra2saNmyollxCUTI9ZMgQRowYwa+//kpKSgo7duxg8uTJjB49GoDLly/j6OjIsWPHgKIRzZKDJufPn1dGqaFonX7JNZpCPC+0lmA6OzuTnp6Oh4cH3t7eygLq0aNHc+3aNXx9ffH39ycoKKjC97G99957/P333wwdOlRZ11RySqc8R44c4dChQ2rbHj58qLxKYtKkSRpf2ABl+sPLy4vt27dTs2ZN5syZQ0BAAL6+vhw7dowJEyYAMHDgQH777TfGjx/PmTNnGDJkCNOnT1fa8vb25oMPPmDQoEHMmzcPKHpgSaVSMXLkSO7cuYNKpSIwMBCA3r1707p1azw9PVGpVLz99tu0aNFC49iF+Cfw9/fn3XffZcSIEbRq1Ypr166xfft29PT0yq3n6OhIo0aNcHJywsfHh5kzZ9KrV69S+7m5uWFra0uzZs1ISEgos62xY8fSq1cvOnToQPv27dV+Lx/3zTffsHnzZpo0acLChQvx9PSs3AlrQF9fn+HDh9OxY0dOnTrFF198gaOjI87Ozjg7O9OyZUtCQ0OBoutKr169ePPNN+ncuTOvv/66WluTJ08mJCQEb2/vUsfR0dGhS5cu7Nu3DyhK2rdt28aff/5Js2bN6NOnDx06dKB79+5VOo+ScXfs2BE7O7tSCSZAaGgoLVu2pGPHjrRt25asrCzef/99jY5R3vk9TldXl61bt3L+/HmaNGmCl5cXU6ZM0erbQCqyfPlyPD09GTNmDO3atePTTz9l6tSpjB8/HiiaXp84cSK+vr40bNiQ6OhoZYodIDY2Vm09bFxcnMYPswrxT1Klj4qU9SH/LMUPLwghxON27dpFSEiIMosj/rnu3LmDg4MDBw8epGnTps86HCGq5bl70boQQgjN9evXj8LCQvkIwudAeHg4vXv3luRSvBBkBPMFICOYQgghhPgnqdII5uNPZItnR34WQgghhPinqVKCqekT2OLpk5+FEEIIIf5pqjT8VfxJDXl5eRq9OkJon76+PsbGxqU+NUMIIYQQ4lmr0hpMIYQQQgghnkSeIhdCCCGEEFolCaYQQgghhNAqSTCFEEIIIYRWSYIphBBCCCG0ShJMIYQQQgihVZJgCiGEEEIIrZIEUwghhBBCaJUkmEIIIYQQQquq9Ek+2dnZ2o5DCCGEEEK8IOSTfIQQQgghhFbJFLkQQgghhNAqSTCFEEIIIYRWSYIphBBCCCG0ShJMIYQQQgihVZJgCiGEEEIIrZIEUwghhBBCaJUkmEIIIYQQQqskwRRCCCGEEFolCaYQQgghhNAqSTCFEEIIIYRWSYIphBBCCCG0Sr+qFe/fv09eXh4FBQXajOe5p6+vj7GxMUZGRs86FCGEEEKIZ0KnsLCwsLKV7t+/T3Z29tOI54VhamoqSaYQQgghXkpVmiLPy8vTdhwvHOkjIYQQQrysqpRgyrR4xaSPxMsoPT0dHx8fLC0tadq0KTNnzuThw4fl1pk1axZBQUFPLHdzcyMiIgKAmJgY4uLiKh3X1KlT+eijjypdr7q+//57vLy8yiwreV7lOXPmDBs2bNB2aEII8VQ9dw/5eHl5cfLkySrV7d27NwkJCVqOSAhRbNy4cejr63P8+HF++OEHdu/ezTfffFOtNoODg+natStQlGAePHiw0m0MGzaMt99+u1pxaFvJ8yqPJJhCiOeR1hLMc+fOMWXKlGq1UYXloJWyc+dO2rdvr/H+69atIzIystT26Ohohg0bhr+/P/7+/qSlpWkzTCGeWydPnuSdd97BysoKBwcH+vfvz4kTJyqsl5eXh6+vL+bm5nTo0IHY2FilbP78+Rw9epQJEyawdu1a5s6dS5s2bcpsZ+/evXTq1IkmTZrg4eHBX3/9BcD27dvVfpfDwsJo2rQpNjY2rFq1irZt2yo3n926dWPJkiV06dIFa2trvL29uXv3rlI3NjYWV1dXLC0t6dWrF0ePHlXKzp49S48ePbCwsKBnz57cuHHjiedcfF7lHXPLli2MGjWKgwcPYmVlxYULFwD4+uuvcXBwwMbGBn9/f9LT05V2Y2JieP3117GwsGDs2LEEBASwcOFCpfxJdfft24e7uzsBAQGYm5tr9HMTQogn0UqCefbsWQICAoiNjUWlUuHr66uU5eTkMH78eIYPH45KpWLz5s1KWVBQEJGRkfj7++Ph4UFYWBhQ9McmMDAQLy8v+vfvz5o1a9SOt2fPHnx8fHB3d2fv3r0Vxrdr1y5UKhUuLi4kJiYq2/Pz8+nYsSNhYWGMGzeOAQMGcPnyZQAiIyNZunQpS5YsQaVSERoaqpzPzJkz+fbbb/nuu+/o3Lkzy5cvr3LfCfEi6dWrF+Hh4dy+fZuLFy+ye/duevbsWWG9iIgIVCoVaWlpjBs3Dh8fn1LJ2eLFixk1ahRTp04tM/nJzs5mxIgRfPXVV1y6dIkBAwYQHh5ear/NmzezfPlydu/eTVJSEkePHiU1NVVtn+joaHbu3Mn58+fJyMhg2bJlACQnJ+Pr68vMmTNJSUlh2LBheHp6cufOHR48eICXlxeurq5cvXqVOXPmKPU0UdYxvb29Wbt2LZ07d+b69es0b96cyMhIli9fTnR0NElJSRgbG/POO+8AcOnSJfz8/JgxYwapqam0b9+ebdu2Kccory7A0aNHcXNzIyUlBScnJ41jF0KIx1X5NUUlOTg4EBgYyIEDB1iwYIFa2erVq7G0tGTJkiVkZ2fTs2dP5S7dzs6OsLAw1q1bh729vVqdOnXqMH/+fPLy8hg9ejQDBgzA0tJS2Wfjxo0kJCQQEhJS4R+wAQMGMGDAgFJTZLq6uty4cYMePXrQtm1bvvnmGzZu3Mi0adMYMmQIJ0+exMnJiSFDhih1DA0NqVGjBpmZmZiYmHDnzh21uIR4mQUGBjJgwABsbW2Bot89Dw8PoCi5KTnLMWTIEOV64erqyqBBgwDw8/Njw4YN7N69m3fffVfjY+vp6aGjo8P58+dp3bo1Y8eOLXO/jRs3MmnSJBwdHQGYN28eGzduVNvH39+funXrAjBw4EBldHPr1q14eHjQp08fAEaNGsWaNWs4cOAAFhYW5OTkMHv2bHR1dXFxcWHYsGFcunRJo/ifdMzHhYeHExwcrFwzQ0NDsbW15ebNm2zbtg13d3elL0ePHs13332nUV2Axo0bM3z4cI3iFUKI8jz1NZiJiYl0794dKHp1j5OTE6dOnQKgRo0adOrUSS25BEhISFDqGBsbs379erUkzt3dHQA7OzsyMzOrFZ+hoSFt27YFwMrKqsL2DAwMCA4O5q233uKtt95iz549+Pn5VSsGIV4EDx48wNPTk+HDh3P16lXOnDlDQUEBkydPBqBfv3789ttvyteMGTOUusUJabGmTZuWO71cFhMTEyIjI9myZQvNmjWjb9++ajMWxdLS0mjRooXyfe3atalXr57aPmZmZsq/jYyMePDggVJ306ZN2NjYKF+nTp3i5s2b3Lhxg8aNG6Or+7/LapMmTTSO/0nHfFxiYiIffvihcvzWrVsDRQ9YPX5uUNSXmtSFomu0EEJog1ZGMCur5AW4rNG/wsLCctdjGhoaqu1bHXp6eqWOXZ7U1FSWLFnCL7/8gqmpKdHR0XzyySesXr26WnEI8bw7c+YMV69eZcqUKejo6FC7dm0CAwMZOHAgy5Ytw8TEhIYNG5ZZt3itZLELFy7QoUOHSsfQuXNnunTpQn5+PmFhYfj5+XH69Gm1ferXr68shQG4d+8et27d0qh9KysrfHx8WLlyZamy33//nUuXLvHw4UPluvL4eWnD66+/ztChQxkxYkSpsvr16/Pnn3+qbbt69Srt2rWrsK6sJRdCaJPWRjANDQ3LvEiXXLCfk5PD6dOnK1zb06FDBw4cOAAUrZP09vYmJSVFozi2bdvGunXrKhl92QwMDEqNaN6+fRsoGi0BqFWrlrJNiJeZra0turq6LFu2jIyMDFJSUvjqq69o1apVhXWPHDlCREQEubm5rF27ltOnT9O/f/9S+5mampKcnFzme2YvX76Mo6Mjx44dA4p+R0vejBYbPHgwixYt4sKFC+Tm5jJ16tRSN5pP4u3tza5du4iMjCQvL49Dhw7h7OzMtWvXcHFxwczMjOnTp3Pv3j0OHjzI9u3bNWq3PDVr1iQ9PZ2srCwePXqEn58fn332GcePH1f6q1+/fhQWFuLp6clPP/1ETEwMBQUFrF+/Xu2tG+XVfVxOTg7BwcFqDxAJIYSmtJZgOjs7k56ejoeHB97e3ly8eBEoWgN07do1fH198ff3JygoqMI1i++99x5///03Q4cOZeTIkahUKmxsbDSK48iRIxw6dEht27Bhw/Dy8uLYsWPMnDlT+XdF+vbty/r16/H09FSmwVu1akX//v0ZMmQIvr6+rFixglmzZmkUmxAvsjp16hAVFUV0dDQODg507NgRXV1dtTWAT/L222+zd+9emjVrxqpVq4iIiMDCwqLM/Y4cOUKzZs1KTSHb2dkxceJEfH19adiwIdHR0Xz77bel2hg1ahTDhg2je/fu2Nvb4+joWOaxymJnZ8eGDRv46quvsLW15aOPPiIwMJAGDRqgr6/P1q1bSUxMpHHjxoSEhDBp0iSN2i2Pm5sbtra2NGvWjISEBIYMGcKkSZPw8fGhSZMmbN68mZCQEHR0dGjVqhUrVqxQYoqLi+Ott95S2iqv7uMyMjLYvn27xjf3QghRUpU+KjIjI+NpxPLCeXxdlxDin6GwsFAtqbK1tWXXrl3Keuzn2ePnNmLECFxdXfnwww+fYVRCiJfNc/eidSGEqI49e/bQp08fkpOTefDggbJ++vGHY55HaWlpuLi4EB8fz8OHD4mPjyc2NhYXF5dnHZoQ4iXzTB7yEUKIZ8XNzY3Y2Fj69OlDRkYGDg4ObN68WVlX/Tyztrbmgw8+YNy4cVy5cgVLS0vmzJlTpQemhBCiOqo0RX7nzh35rO0K6OvrU7t27WcdhhBCCCHE/7kqTZEbGxtrO44XjvSREEIIIV5WVZoiNzIyAoo+0lFGMtXp6+tjbGys9JEQQgghxMumSlPkQgghhBBCPIk8RS6EEEIIIbRKEkwhhBBCCKFVkmAKIYQQQgitkgRTCCGEEEJolSSYQgghhBBCqyTBFEIIIYQQWiUJphBCCCGE0CpJMIUQQgghhFZJgimEEEIIIbSqSh8VmZ2dre04hBBCCCHEC0I+KlIIIYQQQmiVTJELIYQQQgitkgRTCCGEEEJolSSYQgghhBBCqyTBFEIIIYQQWiUJphBCCCGE0CpJMIUQQgghhFZJgimEEEIIIbRKEkwhhBBCCKFVkmAKIYQQQgitkgRTCCGEEEJolSSYQgghhBBCq/SrWvH+/fvk5eVRUFCgzXheaPr6+hgbG2NkZPSsQxFCCCGEeGp0CgsLCytb6f79+2RnZz+NeF4KpqamkmQKIYQQ4oVVpSnyvLw8bcfxUpH+E0K8jOLj49m1a9ezDuOllpSUxPfff/+swxAvgSolmDItXj3Sf+JFlZ6ejo+PD5aWljRt2pSZM2fy8OHDcuvMmjWLoKCgJ5a7ubkREREBQExMDHFxcVqNuSIlj/9/afTo0SxZsqTU9tTUVFq2bElSUlKFbTyL/irPhAkTnun1Lzo6GmdnZ6owcfdMXLx4ESsrK432Xb16NVeuXKlwvwYNGjB16lQuXLhQ3fCEKNdz95CPl5cXJ0+e1Gqbt27donnz5lptU4iX0bhx49DX1+f48eP88MMP7N69m2+++aZabQYHB9O1a1egKGE6ePCgNkKt0vH/CSwtLZk9eza2trYV7vss+utJjh49yvXr1+nfv/8zi+GNN95g5syZ6OjoPLMYnpZVq1aRnJxc4X6mpqZ4enqyadOm/4OoxMtMawnmuXPnmDJlSrXaeFZ3lXXr1q1U0vro0SMGDhxY5vbQ0FBGjhyJr68vQUFB5OfnazNUIf7RTp48yTvvvIOVlRUODg7079+fEydOVFgvLy8PX19fzM3N6dChA7GxsUrZ/PnzOXr0KBMmTGDt2rXMnTuXNm3alNlGrVq1uHPnjrLN19eXVWySNgAAIABJREFUr7/+GoBu3bqxZMkSunTpgrW1Nd7e3ty9e1fZd+HChbRp04bmzZvz/vvvc+/ePbXjA+Tk5PD+++9jZWVFq1atiIyMxNzcXO34ERERtGnThoYNGzJz5ky1GL/++mscHBywsbHB39+f9PR0pWznzp20a9cOCwsLPvjgAx49elRmXxUUFDBmzBjy8vLKPWZZ/ZWbm8vHH39Mo0aNsLe357PPPuPBgwdK2zExMbz++utYWFgwduxYAgICWLhwYYV19+3bh7u7OwEBAZibm5f5M9+/fz9du3bFwMBAo1hKKq/fK+PkyZPMmzdPiblbt25MmzYNR0dHunfvTlJSEt7e3rRo0YKePXvy999/A/+7tjs6OmJpaYmnpyc3btyodr89LisrS/n9adWqFYcOHVLKyovBxcWFpKQk+vXrR0BAAAA7duzA1dUVS0tLOnbsyO+//6605e7uzv79+yvdf0JUhlYSzLNnzxIQEEBsbCwqlQpfX1+lLCcnh/HjxzN8+HBUKhWbN29WyoKCgoiMjMTf3x8PDw/CwsKAogt1YGAgXl5e9O/fnzVr1qgdb8+ePfj4+ODu7s7evXsrjK/kqOfff/9N586dlbLQ0FBUKhVt27ZVq/Pll18yY8YMJk6ciLe3N/Pnz1fKBg0axNmzZ1GpVKhUKi5fvgzAr7/+yokTJ1i/fj3h4eFkZGSwZ88eDXtRiOdfr169CA8P5/bt21y8eJHdu3fTs2fPCutFRESgUqlIS0tj3Lhx+Pj4qP0BB1i8eDGjRo1i6tSpGiWtZYmOjmbnzp2cP3+ejIwMli1bBkBsbCxr1qxh3759nDlzBn19ffbt21eqflBQEFeuXOH06dPs379fqV/SyZMnSUhIIC4ujrVr1yojiJGRkSxfvpzo6GiSkpIwNjbmnXfeAYpu0EePHs3nn39Oamoq7dq1Izo6WuPzKuuYZfVXcHAwqampnDhxgri4OGJiYliwYAEAly5dws/PjxkzZpCamkr79u3Ztm2bcozy6kLRCKWbmxspKSk4OTmVijE+Pl7t2ltRe5Xt96o4deoU/fv358yZM7z22mv07t2bGTNmcO7cOVq0aMGsWbMAOHToEPv37ycqKork5GTs7OyYOnWqVvqtpEmTJpGRkcGZM2fYu3cvK1asUMrKi+Hw4cPY29vzww8/sHLlSm7fvs38+fMJCQkhJSWFjz/+mLfffltpy9XVlWPHjpGbm6uVfhSiLFpJMB0cHAgMDMTd3Z2oqCjCw8OVstWrV2NpaUlERATh4eEsXryYtLQ0AOzs7AgLC2P69On8+OOPygjo6tWrqVOnDlu3biUyMpJffvml1B+bjRs38uWXX7J06dJqxR4cHExUVBT6+upvbNLT0yM1NZVFixaxYcMGNm7cSE5ODgBr167F3NycqKgooqKisLOzA8DCwoK7d++Sn5/Pw4cPyc7O1nj9jBAvgsDAQI4dO4atrS3t2rXDwcEBDw8PoCjBsrOzU75Kzni4uroyaNAgDAwM8PPzo02bNuzevVvr8fn7+1O3bl1MTU0ZOHAgZ8+eBcDAwIC8vDySkpLQ09Pj66+/5q233lKrW1BQwNatW5k3bx716tXDysqKwMDAUscYM2YMRkZGNG3aFFdXV86cOQNAeHg4wcHB2NvbY2JiQmhoKHFxcdy8eZOoqCh69epF//79MTAw4P3336dFixYan9eTjvl4/Js2bWLBggXUqVMHKysrpk6dSlRUFADbtm3D3d1d+TmMHj2ali1balQXoHHjxgwfPhwjI6Myp6BTU1OVaX1N2qtsv1dFw4YNcXV1BeBf//oXDRo0oE2bNujo6ODu7s7FixeBov+fe/fuxd7enps3b2Jubq6sga1uvxV78OABO3fu5IsvvqBu3bpYW1vzySefKOXlxfA4MzMzfvvtN7p3705WVha1a9fmxo0byttfrK2t0dHRKfV3VQhtqvJ7MDWVmJjIRx99BBSt/XBycuLUqVNYW1tTo0YNOnXqhL29vVqdhIQEpY6xsTHr169XK3d3dweKEtTMzMynFruLiwtQ9Menbt263L59mxo1ajxxf0dHR9q3b0/37t3R19fHyckJZ2fnpxafEP8kDx48wNPTk+HDh/P+++9z9+5dJk+ezOTJk1m2bBn9+vWjU6dOyv4lf5ceX0/YtGnTp/LHz8zMTPm3kZGRMlXZuXNnZsyYQVBQEJcuXaJ3796EhoZiYWGh7J+ZmUlubq5a4te0adMKj1H8UEtiYiKxsbHKqFOx9PR00tPTS7VVfONalfMq60Ga4vjffPNNJQHMysqiVq1aAKSlpZVKaotjqqguFF3fy3Pr1i3q1q2rcXuPx11Rv1fFK6+8ova9np6e2vfFyxSuX7/OhAkTOHHiBI0bN8bU1FQpq26/Fbt9+zb379+nWbNmyraS/wfKi+FxDx48YMaMGezatQsLCwsl4S1+4E5XVxczMzMyMjIq9f9MiMp4Jg/56Or+77CWlpalygsLC8tdj2loaKi2b0VK3k1X5gnGx0c1KzrWrl27uHXrFr/88gsHDhygZs2afPvttxofT4jn2ZkzZ7h69SpTpkyhdu3a2NjYEBgYyI4dOwAwMTGhYcOGylfJpOivv/5Sa+vChQuVHv0v/n0tOe1XvIZOE++88w4HDx7k1KlTZGdnl1o/Wbt2bQwMDJQlMQApKSkat//666+zYsUKUlJSlK+srCxlTd3jo1HFo2faYmZmhomJCfHx8WrHLz6H+vXrl3pI5OrVqxrV1YSpqSm3b9+udHvV7XdtCA0NxczMjFOnTvHTTz/h4+OjlGmr38zMzDA2Nub8+fPKtpL/B8qL4XE7d+4kNjaWP/74g19++YU5c+aolRcWFnLnzp0KbwqEqA6tJZiGhobcunWr1PaSC/ZzcnI4ffp0metzHq9z4MABAPLz8/H29tb4grJt2zbWrVuntq1WrVrKH5rixfrVYWRkxN27d0slq+np6dSoUQM9PT10dHSoWbOmckEV4kVna2uLrq4uy5YtIyMjg5SUFL766itatWpVYd0jR44QERFBbm4ua9eu5fTp02U+bWxqakpycnKZ75LV19enefPmLF++nDt37rBjxw6Nf983b96Mh4cHKSkp6OvrY2hoqHYjC0XXuAEDBjBt2jRu375Nenq68sCIJvz8/Pjss884fvy4cp79+vWjsLCQQYMGsX//frZt20Zubi7Lli3T6IngipTsLwMDA4YNG8YHH3zAtWvXuH37NuPHjyckJAQAT09PfvrpJ2JiYigoKGD9+vXK2vWK6mqiZcuWSvJUUXtnz55l9uzZgGb9vmDBAg4fPgwUjSiGhoY+cXSvKgoLC7l37x65ublcvHhRbQ2otvrNwMAAlUpFcHAw6enpXL16VXkuoaIYoOhnffHiReXvUn5+PllZWWRkZJRKMC9duoSOjo4yepmTk6McVwht0VqC6ezsTHp6Oh4eHnh7eyt3XqNHj+batWv4+vri7+9PUFBQmaOWJb333nv8/fffDB06lJEjR6JSqbCxsdEojiNHjqg9eQdF664WLlzItGnTuHr1qjIS+eeff+Ll5YWXlxf3799X/l3Rk981atTA3d2dXr16MWTIEOXFwcOHDycnJwdvb298fHy4dOkS7777rkZxC/G8q1OnDlFRUURHR+Pg4EDHjh3R1dXlu+++q7Du22+/zd69e2nWrBmrVq0iIiJCbXq65H5HjhyhWbNmZT6Ju2TJEqKjo2nRogU///wzAwYM0Ch2T09PHBwccHNzU5bsFD/gUdKiRYuoUaMGLVu25F//+hf+/v4atQ8wZMgQJk2ahI+PD02aNGHz5s2EhISgo6ODvb093333HSEhIdja2nLu3DlUKpXGbT/J4/0VGhpKy5Yt6dixI23btiUrK4v3338fgFatWrFixQoCAwNp0KABcXFxautQy6urCTc3N7UHp8pr788//2Tbtm3KjURF/b5z507lZuKPP/7ghx9+UJspq64ZM2aQk5ODvb09I0eOVLv50Wa/hYWFYW1tTZs2bejbty+TJk3SKAaAyZMnExISgre3NwMHDqRXr168+eabdO7cmddff11t3wMHDvDGG28onyiXkZHB9u3b/89HhsWLrUofFZmRkfE0Ynmp1KtX71mHIISogsLCQmXZzalTp+jduzepqanPOCrtKHluACNGjMDV1ZUPP/yw2m2np6fj5OTE0aNHsba2rlZs5fX7vHnzuHfvHp9++mm1Y65KbKDdfnsaevbsiZ+fn9obX4TQtufuRetCCPGszJo1i4kTJ3Lnzh3u3r3LkiVLlIcBn3dpaWm4uLgQHx/Pw4cPiY+PJzY2VmvnZ2FhwfDhw/nPf/5T6bqV6fekpCS6detW3XA19rT7TduOHz9OamoqQ4cOfdahiBecjGA+IzKCKcTzJyUlhaCgIH777Tfu379P165dWbRoUZVG5P6Jvv32W5YvX86VK1ewtLRk0qRJyrs6n6V/er//U/tNiGepSgnmnTt35PO0q0FfX5/atWs/6zCEEEIIIZ6KKk2RGxsbazuOl4r0nxBCCCFeZFV60Xrxk2d5eXkyklkJ+vr6GBsbK/0nhBBCCPEiqtIUuRBCCCGEEE8iT5ELIYQQQgitkgRTCCGEEEJolSSYQgghhBBCqyTBFEIIIYQQWiUJphBCCCGE0CpJMIUQQgghhFZJgimEEEIIIbRKEkwhhBBCCKFVVfokn+zsbG3HIYQQQgghXhDyST5CCCGEEEKrZIpcCCGEEEJolSSYQgghhBBCqyTBFEIIIYQQWiUJphBCCCGE0CpJMIUQQgghhFZJgimEEEIIIbRKEkwhhBBCCKFVkmAKIYQQQgitkgRTCCGEEEJolSSYQgghhBBCqyTBFEIIIYQQWqVf1Yr3798nLy+PgoICbcbzQtPX18fY2BgjI6NnHYoQQgghxFOjU1hYWFjZSvfv3yc7O/tpxPNSMDU1lSRTCCGEEC+sKk2R5+XlaTuOl4r0nxBCCCFeZFVKMGVavHqk/8SLKj4+HkdHR2rVqqW2PTIyknbt2mFubo6HhwfJycnltrNv3z7efPPNJ5a7ubkREREBwJkzZ9iwYUOlY42OjsbZ2ZkqTOJUy/fff4+Xl1eZZSXPqzw5OTnMnTtX26EJIYTWPHcP+Xh5eXHy5Mkq1e3duzcJCQlajkgIAbB3717efvttPvzwQ7Xt8fHxBAUFsWjRIs6cOcObb75J3759yc/Pr/KxgoOD6dq1K1D1BPONN95g5syZ6OjoVDkObSt5XuXJzs6WBFMI8Y+mtQTz3LlzTJkypVptPO2RhJ07d9K+fXuN91+3bh2RkZGltt+6dYsNGzbQunVr/vrrL7Wy33//nYEDB9KnTx/ee+89cnNzqx23EM+DunXrEhcXR8+ePdW2L1++nGnTpuHu7o65uTnTpk1j8eLFPHjwoMI2582bR4MGDbC3t2fZsmXK9vnz53P06FG2bNnCqFGjOHjwIFZWVly4cKFUG3v37qVTp040adIEDw8P5Xf25MmTzJs3T9kvJiaG119/HQsLC8aOHUtAQAALFy4EoFu3bixZsoQuXbpgbW2Nt7c3d+/eVerGxsbi6uqKpaUlvXr14ujRo0rZ2bNn6dGjBxYWFvTs2ZMbN2488XyLz6u8Y6akpGBvbw+AlZUV69atqzCGCxcu0Lt3bywsLOjRoweLFy9GpVJVGH9eXh61atVi6dKlNGrUiK+//rqiH5kQQgBaSjDPnj1LQEAAsbGxqFQqfH19lbKcnBzGjx/P8OHDUalUbN68WSkLCgoiMjISf39/PDw8CAsLA4ouaoGBgXh5edG/f3/WrFmjdrw9e/bg4+ODu7s7e/furTC+Xbt2oVKpcHFxITExUdmen59Px44dCQsLY9y4cQwYMIDLly8DRVN6S5cuZcmSJahUKkJDQ4GiC/WkSZN45ZVXsLW1VTvOvXv3mDVrFmvWrCEmJobBgweTmZlZuc4U4jnVvn17LC0tS20/fPgw5ubmDB48GEdHR0aOHImjoyM1atQot71z586RmZnJpUuX2LJlC3PnziUmJkZtH29vb9auXUvnzp25fv06zZs3VyvPzs5mxIgRfPXVV1y6dIkBAwYQHh5e6liXLl3Cz8+PGTNmkJqaSvv27dm2bZvaPtHR0ezcuZPz58+TkZGhJLzJycn4+voyc+ZMUlJSGDZsGJ6enty5c4cHDx7g5eWFq6srV69eZc6cOWqJckXKOqaNjQ1JSUkAXL9+HT8/v3JjePjwIUOHDuW1117jypUrhIaGsnjxYuUY5dUtuc+ZM2cICAjQOHYhxMtNKwmmg4MDgYGBuLu7ExUVpXYBX716NZaWlkRERBAeHs7ixYtJS0sDwM7OjrCwMKZPn86PP/6ojICuXr2aOnXqsHXrViIjI/nll19K3fVv3LiRL7/8kqVLl1YY34ABA4iKiuK1115T266rq8uNGzfo0aMHS5cu5a233mLjxo0ADBkyBA8PD8aPH09UVBTBwcEANG/enO+++07t7r9YfHw8Dg4OzJkzBy8vL44cOYKFhUUlelKIF8/Nmzf59NNPeffdd9m0aRNGRkYMGjSIR48ekZKSgp2dnfLVpUsXpZ6enh6ff/45xsbGvPbaa4wdO1btBlUTenp66OjocP78ee7du8fYsWOZPXt2qf22bduGu7s7gwYNwsDAgNGjR9OyZUu1ffz9/albty6mpqYMHDiQs2fPArB161Y8PDzo06cPBgYGjBo1ChsbGw4cOMDhw4fJyclh9uzZGBkZ4eLiwrBhwzSO/0nHfFx5Mfz3v//l5s2bSl86OzurxVBe3WITJ06kZs2a6Oo+d6uqhBDPyFO/WiQmJtK9e3eg6PU8Tk5OnDp1CoAaNWrQqVMnZbqnWEJCglLH2NiY9evXq42MuLu7A0UJanVHCA0NDWnbti1QNN1UnfauX7/OsWPHmD59OhERESQnJ7Nly5ZqxSfE887AwIDx48fj4eFBmzZtWLVqFcnJyRw9epQGDRrw22+/KV8ll6RYW1ujr/+/V/U2bdqU69evV+rYJiYmREZGsmXLFpo1a0bfvn3VZjGKpaWl0aJFC7VtTZs2VfvezMxM+beRkZEyxZ+WlsamTZuwsbFRvk6dOsXNmze5ceMGjRs3VkvMmjRponH8TzpmWfE/KYbU1FSaNGlSqi81qVvM1NRU45iFEAKq8aL16ih5sS1rSq2wsLDc9ZiGhoZq+1aHnp5eqWNXVa1atWjXrh3169cHihLhM2fOVCs+IZ53LVu2VHuQRldXFxMTEwoLC9HT06Nhw4Zl1ktJSSE/P1/5fb9w4QINGjSo9PE7d+5Mly5dyM/PJywsDD8/P06fPq22T/369fnzzz/Vtl29epV27dpV2L6VlRU+Pj6sXLmyVNnvv//OpUuXePjwoXKteXzdtjaUF8Ovv/7K1atXKSwsVH4OKSkpGtWVV6oJIapKayOYhoaG3Lp1q9T2Dh06EBsbCxStxzx9+jROTk7lttWhQwdleiY/Px9vb2+1C2J5tm3bpix6ry4DA4NKjWi+8cYbJCYmcuvWLQoLC/n9999LjYoI8bIZNWoUoaGhHD9+nJs3bzJ+/Hjq1atXasnK4/T09AgODiYnJ4eEhARWrlxZ5vRyzZo1SU9PJysri0ePHqmVXb58GUdHR44dOwYUjWiWvEEt5unpyU8//URMTAwFBQWsX79e47dVeHt7s2vXLiIjI8nLy+PQoUM4Oztz7do1XFxcMDMzY/r06dy7d4+DBw+yfft2jdotT/GI4sWLFykoKCg3ho4dO2JoaMicOXPIz8/n2LFjrF+/XqP4y7JgwQIOHz5c7XMQQrzYtJZgOjs7k56ejoeHB97e3ly8eBGA0aNHc+3aNXx9ffH39ycoKKjMUcuS3nvvPf7++2+GDh3KyJEjUalU2NjYaBTHkSNHOHTokNq2YcOG4eXlxbFjx5g5c6by74r07duX9evX4+npiZ+fHwCpqamoVCpUKhWXLl1i3LhxqFQq8vLysLCwIDg4GF9fX/r164eRkRFDhw7VKG4hXlT+/v68++67jBgxglatWnHt2jW2b99eavbgcY6OjjRq1AgnJyd8fHyYOXMmvXr1KrWfm5sbtra2NGvWrNRryOzs7Jg4cSK+vr40bNiQ6Ohovv3221JttGrVihUrVhAYGEiDBg2Ii4vjrbfe0uj87Ozs2LBhA1999RW2trZ89NFHSjv6+vps3bqVxMREGjduTEhICJMmTdKo3fLUqFGDyZMn4+rqypIlS8qNwdDQkM2bN7Nv3z4aNmzI5MmTGTNmjEbxl2Xnzp1qT6gLIURZqvRRkRkZGU8jlpdKvXr1nnUIQogSSk4hA4wYMQJXV9dS7/V8Hj1+bitXruSXX35h06ZNzzAqIcSLTB4JFEK89NLS0nBxcSE+Pp6HDx8SHx9PbGwsLi4uzzq0aissLKRPnz6sW7eOvLw8rly5Qnh4+AtxbkKIfy4ZwXxGZARTiH+Wb7/9luXLl3PlyhUsLS2ZNGkS77zzzrMOSyt+++03Zs+ezalTpzAxMWHw4MF88cUXGBgYPOvQhBAvKEkwnxFJMIUQQgjxoqrSFHnJ96mJypP+E0IIIcSLrEoJprGxsbbjeKlI/wkhhBDiRValoTQjIyOg6CW8BQUFWg3oRaavr4+xsbHSf0IIIYQQL6IqrcEUQgghhBDiSeQ1RUIIIYQQQqskwRRCCCGEEFolCaYQQgghhNAqSTCFEEIIIYRWSYIphBBCCCG0ShJMIYQQQgihVZJgCiGEEEIIrZIEUwghhBBCaFWVPsknOztb23EIIYQQQogXhHySjxBCCCGE0CqZIhdCCCGEEFolCaYQQgghhNAqSTCFEEIIIYRWSYIphBBCCCG0ShJMIYQQQgihVZJgCiGEEEIIrZIEUwghhBBCaJUkmEIIIYQQQqskwRRCCCGEEFolCaYQQgghhNAqSTCFEEIIIYRW6Ve14v3798nLy6OgoECb8bzQ9PX1MTY2xsjI6FmHIoQQQgjx1OgUFhYWVrbS/fv3yc7OfhrxvBRMTU0lyRRCCCHEC6tKU+R5eXnajuOlIv0nhBBCiBdZlRJMmRavHuk/8aK6c+cOo0aNwsrKCjs7O/7973/z6NEjpfzw4cO4ublhbm5Ohw4d+Omnnypss1u3buzevbvMstTUVFq2bElSUhIAq1ev5sqVK5WO283NjYiIiErXq65XX32Vo0ePltoeHR2Ns7MzmkwwxcTEEBcX9zTCE0KIKnvuHvLx8vLi5MmTVarbu3dvEhIStByREKKYt7c3hoaGHD9+nN27dxMdHc1//vMfAO7evcvgwYPx8/Pj/PnzBAcH4+/vT0pKSpWPZ2lpyezZs7G1tQVg1apVJCcnV7qd4OBgunbtWuU4tO2NN95g5syZ6OjoVLhvTEwMBw8e/D+ISgghNKe1BPPcuXNMmTKlWm1UYTlopezcuZP27dtrvP+6deuIjIwstT0qKgoPDw8GDBjA0KFDuXr1qlI2f/58+vTpQ9++fZkwYQL5+flaiV2If7rCwkIGDhxIaGgolpaWtG7dGk9PT2WE7tq1awwePJh3332XOnXqMHjwYJo1a8apU6cqbPvSpUt07twZCwsL+vXrpySRBQUFjBkzhry8PFxcXEhKSqJfv34EBASUaiMnJ4exY8fSokULHB0dWbBggVI2f/58Jc6cnBzef/99rKysaNWqFZGRkZibmwNFy1tq1apFREQEbdq0oWHDhsycOVNpJzc3l48//phGjRphb2/PZ599xoMHD5T+mTt3Lk2aNKFRo0asXr36ied78uRJ5s2bB8C+ffvo1q0bs2fPpmnTprz66qts27YNgAkTJrB27Vrmzp1LmzZtKowBICwsjKZNm2JjY8OqVato27atcuNdXt1Zs2YxduxYevToQePGjSv8mQkhXm5aSTDPnj1LQEAAsbGxqFQqfH19lbKcnBzGjx/P8OHDUalUbN68WSkLCgoiMjISf39/PDw8CAsLA4ou4oGBgXh5edG/f3/WrFmjdrw9e/bg4+ODu7s7e/furTC+Xbt2oVKpcHFxITExUdmen59Px44dCQsLY9y4cQwYMIDLly8DEBkZydKlS1myZAkqlYrQ0FCgaBRm2bJlREREsGvXLrp3786KFSsASEhI4I8//mD37t38+OOPZGVlaTQFKMSLQEdHh7Fjx2JmZgbA9evX+emnn+jcuTMALVq0YPHixcr+KSkpJCcnK4lReZYvX87q1atJTk6mSZMmateYYocPH8be3p4ffviBlStXlioPCwsjMzOTEydO8Ouvv3LgwIEyRzuDgoK4cuUKp0+fZv/+/SxbtqzUPidPniQhIYG4uDjWrl2rjCAGBweTmprKiRMniIuLIyYmRklk161bx9q1a9mzZw/nzp0jMTGR9PT0Cs8dIDExkdatW/PXX38xd+5cPvzwQ3Jzc1m8eDGjRo1i6tSpnDhxosIYNm/ezPLly9m9ezdJSUkcPXqU1NRU5Tjl1QX4+eefCQ0N5eLFixrFLYR4eWklwXRwcCAwMBB3d3eioqIIDw9XylavXo2lpSURERGEh4ezePFi0tLSALCzsyMsLIzp06fz448/KiOgq1evpk6dOmzdupXIyEh++eUXbty4oXbMjRs38uWXX7J06dIK4xswYABRUVG89tpratt1dXW5ceMGPXr0YOnSpbz11lts3LgRgCFDhuDh4cH48eOJiooiODgYgJo1a7J//35q165Nfn4+SUlJNG3aFIAOHToQGRmJvr4+Ojo6FBQUUK9evSr2qhDPp4cPH9KsWTNatGiBs7Mzw4YNK7VPdnY2Pj4+TJkyBWtrawCmTJmCnZ2d8lVy9uC9997D0dERExMTFixYwOnTpzl//nyl4jIwMCAzM5MrV65Qv359fvzxx1IjcQUFBWzdupV58+ZRr149rKysCAwMLNXWmDFjMDIyomlVU9HbAAAgAElEQVTTpri6unLmzBkKCgrYtGkTCxYsoE6dOlhZWTF16lSioqIA2Lp1K5MnT6ZFixa88sorzJs3T+P12A0bNmTIkCHo6OigUqnQ0dFRboYfj7+8GDZu3MikSZOUvpw3b54yy1JRXYC+ffvi7OyMnp6eRnELIV5eVX4PpqYSExP56KOPgKLX8zg5OXHq1Cmsra2pUaMGnTp1wt7eXq1OQkKCUsfY2Jj169erlbu7uwNFCWpmZma14jM0NKRt27YAWFlZafxHa926dYSGhtK+fXs+++wztbKHDx8yd+5cbGxslNEbIV4Wenp6/Pbbb1y5coXZs2czefJkFi1apJTn5ubi7e1N69atmThxorJ9xowZat/XrVtX+XfxGksouiY0aNCA69evq22vyIQJE8jNzUWlUpGfn8+IESOYMWMG+vr/uwxmZmaSm5tLixYtlG3FN5AlFY/SAhgZGVFQUKDUffPNN5W1k1lZWdSqVQuAGzduqLVlZmZG7dq1NYq9Tp06at8bGRmpTXs/Hv+TYkhLS1M7t9q1ays3wRXVBahRo4ZG8QohxDN5yEdX93+HtbS0LFVeWFhY7npMQ0NDtX2r4/E7cU3b8/Pz49SpU7i5uTFu3Dhle1ZWFu+++y7m5uZ88cUX1YpNiOfJ3bt3+X//7/8BRTdrLi4uzJo1iy1btij75Ofn4+Pjg4WFRanZBzMzMxo2bKh8mZiYKGUXLlxQ/p2bm0taWhoNGjSoVHwmJiZ8+umnnD59mh9//JHIyEi1JTtQlHAZGBiojQ5q+hCSmZkZJiYmxMfHk5KSQkpKCllZWUp9Kysr5Wl3gFu3bnHnzp1KnUN1Y6hfv77aud27d49bt25pVFcIISpDawmmoaGhcqEqqUOHDsTGxgJF6zFPnz6Nk5NTuW116NCBAwcOAEV/kLy9vTW+yG3bto1169ZVMvqyFU+plXTx4kW6d+9OTk4Ourq6NG/eXFlHlZOTw4gRI/Dz82PMmDFaiUGI58WjR4/w8fFh/vz5/P3331y8eJElS5YoaywLCgp45513ePDgAfPmzeP27dtkZGSQm5tbYdvh4eEcP36c7OxsJk6cyP9n786jqqrex4+/mTFxyoF5UnHA1Cw0xRTBmTDCZFTUzFLTylADh9RflkOGU86l5ZA4wMcxtSQxqTRRMEVMURIFFJxR5ILI+f3h4ny5gYB4lbTntRZLuefsvZ8z3MNz9t7n3latWpUY+YD7oyQpKSmlDj2///77hIWFcfPmTUxNTTE0NNS6WYX717E+ffowYcIEbty4QVZWlvqwTXmMjIwICAjgvffe4+LFi9y4cYMPPviAadOmAeDv7094eDiJiYlkZ2czbtw4TE1NK1R3WczMzEhNTUWj0ZQbw5tvvsncuXM5c+YMubm5jB8/Xr3JLq/sP508eZKpU6c+cvxCiGeTzhJMFxcXsrKy8PT0xM/PT50EPnToUC5evEhwcDCDBw8mNDS01F7L4t555x0uX76Mv78/AwYMwMfHBxsbmwrFER8fz8GDB7VeCwgIwNfXl6NHjzJ58mT1/+Xp3bs3a9euxdvbm4EDBwL3h8uKYnrttdeYO3euOkS+fv16UlJSmDt3Ln369KFPnz4lHlAS4llVq1YttmzZwp49e2jRogVubm6YmpqyatUqAPbs2cP27dvZv38/Tk5OODo64ujoqPXgz4OMHTuWkJAQGjVqREZGRolpM0XGjBnDtGnT8PPzK7EsNDSUM2fO0Lx5c9zc3OjTpw9vvvlmifXmzp1L9erVadq0KV26dGHw4MEV3gczZ86kadOmtG/fntatW5Odnc27774LQP/+/Rk2bBh9+vTB2dmZjh07PnQvbGkGDRpEfHw8jRo14u7du2XGMGTIEAICAujatStOTk44OzvToEGDCsX/T3/99RdRUVHyxRFCiFJV6qsir169+jhi+U+Rh3+E+PdSFEWdh5iYmEjPnj21nrZ+mhXfNrg/v3X79u3qXHQhhNCFp+6D1oUQ4nGaMmUKH330ETdv3uTWrVssWLCAdu3aVXVYOvHjjz/Sq1cvUlNTuXv3rvpZnMUf/BFCCF2QBFMIIYopmqLTunVrmjRpws2bN1m0aFFVh6UTbm5utGnThl69emFtbc3333/Phg0btB6oEkIIXajUEPnNmzfl+7QfgaGhYYU/nkQIIYQQ4mlTqR5MXTz5+F8m+08IIYQQz7JKfdC6iYkJcP8rHaUns+IMDQ0xNTVV958QQgghxLOoUkPkQgghhBBCPIg85COEEEIIIXRKEkwhhBBCCKFTkmAKIYQQQgidkgRTCCGEEELolCSYQgghhBBCpyTBFEIIIYQQOiUJphBCCCGE0ClJMIUQQgghhE5V6pt8bt++res4hBBCCCHEM0K+yUcIIYQQQuiUDJELIYQQQgidkgRTCCGEEELolCSYQgghhBBCpyTBFEIIIYQQOiUJphBCCCGE0ClJMIUQQgghhE5JgimEEEIIIXRKEkwhhBBCCKFTkmAKIYQQQgidkgRTCCGEEELolCSYQgghhBBCpwwrWzAvLw+NRkNBQYEu43mmGRoaYmpqiomJSVWHIoQQQgjx2OgpiqI8bKG8vDxu3779OOL5TzAzM5MkUwghhBDPrEoNkWs0Gl3H8Z8i+08I8awqLCwkPDycGzduVHUoogr8/PPPxMTEVHUY4l+gUgmmDIs/Gtl/4llVWFjIp59+SsOGDbG0tGTkyJHk5uaWWC8/P5+aNWtSs2bNcuuMjo6mY8eOD1zu5uZGREQEAElJSXz//fcPHfe2bdtwcXGhEgM6j2TVqlX4+vqWuqz4dpUlJyeHGTNm6Dq0Stu6dSsbNmygdu3aVR3KY3fw4EHatGmDtbU12dnZj1TXo5yDZZ1HT6L94gwNDRk5ciT37t17pHrE0++pe8jH19eX48ePV6psz549iYuL03FEQogic+bMISYmhh07dnDo0CGysrJ47733SqwXHh6us/nIYWFhdO7cGah8gvnKK68wefJk9PT0HjkeXSm+XWW5ffv2vyrBXLduHcHBwVUdxhPx2Wef4e3tzalTpyp0s1SWqj4HddV+586dMTAwIDY2VkeRiaeVzhLMU6dOMXbs2Eeq43H3HmzdupWXX365wuuvXr2ayMjIEq+np6cTHBzMa6+9xuuvv87Zs2e1lhcWFjJ06NBHvqMU4mlSWFjI4sWLWbp0Kc7Oztja2rJs2TIGDhyotd7Jkyf55ptvWLFiBXXr1q1w/bNmzcLS0hInJycWLlyovj579mwSEhLYuHEjQ4YM4ddff8XCwoIzZ86UqGPPnj106NABR0dHPD091ffu8ePHmTVrlrre7t27eemll2jQoAEjRoxg+PDhzJkzBwAPDw8WLFhAp06dsLKyws/Pj1u3bqllY2JicHV1xdzcnB49epCQkKC17d26daNBgwZ0796dzMzMB25v0XaV1WZaWhpOTk4AWFhYsHr16nJjOHPmDD179qRBgwZ069aNefPm4ePjU278Go2GmjVr8tVXX2Fra8vixYtLxHz37l1iY2Pp2rWr+tqyZctwdnbGwsICHx8fzp8/ry775ZdfePXVV2nQoAEdO3bUGlr18PBg7ty5eHh44OjoyLfffsv69etxcXHBwcGBb775plLrajQaQkJCsLOzw9bWltGjR6u97NHR0Xh4eDB16lQaNmxIs2bNiIqKKrGdaWlpWFhYsH//fubMmYOrqysAFy5cwMfHB3Nzc5ydnbX20ZQpUxgxYgTdunXD3t6+RJ3Fz8Hy4ijvPHrQMVy1ahVt2rQhLy8PgBkzZuDl5YWiKA/VflnnkJ6eHl26dGHv3r0ltlH8xyiVcOXKFa2f2NhYpWXLloq9vb3SqVMnpXfv3uqy1NRUJSgoSOnevbvSqVMnZdGiReqyt99+W1m6dKni5eWltGvXTgkLC1OuXLmipKWlKW+99Zbi7u6utG/fXpk5c6Zaxt3dXQkLC1N69OihtGzZUomIiCgRzz9/vv32W6VTp06KlZWVsmvXLvX1jIwMpXHjxsr48eOVwMBApUOHDsrhw4eVK1euKEuXLlUcHR0VZ2dnpVOnTsrYsWPVcr1791Z++OEH5cqVK0p0dLTy008/abX38ccfKxMnTlTc3d0fGJMQz5rk5GSlUaNGys6dOxU3NzfF2dlZCQsLU3Jzc9V17t27p3h4eCirV69WDh06pDRt2rTcevfs2aPUrVtXCQ0NVXJzc5X4+Hj1vawoiuLu7q5s375dURRF2bRpk9K7d+9S67l165ZSv3595Y8//lAURVEWL16sTJkyRW3D1dVVURRFSUlJUerXr69ERUUp+fn5ytdff63Uq1dPCQ8PV9vr2rWrcvXqVeXWrVuKh4eHMn36dEVRFOXcuXOKtbW1smvXLiU/P19ZsWKFYmtrq9y4cUPJz89XWrRooXzyySeKRqNR/vjjD8XW1lbp169fqfEW366y2rx06ZJSo0YNtVxZMRQUFCgvvfSSui/j4uIUe3t75Y033ii3bG5urlKjRg1lzJgxSnZ2tnLv3r0SMR8+fFixs7NTCgsLFUVRlKioKMXR0VFJTExU7ty5o/y///f/FDc3N0VRFCU1NVUxNzdXIiMjlfz8fCUqKkpp0KCB8vfff6vbHBgYqOTl5Snnzp1T7O3tlREjRih3795VkpOTlfr16yvnz59/6HU/+ugjpWfPnsrly5eVy5cvK7169VLef/999TyoWbOmsmnTJqWwsFD53//+p5ibmyt37twp9xjdu3dPeeWVV5SPP/5Yyc3NVRITExVHR0dl48aNiqIoyuTJk5WGDRsqcXFxSkFBQYm6ip+DZcVR3nlU1jFUFEXx9vZWpk+frpw5c0axtbVV93dF2y/vHFIURVm3bp3SrVu3UveZ+O/QSQ9m8+bNGTduHO7u7mzevJk1a9aoy5YvX465uTkRERGsWbOGefPmkZGRAYCDgwPh4eFMnDiRnTt3qj2gy5cvp06dOmzatInIyEj27dtX4g5t3bp1fPHFF3z11VflxtenTx82b95MmzZttF7X19cnMzOTbt268dVXX/H666+zbt06APr164enpycffPABmzdvJiwsDLg/HJWRkUFsbCyBgYGsWLECW1tbtc4tW7ZQq1YtunXrVok9KcTT68qVK9y6dYsFCxbw5Zdfsnz5cn755Rf1vQOwdOlSzMzMSh1CTUtLw8HBQf3p1KmTuszAwIDPPvsMU1NT2rRpw4gRI9iwYcNDxWdgYICenh6nT5/mzp07jBgxgqlTp5ZYLyoqCnd3d/r27YuRkRFDhw6ladOmWusMHjyY559/HjMzM9544w1OnjwJwKZNm/D09KRXr14YGRkxZMgQbGxs2Lt3L4cOHSInJ4epU6diYmJCu3btCAgIqHD8D2rzn8qK4fDhw1y5ckXdly4uLloxlFW2yEcffUSNGjXQ1y/55yMtLQ07Ozt1mHXVqlWMGTOGFi1aUK1aNSZOnMgPP/wAwMaNG+nSpQtvvvkmRkZG9O3bl27dumkdVx8fH4yNjbG3t8fa2hpPT08MDQ1p3LgxNjY2pKSkPNS6BQUFfP/998yaNYt69epRr149Zs+ezfr168nPzwfA2tqafv36oaenh4+PD3p6epw7d67c4xMXF8fFixf5/PPPMTU1pUWLFnz88cdqrzJA7969cXFxwcDAoNz6HhRHeedRecdw4cKFrFy5kiFDhhAWFoaDg8NDtV/eOQRgZ2dHenp6udsonm2PfQ7mkSNH1OESMzMzWrZsSWJiIgDVq1enQ4cO6hBPkbi4OLWMqakpa9euxdzcXF3u7u4O3E9Qr1+//kjxGRsb07p1a+D+EFN59WVmZpKamkrXrl2JiIigVatWTJs2DYCjR49y6NAhhg0b9kgxCfE0MjY2Jjc3l0WLFuHi4kLHjh2ZM2eO+qDK+fPnCQ8Pf+BNoaWlJb/99pv6U3x6ipWVFYaG//exvQ0bNuTSpUsPFV+1atWIjIxk48aNNGrUiN69e3PkyJES62VkZNCkSROt1xo2bKj1e/EHWExMTLh7965adv369djY2Kg/iYmJXLlyhczMTOzt7bUSM0dHxwrH/6A2S4v/QTGkp6fj6OhYYl9WpGwRMzOzB8Z47do1nn/+ea36GjdurP5uYGBA9erVS10G4OTkpHZAwP1jVlzxuPX09CgsLHyoda9fv05ubq7W3xwnJyc0Gg3Xrl0DoE6dOlr1lLWvi0tPT8fBwUGrXScnJ61Eq2jbK+JBcZR3HpV3DG1sbLC3tychIYGhQ4c+dPvlnUMAdevW5erVqxXeVvFsqpKHfIq/MYonjkUURSlzPqaxsbHWuo/in3eS5dVXq1Ytnn/+ebU3tHv37vz111/A/V7V48eP4+Pjw7hx4zh58qRW740Qz7LGjRujr6+v9ZDAc889B9x/X61du5br16/j6uqKjY0NXbt2JSMjAxsbG9LS0jAwMMDa2lr9KX5tSEtLU3uY4P4cMEtLy4eO8dVXX2Xbtm2kpqbSuXPnEvNDAerVq0dqaqrWaxcuXKhQ/RYWFgQFBZGWlqb+ZGdn884772BhYcHff/+t9XTtP+dv60JZMdSrV48LFy5oXefS0tIqVLYiatSoofXxRFZWVlpzYe/du6eORv1zGUBycjJWVlaV2u6KqFOnDtWqVSM5OVmrTVNTU63EuDKsra05d+6c1qeEJCcnY21t/Uj1/lN551F5x/DPP/8kPT2dXr16MXfu3Iduv7xzCOD69etl3oiI/wadJZjGxsbqHWBxbdu2VSdu5+TkcOLECVq2bFlmXW3btlW78/Pz8/Hz8ytxAj9IVFSU1pDEozAyMirRo1k0rHLo0CEAfvvtN3X47IsvvmD79u1s3ryZ2bNn07x5c2bOnKmTWIT4t6tZsyZvvvkmo0ePJi0tjZSUFN5//338/PzQ09Nj5MiRHD16lN9//53ff/+dlStXAvD7779jYWFRZt0GBgaEhYWRk5NDXFwcS5cuLXV4uUaNGmRlZZGdna3VuwVw7tw5nJ2dOXr0KHC/x6v4zWoRb29vdu3axe7duykoKGDt2rUV/uQKPz8/tm/fTmRkJBqNhoMHD+Li4sLFixdp164dtWvXZuLEidy5c4dff/2V//3vfxWqtyxFf8iLhoDLiqF9+/YYGxvz+eefk5+fz9GjR1m7dm2F4q+IJk2akJKSoiY/gwYNIjw8nMTERHJycpg+fTp9+/ZV29q3b5/aVlRUFNHR0fj7+z/yPnkQQ0ND+vfvT2hoKJmZmWRmZjJu3DgCAwNLPRceRtu2bbG0tFSPb2JiIl988QWDBg3SUfT3lXcelXUM8/PzGT58OOPHj2f+/PksXbqUY8eOPVT75Z1DAKdPn9aaVrJ9+3atqXPiv0FnCaaLiwtZWVl4enri5+enzo0ZOnQoFy9eJDg4mMGDBxMaGlpqr2Vx77zzDpcvX8bf358BAwbg4+ODjY1NheKIj4/n4MGDWq8FBATg6+vL0aNHmTx5svr/8vTu3Zu1a9fi7e2t1dMRHh7O7Nmz8fLy4ocffmD8+PEVik2IZ938+fOxsrKiU6dOdOnShZdffpkvvvgCuN/7b2dnp/7Y29tjZWWFnZ2d1nBbaYqeSm/ZsiVBQUFMnjyZHj16lFjPzc0NOzs7GjVqVOIjyRwcHPjoo48IDg7G2tqabdu28e2335aoo0WLFixZsoRx48ZhaWlJbGwsr7/+eoW238HBge+//5758+djZ2fHqFGj1HoMDQ3ZtGkTR44cwd7enmnTphESElKhestSvXp1xowZg6urKwsWLCgzBmNjYzZs2EB0dDTW1taMGTNGa0pPWWUrokWLFhgaGnL48GEA+vbtS2hoKH5+fjRq1IijR4+yfv164P48vQ0bNjB37lxsbW0JDw9n/fr1D5wTqCvTp0/H2dkZFxcXXFxcaNq0qU46AvT19dm0aROnT5/G0dERX19fxo4dS79+/XQQ9f8p7zwq6xjOmDGDunXrEhwcjKWlJZ988gnDhg3TGh0oT3nnENx/ir34HOrY2Fj27Nnz6BsvniqV+qpImVvx6B7m41mEEE+WoihaQ/39+/fH1dWVkSNHVmFUuvHPbVu6dCn79u1TE79H9fHHH1NQUKB+rJN49pR1Dt28eZPmzZvz66+/lpibKf5bnroPWhdCiMcpIyODdu3aceDAAe7du8eBAweIiYmhXbt2VR3aI1MUhV69erF69Wo0Gg3nz59nzZo1Ot22Dz74gMjISG7evKmzOsW/R3nn0Jo1a+jZs6ckl0J6MKuK9GAK8e/17bffsmjRIs6fP4+5uTkhISG89dZbVR2WTvz2229MnTqVxMREqlWrxptvvsn06dMxMjKq6tDEU0LOIVERkmBWEUkwhRBCCPGsqtQQeXkT8kXZZP8JIYQQ4llWqQTT1NRU13H8p8j+E0IIIcSzrFJdaSYmJgBoNBqtD5UVZTM0NMTU1FTdf0IIIYQQz6JKzcEUQgghhBDiQeRjioQQQgghhE5JgimEEEIIIXRKEkwhhBBCCKFTkmAKIYQQQgidkgRTCCGEEELolCSYQgghhBBCpyTBFEIIIYQQOiUJphBCCCGE0KlKfZPP7du3dR2HEEIIIYR4Rsg3+QghhBBCCJ2SIXIhhBBCCKFTkmAKIYQQQgidkgRTCCGEEELolCSYQgghhBBCpyTBFEIIIYQQOiUJphBCCCGE0ClJMIUQQgghhE5JgimEEEIIIXRKEkwhhBBCCKFTkmAKIYQQQgidkgRTCCGEEELolGFlC+bl5aHRaCgoKNBlPE89Q0NDTE1NMTExqepQhBBCCCGqRKV6MPPy8rh9+7Ykl6UoKCjg9u3b5OXlVXUoQoin2O+//8727durOgwhhKiUSiWYGo1G13E8c2QfCSEexYcffsi9e/eqrP2BAwcSGRlZZe0DJCcns2rVqiqNQQhROZVKMKXnsnyyj8R/UePGjalZsyY1a9akbt26dOrUiYMHD+qkbg8PD3bs2KGTuipq+fLlnD9//om2CRAfH8/ly5d57bXXAO39WvynTp06j6X9wsJCYmNjcXNz4/Tp06W2vWHDhjLriI6OpmPHjo8Uh6WlJePHj+fMmTOPVI8Q4sl76h7y8fX15fjx44+9TFlWrlyJj48PrVq10lmdQjwroqKiyMrKIiUlhb59+9K/f3/u3r1b1WFVyrJly0hNTX3i7f7888907twZIyMjAE6cOEFWVhZpaWkAHDlyhKysLC5duvRY2j927BhWVlbUr19ffe3SpUtkZWWpP76+vo+l7eLMzMzw9vZm/fr1j70tIYRu6SzBPHXqFGPHjn2kOhRF0VE0j9eQIUPYtGlTVYchxL9S0YNutWrV4t133+Xy5ctcv34duD91JCQkBDs7O2xtbRk9ejS5ublq2V9++YVXX32VBg0a0LFjR2JiYh7YzuLFi2nevDk2NjYMHjyYrKwsddmWLVtwdXXF3Nyc9u3b8/vvv6vt16xZk4iICFq1aoW1tTWTJ08utf527dqRnJzMa6+9xvDhw/n111+xt7fXSpZXrFiBu7s7cL+HddGiRbz66qs4Ojry2muvaSWnqampeHt7Y25uzksvvVTmNeTgwYNavX8mJiaYmppibGys9buJiQnR0dG4u7szfPhw6tevz7Fjx5gyZQqhoaFq+aSkJGxsbCocy969e+nSpYvWa8bGxpiamqo/+vr6FBYWMnPmTJydnTE3N8fb25vMzMxStyklJQUvLy8aNmxIu3bt2LNnT4XicXd35+eff37gvhJC/DvpJME8efIkw4cPJyYmBh8fH4KDg9VlOTk5fPDBBwQGBuLj46M1rBIaGkpkZCSDBw/G09OT8PBw4P4fgXHjxuHr64uXlxfffPONVns//vgjQUFBuLu7a12kyrJ9+3aCg4Pp0aOH1h+t6OhofHx8CAoK4u233+bKlSvlxi2EKN+dO3eYN28ebdu2pUGDBgBMmDCBpKQk4uPjSUhI4NSpU2oidP78efz9/fnoo49IT09nzJgxBAQEcO7cuRJ1R0ZGsmjRIrZt20ZycjKmpqa89dZbANy4cYPZs2czbdo00tLS+PDDDxk0aJBW+ePHjxMXF0dsbCwrV67k119/LdHGoUOHcHJy4ocffmDp0qV07NiR6tWrs2/fPnWdqKgoAgMD1d+XLl3Kxo0bSUlJ4cUXX1Svhffu3aNfv360b9+e8+fP8/XXX/Phhx8SGxtb6r5LT0/H3t6+wvs6ISEBNzc30tLSaNmyZZnrViSWffv2qYlzWQ4ePMjPP//M5s2bSU1NxcHBgfHjx5e67rBhw/Dw8CAlJYWFCxeycOFC7t27V248rq6uHD16VOtGRAjx71fpjykqrnnz5owbN469e/fy5Zdfai1bvnw55ubmLFiwgNu3b9O9e3c6deqElZUVDg4OhIeHs3r1apycnLTK1KlTh9mzZ6PRaBg6dCh9+vTB3NxcXWfdunXExcUxbdo0unfvXm6MBgYGrFmzhpMnTzJs2DDc3d25desWEydOZMeOHdSvX5+lS5cyZ84cpk+fXmbcQogH69evH/r6+hQUFFCnTh31IY2CggK+//57fvrpJ+rVqwfA7Nmz8fDw4Msvv2Tjxo106dKFN998E4C+ffsSFRXFhg0btHrjANasWUNYWJh63Zg5cyZ2dnZcuXKFevXq8dtvvwFw9epVatWqRWZmJrdv38bQ8P4lb9iwYZiYmNCwYUNcXV1JSkri1VdfLXO79PT08PPzIyoqiu7du3Pp0iXi4uJYs2aNus7QoUPVa8TUqVOxtLTk9OnTXL9+nZycHDX5evnllxkwYABbtmyhU6dOJdq6du0azz//fIX3ub29vVaiW5bDhw+XGYtGoyE+Pr7E/MnGjRur/69evTonTpzA1dWVPXv2UFhYSEZGBvXr1yc+Pr7Udo2NjUlPTycrK4t27dqxdetWAP74448y47GyskJPT4/MzEwcHBwqvED+X4sAACAASURBVE+EEFVLJwlmWY4cOcKoUaOA+/NpWrZsSWJiIlZWVlSvXp0OHTpoJZcAcXFxahlTU1PWrl2rtbzoztrBwUEdeitP586dgfvJ8LVr18jNzeWvv/7C0dFRnWfUuXNndZi/rLiFEA8WGRmJu7s7d+/eZc+ePQwYMIDt27djaWlJbm6u1vvdyckJjUbDtWvXyMjI0EpiipZnZGSUaOPIkSPExMSU6C3LysqiVq1aTJo0ie3bt9OgQQOaNm0K3O+5K0owa9eurZYxMTGp8EN5/v7+9OjRg/z8fDZv3oyHhwd169ZVlxe/PhgZGWFhYcGlS5e4cuUKaWlpWsPU2dnZ9O3bt9R2zMzMKnxtK1q/otLT08uM5cCBA7Ru3Zpq1applYuNjUVf//6gV9G/ly5dYvTo0Rw7dgx7e3vMzMwoLCwstd0lS5YwdepUtUc7JCSEwMDAcuPR19endu3aXL16VRJMIZ4ijz3BLE3RxQnQ6pUsoihKmfMxi+YhFa1bEUV/WIro6emVG9vDLBNCaDMyMsLT05P27duzb98+3nvvPapVq0ZycjKtW7cGUIe3n3/+eaysrDh8+LBWHcnJyaU+TPfSSy/h7+9P//79SyyLjIwkJiaGP/74gxo1anDlyhUiIiJ0sk3NmzfHzs6Offv2sXXrVoYNG6a1vPjTznfu3CEjIwNLS0uMjIywtbXlxIkTFWqnWbNmnD59mp49e1YqTiMjI27cuKH+fvnyZfX/lpaWZcYSExNTYv5lUbl/XkdnzpxJ7dq1SUxMRF9fn82bN5cYxSpia2vLypUrURSFvXv34uvrS4cOHcqNR1EUbt68+VBJtBCi6uksYzI2NubatWslXm/btq065zEnJ4cTJ06UO0eobdu27N27F4D8/Hz8/PzUpyfLExUVxerVq0u8fujQIQD++usv6tWrh6mpKc2aNePcuXNcvXoVuH+H/vLLL1co7qIJ7kIIbXl5eeTk5HDz5k3279/PoUOHaNq0KYaGhvTv35/Q0FAyMzPJzMxk3LhxBAYGYmxsjJ+fH/v27SMyMhKNRkNUVBTR0dH4+/sD968xly9fRlEUBg4cyKeffsqff/5Jbm4uK1eu5LXXXlNvOPPz88nOzubq1at8/vnnld4WMzMzUlJStHo4/f39Wb9+PSdPnqR3795a63/33Xf8+eef3L59m5CQEFq1aoWTkxPt2rXjueeeY+LEieTk5JCamoqnpye7d+8utV03Nzeio6MrHXezZs3YuXMnJ06cICMjg4ULF6rLyoslJiYGDw+PCrWjKAp37twhNzdXnVtZxMjIiOzsbDQaDYWFhbi4uLBp0yby8vKoVq0a+vr6GBoalhvP33//jZ6entp7efLkSaZOnVrpfSOEeDJ0lmC6uLiQlZWFp6cnfn5+pKSkAPfnJF28eJHg4GAGDx5MaGhoqb2Wxb3zzjtcvnwZf39/BgwYgI+Pj9bwSVni4+NLfO7evXv3yM/PZ+TIkYSEhDBt2jQAatSoweeff87w4cMJDg7m6NGjjB49ukJx6+vr88ILL+Dl5UVAQECF95MQzzo/Pz8sLS1xcHBgxIgRvP/++2pP3PTp03F2dsbFxQUXFxeaNm3KzJkzAbCzs2PDhg3MnTsXW1tbwsPDWb9+vZpY+Pv7M378eL7++mv69etHSEgIQUFBODo6smHDBqZNm4aenh5vvPEGPXr0oGPHjrz66qu89NJLld6WMWPGMG3aNPz8/NTXfH19iYyM5PXXX8fU1FRr/Q8//JCQkBAaNWpERkaGOr3HwMCAqKgo/vrrLxo1akSvXr1o27YtXbt2LbXdvn378scff5Q6PaAifHx86Nq1Kx4eHnh6euLj46MuKyuWa9eucf78eV588cUKtTNp0iRycnJwcnJiwIABeHl5qctefvllatWqRYsWLdDT02P+/PksWLAAOzs7RowYweLFi7GxsSl33+zdu5dXXnlF/frdv/76i6ioKPkyCyH+5fSUSnw2UFGPnyhb8blZQohnh5OTE99++63Wg0EeHh6EhIRoJVmPYvTo0dStW5dPPvlEJ/VVxP/+9z+ioqL4/vvvn1ib5enevTsDBw7U+nQSIcS/X5XMwRRCiKdRdnY2O3bsoFatWo/8LTXlmTdv3mOtvzR9+/Z94INHVeHPP/8kPT1dnSYhhHh6SIIphBAVFBgYyPnz51mxYsUDHxQUutO6dWuSkpKqOgwhRCVUaoj85s2b8l3b5TA0NKRWrVpVHYYQQgghxBNXqYd8/jmxXZQk+0gIIYQQ/1WVGiIveppPo9FIT+Y/FH0Pc9E+EkIIIYT4r6nUELkQQgghhBAPIl9NI4QQQgghdEoSTCGEEEIIoVOSYAohhBBCCJ2SBFMIIYQQQuiUJJhCCCGEEEKnJMEUQgghhBA6JQmmEEIIIYTQKUkwhRBCCCGETlXqm3xu376t6ziEEEIIIcQzQr7JRwghhBBC6JQMkQshhBBCCJ2SBFMIIYQQQuiUJJhCCCGEEEKnJMEUQgghhBA6JQmmEEIIIYTQKUkwhRBCCCGETkmCKYQQQgghdEoSTCGEEEIIoVOSYAohhBBCCJ2SBFMIIYQQQuiUJJhCCCGEEEKnDCtbMC8vD41GQ0FBgS7jETpgaGiIqakpJiYmVR2KEEIIIf6D9BRFUR62UF5eHrdv334c8QgdMjMzkyRTCCGEEE9cpYbINRqNruMQj4EcJyGEEEJUhUolmDIs/nSQ4ySEEEKIqiAP+QghdOrnn3+mR48eWFhY0Lx5c0JCQrh69eoTj8PDw4MdO3Y88XYfVXR0NB07dqzqMHBzcyMiIgKA3bt3Exsbqy6bMmUKoaGhFaqnsLCQGTNm0KhRI8zNzRkwYABXrlxRl1+6dInAwEDMzc1p0qQJX375Zbl1ltd+WbE/Lk/quKWkpGBhYVHqsuLb/Sx4UsdOPB5PXYLp6+vL8ePHqzqMBwoJCaF79+68++67VR2KEE/czp076d+/P2+88QYHDhxg9erVpKen4+Pjw927d6s6PPEQwsLC6Ny5M3D/D/2vv/5aqXqmT5/Ozp07+eGHH0hISKCgoIAxY8aoy4cOHcrzzz/PsWPHWL9+PStWrCAyMvJfEfvTpvh2Pwv+S8fuWaSzBPPUqVOMHTv2keqoxPNG/zpz5sxhypQpOqvvm2++wcvLi65duxIeHl5i+bJly3B0dJThcPGvEBYWxqxZs3jvvfdwdHSkbdu2rFu3Dj09PfUPhUajISQkBDs7O2xtbRk9ejS5ubnA/V4gDw8PJkyYgLOzM127diU5ORk/Pz+aNGlC9+7duXz5sta6n376KU5OTjRr1oyFCxc+MLaYmBhcXV0xNzenR48eJCQkALBq1SratGlDXl4eADNmzMDLy6vE9Uij0VCzZk0iIiJo1aoV1tbWTJ48WV3+z161pKQkbGxsHnq7isyaNQtLS0ucnJxKbNfixYtp3rw5NjY2DB48mKysLLUdd3d3hg8fTv369Tl27JhWuSVLluDt7a3+HhISQuPGjdXfZ8+ezYABA9T/JyQkMHr0aFauXMmMGTNo1aqVuu7du3cZMmQI5ubmuLq6cuLEiVL3+wsvvMDSpUtp1qwZVlZWvP3228THx6vLzc3NmTRpEubm5rz00kv06dNHPTZl0Wg0BAcHU79+fdq2bUtMTIzWdpQVe5HS9ldubi4ffvghtra2ODk58emnn6o3R4WFhcycORNnZ2fMzc3x9vYmMzOz3FjLKld0bkydOpWGDRvSrFkzoqKi1LLZ2dm89dZbWFhY0KJFCw4ePPjAdoq2G+6fj6NHj8bf359GjRoxcuRIEhIS6NKlCw4ODowaNYp79+4BcOzYMby9vbGysqJZs2Z88803WvWGh4fTsGFDbGxsWLZsGa1btyYuLq5E+1OmTGHs2LEEBATQsGFD2rVrp3Vcrl69yvDhw3FwcMDGxoaPPvpIjWHKlCmMGDGCbt26YW9vX+qxS0lJwcvLS617z5495e57UXV0kmCePHmS4cOHExMTg4+PD8HBweqynJwcPvjgAwIDA/Hx8WHDhg3qstDQUCIjIxk8eDCenp5qAqXRaBg3bhy+vr54eXmVONl//PFHgoKCcHd3r9AJduHCBQYNGoSfnx/e3t5ad0TR0dH4+PgQFBTE22+/rQ7deHp6MmnSJPr378+SJUvw9PTkxIkT5Ofn8+KLLzJnzhzGjBmDn58f58+fLzeGv//+m4EDBxIcHIyfn5/65ty7dy8BAQEUFhYCMHjwYHbv3g1AXFwc+/fvZ8uWLfz4449YWVmRn5+v1hkTE8O1a9eoVq1aue0L8bidPXuWixcvEhAQoPW6gYEBv/zyC+7u7gBMmDCBpKQk4uPjSUhI4NSpU1qJWWJiIl5eXiQlJdGmTRt69uzJpEmTOHXqFE2aNNG6gTt69CgmJiYkJyeza9cuwsPD1fdPcampqQQHBzN58mTS0tIICAjA29ubmzdvMmjQIOzt7ZkzZw5nz55lyZIlLFy4ED09vVK38/jx48TFxREbG8vKlSsr3MPyMNt16tQprl+/zt9//83GjRuZMWOGul2RkZEsWrSIbdu2kZycjKmpKW+99ZZaNiEhATc3N9LS0mjZsqVWDL179+bAgQPqA4C//PIL+vr6XLhwAbh/TenVq5dWmXnz5jFkyBDGjx+vlbBGRUUxaNAgzpw5Q+vWrfn4449L3e433niDFi1aAPev7REREbz66qvq8hUrVmBpaQncnzf+22+/8fLLL5e7PyMiIvDx8SEjI4P333+foKCgEsneg2Iv7p/7KywsjPT0dI4dO0ZsbCy7d+9Wh+0PHjzIzz//zObNm0lNTcXBwYHx48eXG2t55Y4cOcILL7zA2bNnmTFjBiNHjlRvuoqmmCQlJbFnzx6WLFlSbntF9u3bx/z580lMTCQxMZExY8awZcsWkpKSOHz4MBs3bgTuJ5Bubm6cPXuWqKgoPvnkE06fPg3Ahg0bWLRoETt27CA5OZmEhATS09Mf2Obq1asZPnw4KSkpTJ48mf79+6vHJSIigvz8fOLj4zl27BiHDx9m1apVatmffvqJmTNnkpKSUuqxGzZsGB4eHqSkpLBw4UIWLlyoJqji30cnCWbz5s0ZN24c7u7ubN68mTVr1qjLli9fjrm5OREREaxZs4Z58+aRkZEBgIODA+Hh4UycOJGdO3eqPaDLly+nTp06bNq0icjISPbt21fiwrFu3Tq++OILvvrqq3LjCwsLY/DgweqFuuiEvnXrFhMnTmT58uWsW7eOtm3bMmfOHADS0tIYNWoUxsbGWFhY4O/vz/79+9HX1+fmzZt06tSJ8PBwfH19KxTDxIkT+fjjj1mzZg1z585Vt9XDw4PmzZuzcuVK1q5di62trXqB/+mnn2jRogUjRowgICAAIyMjjI2NAUhOTmbz5s0VngclxON25coV6tSpU+ZHYxUUFPD9998za9Ys6tWrR7169Zg9ezbr169Xb56sra1xdXUFoEuXLlhaWtKqVSv09PRwd3cnJSVFrc/ExERNbBwdHXn33Xe1bmKLbNq0CU9PT3r16oWRkRFDhgzBxsaGvXv3ArBw4UJWrlzJkCFDCAsLw8HB4YHbMGzYMExMTGjYsCGurq4kJSVVaP88zHYZGBjw2WefYWpqSps2bRgxYoS6XWvWrCEsLAwnJyeqVavGzJkziY2NVW+O7e3tCQwMxMTEpESS7ODggJ2dHQcOHCAtLQ0DAwP69OnDvn37uHPnDnFxcfTo0aNC29O9e3fc3NyoUaMG77zzTrn7ISAgAGtra5KTk/n8889LXWfMmDFYWFjg4+MD3E+mHRwc1J/io2Surq707dsXIyMjBg4cSKtWrSo157b4/rp37x7r16/nyy+/pE6dOlhYWDB+/Hg2b96strlnzx6cnJy4cuUK9evXJzk5udw2yitnbW1Nv3790NPTw8fHBz09Pc6dO8fdu3fZunUr06dP5/nnn8fKyuqBiXxpOnfujIWFBdWqVaN9+/a0bduW2rVr89xzz/HKK6+o59yqVasICQmhsLCQgoICatWqxdmzZ4H7f2tDQkJwdnamWrVqzJo1S6ujo7Q2u3TpAoCXlxdt2rRRj8uoUaNYuXIlZmZmXLt2jQYNGnDmzBm1bO/evXFxccHAwKDUuo2NjUlPTycrK4t27dqxdevWB64rql6lP2i9oo4cOcKoUaOA+5/L2LJlSxITE7GysqJ69ep06NABJycnrTJxcXFqGVNTU9auXau1vKgnxMHBgevXr5fZfmFhIfHx8eq8FGdnZ77++msA/vrrLxwdHalfvz5w/41RdAEzMjLCwsKCGjVqYG5uzr1799QHFfT19dU77BYtWmgl1KVRFIWEhAQ+++wzrddu376NmZkZ48ePx9/fn8LCQvWOEiAzMxONRsPixYu5ffs23t7evPjii9SrV48vvviCefPmoa//1E2jFc+oevXqcf36dfLz89UboX+6fv06ubm5Wu95JycnNBoN165dA+C5557TKvPPPyBFvf0AFhYWWkmUvb09+/fvL9FuRkYG69evZ+fOnepr2dnZalJmY2ODvb09hw4dKndUpHbt2ur/TUxMKjw95WG2y8rKCkPD/7s8N2zYkN9++w24f02NiYkp0XNWNExuZmZWZhy9evVi3759pKen4+bmRqdOndi+fTsWFha88MILNGjQoELbU7duXfX/pqam5c6xXbJkCenp6Xz33Xd4eXmxb98+rfNk8uTJHD58mF27dqnH9LXXXqNDhw7qOtWrV1f/b2dnp1V/w4YNKzRc/U/F91fR+dmxY0c1huzsbGrWrAncfyBp9OjRHDt2DHt7e8zMzLSO24OUV65OnTpa65uYmHD37l1u3LhBXl4ejRo1UpeVdfPzT/8c3Sp+Tunp6akxfPvtt3z11VcYGxurUyaKegYzMjJo0qSJWq5WrVpax/6frKystH63s7NTj8uBAweYMGEC169fx9HRkevXr2v1QBY/vqVZsmQJU6dOpW3btjRo0ICQkBACAwPLLCOqTpVkJ8WTInNz8xLLFUUpcz5m8YuSrudtFsVWPMai/xe1paenp158CgsLHziUVqRo+Xfffcf69etZv349+/fvVy9sGo2GvLw88vPztT7AvmbNmnTp0gUjIyPq1KlDmzZtOHXqFLt37+bChQsMGDAAHx8f8vLy8PX1LfOuUojHrVGjRlhYWLBp0yat1+/du4ebmxt79+6lTp06VKtWTav3pmiY9/nnn3/oNtPS0tS5kwCnT59Wh1uLs7CwICgoiLS0NPUnOzubd955B4A///yT9PR0evXqxdy5cx86Drh/U1r8s2f/OafyYaSlpWm9n8+cOaNu10svvcSSJUtKbIuzs3OF6u7VqxexsbHs37+fbt260aVLFw4cOMAvv/xSYnhcF/bv38/NmzepU6cOL7zwArNmzeLs2bOcPHlSXWfGjBns2rWLLVu2qMkc3E+QrK2t1Z/iyX1RD1uRM2fOPPDp6oqqXbs21apVU3t4i/ZtWloaADNnzqR27dokJiaya9cugoKCKlRvZcvVrl0bU1NTdbga0Orp1oXMzEzGjBnDxo0bOXjwIGvXrtU6BvXq1ePcuXPq73fu3FFvBktTvEcS7r8ni47LqFGjGDJkCEePHmXz5s0VmgpRnK2tLStXruTcuXPMnDmTkSNHasUm/l10lmAaGxuXetIVn3ydk5PDiRMnSswLKq1M0dBVfn4+fn5+6hu8PFFRUaxevVr9XV9fn9atW6u9GufOncPX1xeAZs2ace7cObVnMjY2tkIn/L179zh8+DAAhw8fpnnz5lrL9fX1S8wLadu2LVu2bAHu9zR88cUX6rIJEyYwYsQIQkJCGDt2rJrIvvrqq+zatYuCggLu3LnDn3/+iZOTEwEBAezevZvNmzezefNmTExM2LRp0wN7jYR4UqZPn87YsWNZtmwZ586dIyEhgeDgYAoLC+nYsSOGhob079+f0NBQMjMzyczMZNy4cQQGBlbq/NXT0yMsLIycnBzi4uJYtmyZOgfU2NiYy5cvoygKfn5+bN++ncjISDQaDQcPHsTFxYWLFy+Sn5/P8OHDGT9+PPPnz2fp0qUPnK9XlmbNmrFz505OnDhBRkZGmQ8clcfAwEBru5YuXapu18CBA/n000/5888/yc3NZeXKlbz22msVvtnu0KED58+f548//qBz587UrFkTa2trtmzZ8sAE08zMjNTU1Ep9ecP06dMZOXIkqampXLp0ifDwcIyMjNSeuK+++opVq1bx3Xffoa+vz9WrV8nOzi633vj4eCIiItR9cOLECby8vB4pdiMjIwICAnjvvfe4ePEiN27c4IMPPmDatGnA/U6GO3fukJubq84DLF42Ozu71HbKKldePD4+PoSFhZGVlcWFCxdKfdjzURT1Yl69epU7d+7w3Xffad0Avvnmm8ydO5czZ86Qm5vL+PHjyxyWPnLkiHpcVqxYwcmTJ9XjoigKN27cQKPR8Ouvv6p/Ex+k+LErLCzExcWFTZs2kZeXR7Vq1dDX11d7Zb/88ksOHTr0qLtD6JDOEkwXFxeysrLw9PTEz89PvcsaOnQoFy9eJDg4mMGDBxMaGlpqr2Vx77zzDpcvX8bf31/tpSt6GrM88fHxJZ6ymzFjBitXriQwMJDQ0FB1aKlGjRp8/vnnDB8+nODgYI4ePcro0aPLbeO5557j4MGDvP3222zdupWRI0dqLXd0dCQ5OZl+/fqpF6bPPvuMHTt2EBgYyIgRI9S5WOvXr1fnQXXv3p0GDRqwYsUKAHr27MkLL7yAt7c3Pj4+DBo0SGuoQoh/mz59+rBq1So2btzIK6+8QmBgIJaWlmzdulWdmzl9+nScnZ1xcXHBxcWFpk2bMnPmzEq15+TkhJ2dHS1btiQoKIgpU6aocwj9/f0ZP348X3/9NQ4ODnz//ffMnz8fOzs7Ro0axbhx47C0tGTGjBnUrVuX4OBgLC0t+eSTTxg2bNhDjwj4+PjQtWtXPDw88PT0VOcRVoazszO2trbqdk2ePFndrn79+hESEkJQUBCOjo5s2LCBadOmlTuSUsTAwIDOnTvToEEDdQi1a9euZGdn07p161LLDBo0iPj4eBo1avTQHzf13XffYWBgQMeOHWnVqhX79u1j+/bt1KpVS50Hn5GRQYcOHXB0dMTR0bHEg2IPimnPnj00atSIZcuWERERUerw/sPGPnPmTJo2bUr79u1p3bo12dnZ6sfOTZo0iZycHJycnBgwYIBWQvvyyy9Tq1YtWrRoUSLZL6tcecLDw7GysqJVq1b07t2bkJCQCpetCEtLS+bPn8+QIUNo1qwZSUlJuLi4qMuHDBlCQEAAXbt2xcnJCWdn5zKnUQQFBanHZfny5VrH5euvv2bDhg04OjoyZ84crU80KE3xY3fv3j3mz5/PggULsLOzY8SIESxevFjNDbZu3VqhTx8QT06lvou8Kj40+d+ioKCAVq1aVXhif1Ura66MEE+z6OhopkyZos5NFEI8HoqiaN3A2NnZsX379hI3JFOmTEGj0TBr1qwnHaL4F5InRIQQQghRqh9//JFevXqRmprK3bt3Wb58OYCMpolyPfanyJ81hoaGT03vpRBCCPEo3Nzc1M9HvXr1Ks2bN2fDhg3y+cuiXJUaIr9586Z8c8xTwNDQkFq1alV1GEIIIYT4j6nUELmpqamu4xCPgRwnIYQQQlSFSg2RFz0NqtFopCfzX8jQ0BBTU9Myv1FFCCGEEOJxqdQQuRBCCCGEEA8iT5ELIYQQQgidkgRTCCGEEELolCSYQgghhBBCpyTBFEIIIYQQOiUJphBCCCGE0ClJMIUQQgghhE5JgimEEEIIIXRKEkwhhBBCCKFTlfomn9u3b+s6DiGEEEII8YyQb/IRQgghhBA6JUPkQgghhBBCpyTBFEIIIYQQOiUJphBCCCGE0ClJMIUQQgghhE5JgimEEEIIIXRKEkwhhBBCCKFTkmAKIYQQQgidkgRTCCGEEELolCSYQgghhBBCpyTBFEIIIYQQOiUJphBCCCGE0CnDyhbMy8tDo9FQUFCgy3jEY2RoaIipqSkmJiZVHYoQQgghnmF6iqIoD1soLy+P27dvP454xBNgZmYmSaYQQgghHptKDZFrNBpdxyGeIDl+QgghhHicKpVgyrD4002On3icfv75Z3r06IGFhQXNmzcnJCSEq1evPvE4PDw82LFjxxNv91FFR0fTsWPHqg4DNzc3IiIiANi9ezexsbHqsilTphAaGlrhuiIjI3nxxRepX78+np6epKamlrre+++/T82aNUlJSSmzPo1GQ82aNbl582apy7dt24aLiwuKopCTk8OMGTMqHOujeFLn3NChQ1mwYEGJ14tv97PgSR47oXtP3UM+vr6+HD9+vKrDeKCQkBC6d+/Ou+++W9WhCPHE7dy5k/79+/PGG29w4MABVq9eTXp6Oj4+Pty9e7eqwxMPISwsjM6dOwP3E8xff/21UvUcOHCA0NBQ5s6dS1JSEh07dqR3797k5+drrRcbG8vevXsfOW6AV155hcmTJ6Onp8ft27f/M0lK8e1+FvyXjt2zSGcJ5qlTpxg7duwj1fEs3HXNmTOHKVOm6KSuu3fvcvz4cd566y0++OADrWU7duzA09MTLy8v/P39uXDhAgDXr19n5MiRDBo0iMDAQFasWKGTWISoiLCwMGbNmsV7772Ho6Mjbdu2Zd26dejp6akJikajISQkBDs7O2xtbRk9ejS5ubnA/d47Dw8PJkyYgLOzM127diU5ORk/Pz+aNGlC9+7duXz5sta6n376KU5OTjRr1oyFCxc+MLaYmBhcXV0xNzenR48eJCQkALBq1SratGlDXl4eADNmzMDLy6vE9aio1ywiIoJWrVphbW3N5MmT1eX/7NVLSkrCxsbmoberyKxZs7C0tMTJyanEdi1evJjmzZtjY2PD4MGDycrK+PG5vwAAIABJREFUUttxd3dn+PDh1K9fn2PHjmmVW7JkCd7e3urvISEhNG7cWP199uzZDBgwQP1/QkICo0ePZuXKlcyYMYNWrVqp6969e5chQ4Zgbm6Oq6srJ06cKHW/L1q0iAkTJuDu7k79+vWZMGEC8+bN07rhyM3N5f3332f+/PkPNT/8p59+okmTJlhaWjJq1Cj1PDp+/DizZs0iLS0NJycnACwsLFi9enWJOjw8PJg2bRovvPACQUFBwIPPFYBjx47h7e2NlZUVzZo145tvvqlQrGWV8/DwYMGCBXTq1AkrKyv8/Py4deuWunzr1q28+OKLNGjQgPfee4/CwsJS2yjabvi/83Xt2rW89NJLtGjRgri4OEJDQ3nhhRdo0aIFhw4dAqCwsJCZM2fi7OyMubk53t7eZGZmqvWeOXOGnj170qBBA7p168a8efPw8fEp0X5Rm5s2baJFixY4ODhoHReALVu2qPu2ffv2/P7771plv/rqK2xtbZk+fXqpx27OnDm0atWKxo0b8+6773Lnzp0K7X/x5OkkwTx58iTDhw8nJiYGHx8fgoOD1WU5OTl88MEHBAYG4uPjw4YNG9RloaGhREZGMnjwYDw9PQkPDwfun2jjxo3D19cXLy+vEm/gH3/8kaCgINzd3dmzZ0+58V24cIFBgwbh5+eHt7e31p14dHQ0Pj4+BAUF8fbbb3PlyhUAPD09mTRpEv3792fJkiV4enpy4sQJ8vPzefHFF5kzZw5jxozBz8+P8+fPlxvD33//zcCBAwkODsbPz4+4uDgA9u7dS0BAgHrBGDx4MLt37wbuX+A3bdpEly5dtOrKy8vj888/57vvvmPHjh107dqVxYsXA7Bs2TKaNGnCqlWr+O6771iyZInWhUKIx+Xs2bNcvHiRgIAArdcNDAz45ZdfcHd3B2DChAkkJSURHx9PQkICp06d0krMEhMT8fLyIikpiTZt2tCzZ08mTZrEqVOnaNKkidYN3NGjRzExMSE5OZldu3YRHh6uvn+KS01NJTg4mMmTJ5OWlkZAQADe3t7cvHmTQYMGYW9vz5w5czh79ixLlixh4cKFD+wFOn78OHFxccTGxrJy5coK9+w9zHadOnWK69ev8/fff7Nx40ZmzJihbldkZCSLFi1i27ZtJCcnY2pqyltvvaWWTUhIwM3NjbS0NFq2bKkVQ+/evTlw4IA6D/uXX35BX19fvUGNiYmhV69eWmXmzZvHkCFDGD9+vFbCGhUVxaBBgzhz5gytW7fm448/LnW7Dx06RP369XnzzTdxdnZmwIABODs7U716dXWdzz//nHbt2tGtW7cK7csia9eu5cCBAxw9epQ///yTzz77TGu5jY0NycnJAFy6dImBAweWWs/+/fv58ccfWbt2bZnnCkB4eDhubm6cPXuWqKgoPvnkE06fPl1urOWV27ZtG1u3buX06dNcvXpVvak4deoUQ4cO5bPPPiM9PZ0XX3yRbdu2VXgfXb9+nfj4eD777DPeeOMNmjRpQmJiIpMmTeLtt98G4ODBg/z8889s3ryZ1NRUHBwcGD9+PAD37t3D39+fNm3acP78eWbOnMm8efPKbDMqKoojR45w4sQJzpw5ox6XGzduMHv2bKZNm0ZaWhoffvghgwYN0iqbmppKUlISYWFhJY5dTEwM33zzDdHR0SQlJWFoaEh0dHSF94V4snSSYDZv3pxx48bh7u7O5s2bWbNmjbps+fLlmJubExERwZo1a5g3bx4ZGRkAODg4EB4ezsSJE9m5c6faA7p8+XLq1KnDpk2biIyMZN++fSWSpHXr1vHFF1/w1VdflRtfWFgYgwcPVi/Uq1atAuDWrVtMnDiR5cuXs27dOtq2bcucOf+/vTuPqyn//wD+ai8tpHRv2jfRqGgqJJMsIRqFSmQQsoxpUFRTgxEpyzQYM/KdMQjtQvP1NWMdWSfDWLJUg0wLuS0iXVf6/P7o0fl1tdxqrrG9n4/HfTxu95zPcj7ndu/7fJZzvwYAFBYWYv78+VBUVASfz4evry9OnjwJWVlZPHr0CIMGDcL69evh7e3dpjpERERgyZIlSEhIQFxcHHesQ4YMQa9evbBt2zbs2rULBgYG3Af8F198gRUrVkBXV1csLyUlJZw9exY6OjoA6udUamlpAQB4PB7Ky8sBAE+fPoWSkhLU1dUl1o+Qf0ogEEBTU7PVHqja2lrs3r0bsbGx0NbWhra2NtauXYukpCRuyFRPTw9OTk4AgMGDB0NXVxc2NjaQkZGBq6ur2Pw8JSUlLrAxMTFBYGCg2EVsg9TUVLi7u2PkyJFQUFBAQEAA9PX1uSHZb7/9Ftu2bUNAQADCwsJgbGzc4jHMnj0bSkpKMDU1hZOTE65fv96m9mnPccnJyWHlypVQVlZG3759MXfuXO64EhISEBYWBgsLC6ioqCAmJgZZWVncxbGRkRH8/PygpKTUJEg2NjaGoaEhzp49i8LCQsjJycHDwwMnTpzA06dPkZ2dDTc3tzYdz/Dhw+Hi4gJ1dXXMmjWrxXYQCAT46quvMGPGDCQlJUFJSQnjxo3jLqr//PNPpKamcj1vLxs0aBCMjY25R2FhIbctIiICWlpa4PF4iIqKavbct8XMmTOhp6cHWVlZie+VHTt2YNGiRairq0NtbS06d+6Mv/76S2IZktJNmzYNXbt2hZqaGjw9PXHjxg0AQEZGBtzc3DBmzBgoKCggMDAQPXr0aPOxTZgwAUD9d83jx4+5v11dXVFQUIC6ujo4OTnh8OHDsLCwgEAgQLdu3bjg7sKFCxAIBNz70d7evslF5MuWLFkCZWVlqKqqIjIykjsvXbp0wenTpzF06FBUVVWhc+fOePDggdhdaRYuXAh1dXXIyjYNTxQUFCAUCpGXlwc5OTl89913+Pjjj9vcFuTf1eH7YLbVH3/8gfnz5wOovz2OtbU1rl27hu7du0NVVRUDBgzgusEbZGdnc2mUlZWxa9cuse0NPSHGxsaoqKhotfy6ujpcvHiRm0tkZWWF//znPwCAmzdvwsTEBN26dQMAfPTRR1zgp6CgAD6fD3V1dfB4PLx48YJbqCArK4sPP/wQAPDBBx+IBdTNYYzh0qVLYlfXjDE8efIEampqCA8Ph6+vL+rq6pCSktJqXi/LzMzEsWPHsH37dgCAn58f/Pz8MHr0aDx8+BDz589Hp06d2pUnIR2hra2NiooKiEQiKCoqNrtPRUUFampqxP7nLSwsIBQKuQujl9+vcnJyYn83Hh7k8/liQZSRkRFOnjzZpNzi4mIkJSXh4MGD3GtVVVVcUKavrw8jIyP8/vvvEkdFunTpwj1XUlJq86K59hxX9+7dIS///x/PpqamOH36NID6z9Tjx49zPUwNGobJ1dTUWq3HyJEjceLECRQVFcHFxQWDBg1CZmYm+Hw+evfuzV24StJwUQvUf063NMdWQUEBQUFBcHd3B1A/yqKvr49Lly7B1tYWn376KWJiYqCpqdls+rS0NLE25vP5XFkGBgbc62ZmZigtLW1x+Lg1jXtTJb1XfvrpJ2zatAmKiorc9IIXL15ILENSupffVw3HWFpaClNTU7G8WrsAetnL77uG91XD/01dXR1KS0uxYMECXLlyBUZGRlBTU+PasaioCCYmJk3ej7du3WqxzMadIkZGRtx5efHiBSIjI5GZmQkdHR1YWlpy7dCQf2vvX2dnZ0RGRiI0NBR37tzBiBEjEBMT0+b3LPl3vZZFPo2vTHg8XpPtjLFW52M2/vKS9rzNhro1rmPD84ayZGRkxP45JU2obti+fft2JCUlISkpCSdPnuT+kYRCIZ49ewaRSNTm+4syxhATE4PDhw8jISGBy2vFihXw8vLCf//7X5w8eRIpKSktzo0iRJrMzMzA5/ORmpoq9vqLFy/g4uKCY8eOQVNTEyoqKlzvCABumLdr167tLrOwsJCbOwkAubm5TXr8gfqgZNKkSSgsLOQeVVVVmDVrFgDg8uXLKCoqwsiRIxEXF9fuegD/37vS4OU5le1RWFgotggmPz+fOy47Ozt8//33TY7FysqqTXmPHDkSWVlZOHnyJIYNG4bBgwfj7Nmz+O2335oMj0uDpaWl2GekrKwsVFRUwBjDmTNncPXqVXz22WfQ19eHvr4+nj17hj59+nDvIx6PBz09Pe7RODBv3AOYn58PHo/XbM9Xe7T2Xnnw4AGCg4ORkpKCc+fOYdeuXdDQ0JCYZ0fTAfXH3/j/BYDEVfbtFRMTgy5duuDatWv43//+x81FBeovHP/++2+x79rGvcjNyc/P557n5uZy52X//v04fvw4zp8/jxMnTmDVqlXtruv06dNx6tQpXLt2DU+ePBGbB03eLFILMBUVFbkeiMYcHBxw/PhxAPXzMXNycprMC2ouTcNwhEgkgo+Pj8Q3dIP09HSxidyysrKwtbXlejXu3r0Lb29vAEDPnj1x9+5drmcyKyuL65lszYsXL3DhwgUA9cMHvXr1EtsuKyvb5IrWwcEB+/btA1B/RbpmzRpu2xdffIG5c+di0aJFCAkJaVPQHBYWBhkZGWzcuBEqKirc6w8fPuSuhJWUlKCgoIDKykqJ+REiDdHR0QgJCUF8fDzu3r2LS5cuYcqUKairq8PAgQMhLy+PyZMnIzQ0FA8ePMCDBw+wePFi+Pn5tdjr2RoZGRmEhYWhuroa2dnZiI+P54bvFBUV8fDhQzDG4OPjg8zMTKSlpUEoFOLcuXOwt7dHSUkJRCIR5syZg/DwcGzYsAFbtmxpsjimLXr27ImDBw8iJycHxcXFrS44kkROTk7suLZs2cId1yeffIIVK1bg8uXLqKmpwbZt2zB69Og2X2wPGDAA9+7dw/nz5/HRRx9BQ0MDenp62LdvX4sBppqaGgoKCjp0D92AgADExMTg8uXLEAgECAoKgpaWFvr27QtHR0dcu3YNZ86c4R5A/aKWhh7P1qxZswb3799HUVERIiMjmx26bbj4vn37dpt6m1t7rzT06pWVleHp06fYvn27WPDX+D3XmKR0rRk3bhyOHj2K9PR01NTU4Ntvv23xNk8dxRjD06dPUVNTg9u3b4u9d/v37w9FRUWsWrUKIpEIf/75Z5NRxZfFxMRw52Xp0qVi50UkEqGqqgplZWUSA8yXz11ycjLc3d1RWFgIeXl5KCoqcp8bN27cwPLlyzvYAuRVkFqAaW9vj9LSUri7u8PHx4e7wpo5cyZKSkowZcoUTJs2DaGhoc32WjY2a9YsPHz4EL6+vvD394eXlxe3GlOSixcv4ty5c2KvrV69Gtu2bYOfnx9CQ0O5oSV1dXWsWrUKc+bMwZQpU/Dnn39iwYIFEsvo1KkTzp07hxkzZmD//v349NNPxbabmJggLy8PEyZMQFRUFABg5cqV+Pnnn+Hn54e5c+dyc7GSkpK4eVDDhw+Hjo4Ot/L766+/hpeXF2JiYnDq1Cl4eXlhx44dyMnJQUpKCrKysuDh4QEPDw98/vnnAOoXTiUlJcHf3x/e3t5wdHTkyiLkVfPw8MCOHTuQkpKCfv36wc/PD7q6uti/fz83NzM6OhpWVlawt7eHvb09LC0tERMT06HyLCwsYGhoCGtra0yaNAnLli3j5hD6+voiPDwc//nPf2BsbIzdu3djw4YNMDQ0xPz587F48WLo6upi9erV0NLSwpQpU6Crq4svv/wSs2fPbnIbHUm8vLwwdOhQDBkyBO7u7s2usm0rKysrGBgYcMe1dOlS7rgmTJiARYsWYdKkSTAxMUFycjKioqLafGsaOTk5fPTRR9DR0eEuThvmxNna2jabZurUqbh48SLMzMzafbupadOmYcaMGZg8eTI++OADlJSUYO/evZCTk4OysjIMDQ3FHkpKSjAyMhIbtm7J3Llz4ebmBgcHB3z44YeIiIhoso+qqiqCg4Ph5OTU7L0jX9bae0VXVxcbNmxAQEAAevbsievXr8Pe3p5L2/g915ikdK2xsLDA9u3bERUVBUNDQ9y6desfvbeaExkZierqalhYWMDf3x9jxozhtikqKiI5ORlHjhyBnp4egoODMXv27FbzmzFjRrPnxdPTE25ubhg4cCCcnZ1hZ2fXaj4vn7uxY8eiV69ecHFx4abZNCyOu3nzJtLT0+mHRN4gHfqpyNdx0+Q3RW1tLWxsbNo8sf9N1Xj+FCFvoyNHjmDZsmXc3ERCyKvBGBO7gNmyZQtOnDiBpKQksf2EQiF0dHTw999/o3Pnzv92Nckb5q270TohhBBC/h2MMYwcORI7d+6EUCjEvXv3kJCQAEdHx9ddNfKGowCzneTl5d/63ktCCCGkLWRkZLB06VIkJCTAxMQEgwcPhpOTEz777LPXXTXyhuvQEPmjR4/o96zfYvLy8jR8QQghhJBXpkM9mMrKytKuB/kX0fkjhBBCyKvUoRutN6wGFQqF1JP5FpGXl4eysnK7fuuXEEIIIaS9OjRETgghhBBCSEtokQ8hhBBCCJEqCjAJIYQQQohUUYBJCCGEEEKkigJMQgghhBAiVRRgEkIIIYQQqaIAkxBCCCGESBUFmIQQQgghRKoowCSEEEIIIVJFASYhhBBCCJGqDv1U5JMnT6RdD0IIIYQQ8o6gn4okhBBCCCFSRUPkhBBCCCFEqijAJIQQQgghUkUBJiGEEEIIkSoKMAkhhBBCiFRRgEkIIYQQQqSKAkxCCCGEECJVFGASQgghhBCpogCTEEIIIYRIFQWYhBBCCCFEqijAJIQQQgghUkUBJiGEEEIIkSr5jiZ89uwZhEIhamtrpVmfd5q8vDyUlZWhpKT0uqtCCCGEEPLKyDDGWHsTPXv2DE+ePHkV9XkvqKmpUZBJCCGEkHdWh4bIhUKhtOvxXqH2I4QQQsi7rEMBJg2L/zPUfuRddvToUbi5uYHP58PMzAyfffYZysvLX3m5169fx+7du7m/w8PDMX/+fKmXM3PmTGzcuLHZbRcuXMDgwYPRrVs32NraIjk5WWJ+Q4YMwc8//9zstqKiIlhaWiIvLw8AsHXrVty7d6/ddXZxcUFiYmK70/1TLbXVy8fVmkOHDiErK+tVVI8Q8gq9dYt8vL29cfXqVanmWV5eDnNzc6nmScj76ODBg5g8eTI8PT1x9uxZpKamoqysDG5ubqipqXmlZb8cYE6cOBFTp059pWU2JhQK4ePjA09PT+Tm5mLt2rUICgrClStXOpwnj8fD8uXLYWhoCACIj49HQUFBu/MJCwvDRx991OF6SNvLx9WaQ4cO4dSpU/9CrQgh0iS1APPWrVsICQn5R3l0YDqoVHTt2rVdQWtdXR08PT2bfT0mJgb+/v6YMmUKQkNDIRKJpFlVQt5oYWFhiI2Nxbx582BiYgI7Ozvs2rULqqqq+PHHHwEAR44cwcCBA8XSGRsbc4HYvn374OTkBB6Ph/79++PMmTMA6gM4DQ0NJCYmwsbGBnp6eli6dCkAICUlBQEBATh16hT4fD7y8/Oxd+9epKWlAQCSk5OhoaEh9hg2bBgAoKamBp9//jkMDAxgYWGBFStW4Pnz51zd9u/fjz59+kBHRwfz5s1DXV1ds8d+//59lJeXY968edDU1ISbmxusrKyQk5Mjsd3u3LkDZ2dn6OjoYPTo0VwQWVtbi9mzZ0MoFMLR0RF5eXkYPXo05syZ02w+X3/9NWxsbGBubo7AwEA8ffoUALB27VpcunQJAFBdXY3AwEDw+Xx88MEHSEtLQ7du3SS2cYPvvvsOvXr1gr6+PqZNm4bS0tJ2t1Xj42qtzAULFmDbtm1YvXo1bGxsAEg+X+vXr4epqSn09fURHx8PW1tbZGdnS0y7bNkyzJ07F8OGDYORkZHEc0YIaZ1UAswbN25gzpw5OH78OLy8vDBlyhRuW3V1NYKCguDn5wcvLy+xIaPQ0FCkpaVh2rRpcHd3x/r16wHUf8gtXrwY3t7eGDNmDH744Qex8n755RdMmjQJrq6uOHz4sMT6ZWdnY/To0Zg2bRrWrFmDwYMHc9tiYmLg5eUFW1tbsTRr1qxBZGQkFi5cCB8fH6xdu5bbNm7cONy4cQNeXl7w8vLC3bt3AQAnT57ElStXsGvXLiQkJKCsrAy//PJLm9uRkLfZX3/9hZKSEkycOFHsdVlZWUyePBlHjx6VmEdlZSXWrl2LqKgoFBYW4vPPP2/SC3n16lVkZ2cjKysL27Ztw6lTp+Dj44Nt27bB2dkZ9+/fbzIi4enpiTt37uDOnTv4448/0K1bN274PCwsDEVFRbhy5QqysrJw6NAhrFu3DkD9hfPMmTOxcuVKFBUVoU+fPjhw4ECzdTcwMECPHj3www8/oKamBsePH+cCR0k2b96MrVu3oqCgACYmJmKfoQ1+//13WFhY4L///S+2bNnSZPvx48fxww8/4MiRI7h+/Trk5eVx5MiRJvuFhobi3r17yMnJwdGjR/Htt9822ae5NgaAtLQ0bN68GQcOHEBeXh6UlZUxffr0drdVc5or85tvvkFAQADCw8O5C5DWzldycjI2b96Mn3/+GXl5ebh06RKKioq4MlpLCwC//vorYmJicPv27TbXmxDSPKkEmL169cLixYvh6uqKjIwMJCQkcNu2bt0KHo+HxMREJCQk4JtvvkFxcTGA+l6L9evXIyIiAgcPHuR6QLdu3QpNTU2kpqYiLS0NJ06cwIMHD8TK3LNnD9asWYNNmzZJrN/KlSvx5ZdfYvv27eDz+ZCTk+O2hYWFISMjA/Ly4ndskpOTQ1FREeLi4rB7927s2bMH1dXVAIBt27ahW7duyMjIQEZGBoyNjQEAOjo6ePz4MUQiEV68eIEnT56Az+e3v0EJeQsJBAJoamo2e4cEPp8PgUAgMY8uXbrg9OnTGDp0KKqqqtC5c2c8ePBA7K4Vs2fPhpKSEkxNTeHk5ITr169LzFdJSQlaWlro2rUrwsPDMXbsWHh6eqK2thZJSUlYt24dNDU1wefzER4ejoyMDABARkYG3NzcMGbMGCgoKCAwMBA9evRotgw5OTkuOObxeBg7diwWLFgAAwMDAEBISAiMjY25R0PvKgDMmjULVlZWUFFRwbp165CTk4Pc3FyJx9WYgoIChEIh8vLyICcnh++++w4ff/yx2D61tbVITU1FbGwstLS0wOfzsXjx4iZ5tdTGCQkJCAsLg4WFBVRUVBATE4OsrCwIBIJ2tVVz2nJeJZ2vPXv2YNGiRVxbxsbGcqNIktICwKhRo2Bvby/2HUEI6ZgO3wezrf744w+up0BNTQ3W1ta4du0aunfvDlVVVQwYMAAWFhZiabKzs7k0ysrK2LVrl9h2V1dXAPUBakVFhcQ65Obmws7ODgAwYMAA7Nixo011d3R0BFD/wd21a1dUVlZCVVW1xf2trKzw4YcfYujQoZCXl4e1tTXs7e3bVBYhbzttbW1UVFRAJBJBUVFRbNv9+/ehpaUlMY/nz58jMjISmZmZ0NHRgaWlJQDgxYsX3EVgly5duP2VlJTatWguLi4OxcXF3GdKRUUFampqMHDgQMjIyAAAqqqqoKGhAQAoLS2FqampWB4NF5Qvy8vLw/Tp0/HDDz9gyJAhuHnzJgICAqCrqwtfX19uRKRB165dueeN5yIqKytDV1cX9+/fb9McxQbOzs6IjIxEaGgo7ty5gxEjRiAmJgY6OjrcPg3H2zjwe/n4gJbb+I8//sDx48cRHh4utn9paWm72qo5bTmvks5XcXGx2LF17tyZe99JSgug1c93Qkj7vJZFPrKy/18sj8drsp0x1up8zMZfXm2Zt9l4n/Z8Gb3cqymprMzMTJSXl+PEiRM4duwY1NXV8dNPP7W5PELeZmZmZuDz+UhJSQEAXLp0CYMHD8bDhw+RmJiIoUOHAqj/v2q84EcoFHI9lPv378fx48dx/vx5nDhxAqtWrZJa/c6cOYOvv/4a27dvh7KyMoD6oEZFRQVnz55FYWEhCgsLUVVVhcLCQgD1n08vr3Ruafj0119/RZ8+fTB69GioqKigb9+++OSTT7gesi5dukBPT497qKiocGnz8/O55zU1NSguLoaurm67j3H69Ok4deoUrl27hidPnjSZP9m5c2coKChw03oAcMfaFnZ2dvj++++5tmpoLysrq3a1VUdJOl/a2tpix/b06VPuDgaS0hJCpEtqAaaiomKztyJxcHDA8ePHAdTPx8zJyYG1tXWreTk4OODYsWMAAJFIBB8fnzZ/CKSnp2Pnzp1ir5mbm3OTvH/77bc25dMaJSUlPH78uEmwWlpaClVVVcjJyUFGRgbq6uqorKz8x+UR8raIjo5GSEgI4uPjoampCXNzc5iZmUEgEGDGjBkAAAsLC9y5cwcHDhxARUUF1qxZgxcvXnB5iEQiVFVVoaysrF0Bprq6OkpLS1FVVdVkcYlAIEBAQAAiIyPB4/Hw6NEjPH78GAoKCpg4cSLmzZuHkpISVFZWIigoCFFRUQDq51sfPXoU6enpqKmpwbffftviKm4rKyucP38ehw8fxuPHj3HlyhXs2bMHvXv3llj3hIQEXL58GU+ePMHChQthY2PTZGQHqB8Fun37drMXysnJyXB3d0dhYSHk5eWhqKjYpCdZUVERHh4e+OKLL1BZWYnS0lLExsZKrF+DTz75BCtWrMDly5dRU1ODbdu2YfTo0WCMtaut2kNNTQ0FBQUQCoUSz9f48eMRFxeH/Px81NTUIDw8nBvulpT2ZTdu3MDy5cv/cf0JeV9JLcC0t7dHaWkp3N3d4ePjw125zpw5EyUlJZgyZQqmTZuG0NDQZnstG5s1axYePnwIX19f+Pv7w8vLC/r6+m2qx8WLF3Hu3Dmx1yIiIrBixQr4+fmJ3eT85s2b8Pb2hre3N549e8Y9l7TyW1VVFa6urnBzc8OECROQmZkJAPDz80N1dTV8fHwwadIk3Llzh/tSJeR94OHhgZ07dyIlJQX9+vXjLhRtbGzQqVMnAICenh5Wr16NoKAg9O3bFzweD927dwdQvxiAikofAAAgAElEQVTHzc0NAwcOhLOzMze1pS1cXFxgaGgIMzMz7oKywY4dO1BcXIwlS5bAwMAABgYG6Nu3L4D6hX6Wlpbo378/bG1tUVVVhcDAQAD1wfD27dsRFRUFQ0ND3Lp1C15eXs2W7+rqiujoaISGhsLY2BgTJkzAiBEjEBoaKrHuISEhWLRoEczMzMSG8F8WHByMqKgo+Pj4NNk2duxY9OrVCy4uLlxwumzZsib7xcXFQVVVFZaWlhg8eDCmTZsmsX4NJkyYgEWLFmHSpEkwMTFBcnIyoqKiICMj0662ao+pU6fi4sWLMDMzw/Pnz1s9XwEBAZg4cSKGDh0KCwsLWFlZiU0RaC3ty27evIn09HT6YQxCOqhDPxVZVlb2KuryrygsLMTUqVPbtKL1VWrLfDRC3gUikQibNm2Cn58fF0iS14sxxs1DvHbtGkaMGCG22vpt1vjYgPr5rZmZmU3uFEIIebXeuhutE0LeLoqKiggODqbg8g2xbNkyLFy4kJsmsHHjRm5B49vul19+wciRI1FQUIDnz59j69atANCu1eyEEOl47wJMfX391957SQghr0vDFCRbW1v06NEDjx49wubNm193taTCxcUFffv2xciRI6Gnp4fdu3cjOTlZbEEVIeTf0aEh8kePHtHvaf8D8vLy6Ny58+uuBiGEEELIK9GhHsyGW3yQjqH2I4QQQsi7rEM3Wm/4pQ6hUEg9me0gLy8PZWXlZn/phBBCCCHkXdGhIXJCCCGEEEJa8t4t8iGEEEIIIa8WBZiEEEIIIUSqKMAkhBBCCCFSRQEmIYQQQgiRKgowCSGEEEKIVFGASQghhBBCpIoCTEIIIYQQIlUUYBJCCCGEEKnq0C/5PHnyRNr1IIQQQggh7wj6JR9CCCGEECJVNEROCCGEEEKkigJMQgghhBAiVRRgEkIIIYQQqaIAkxBCCCGESBUFmIQQQgghRKoowCSEEEIIIVJFASYhhBBCCJEqCjAJIYQQQohUUYBJCCGEEEKkigJMQgghhBAiVRRgEkIIIYQQqZLvaMJnz55BKBSitrZWmvV5L8nLy0NZWRlKSkqvuyqEEEIIIf+YDGOMtTfRs2fP8OTJk1dRn/eampoaBZmEEEIIeet1aIhcKBRKux4E1K6EEEIIeTd0KMCkYfFXg9qVvAuOHj0KNzc38Pl8mJmZ4bPPPkN5efkrL/f69evYvXs393d4eDjmz58v9XJmzpyJjRs3NrvtwoULGDx4MLp16wZbW1skJydLzG/IkCH4+eefm91WVFQES0tL5OXlAQC2bt2Ke/fudbzy7fRy+f+mnj174tKlS01eP3DgAOzt7dGWwbdDhw4hKyvrVVSPECLBW7fIx9vbG1evXv3Xylu2bBk2bdr0r5VHyNvs4MGDmDx5Mjw9PXH27FmkpqairKwMbm5uqKmpeaVlvxxgTpw4EVOnTn2lZTYmFArh4+MDT09P5ObmYu3atQgKCsKVK1c6nCePx8Py5cthaGgIAIiPj0dBQYG0qtzu8t8E/fr1w9KlSyEjIyNx30OHDuHUqVP/Qq0IIS+TWoB569YthISE/KM8OjAd9JWLiIjAnDlz2rx/S+1w/fp1+Pv7Y+rUqZg4cSJOnz4tzWoS8kYICwtDbGws5s2bBxMTE9jZ2WHXrl1QVVXFjz/+CAA4cuQIBg4cKJbO2NiYC8T27dsHJycn8Hg89O/fH2fOnAFQH8BpaGggMTERNjY20NPTw9KlSwEAKSkpCAgIwKlTp8Dn85Gfn4+9e/ciLS0NAJCcnAwNDQ2xx7BhwwAANTU1+Pzzz2FgYAALCwusWLECz58/5+q2f/9+9OnTBzo6Opg3bx7q6uqaPfb79++jvLwc8+bNg6amJtzc3GBlZYWcnByJ7Xbnzh04OztDR0cHo0eP5oLI2tpazJ49G0KhEI6OjsjLy8Po0aOb/UxqrV1bazsAqK6uxty5c9GjRw9YWVlh3bp1Tcpv2C8wMBB8Ph8ffPAB0tLS0K1bN678IUOGYPny5TA1NUXPnj2Rnp7OldFaOzPGsHr1apiYmMDAwABbt25tsa2uXr2K2NhYiWUuWLAA27Ztw+rVq2FjYwMAKCgowNixY8Hj8WBnZ4fU1FSxvNevXw9TU1Po6+sjPj4etra2yM7Olph22bJlmDt3LoYNGwYjI6MW607Ie4V1gEAgEHtkZWUxa2trZmRkxAYNGsRGjRrFbSsoKGCTJk1iw4cPZ4MGDWKbN2/mts2YMYNt2bKFjRkzhjk6OrKwsDAmEAhYYWEhmz59OnN1dWX9+/dnMTExXBpXV1cWFhbG3NzcmLW1NUtMTGxSn5cf//vf/1i/fv3YmDFj2JIlS1jv3r2ZQCBg9+/fZzo6Otx+P/30E5s2bRoTCATswoULbNCgQczS0pItW7aM26e4uJiZm5uz8PBw5ufnxwYMGMAuXLggsR2cnZ3ZwYMHmUAgYL/99huztbVttq6EvK3y8/OZtrY2EwqFTbbFx8czT09Pxhhjhw8fZk5OTmLbjYyM2OXLl1lFRQVzcnJiR44cYSKRiO3Zs4eZm5szxhirqalh6urqLDw8nAmFQvbXX38xPT09lpWVxRhjLDU1lY0aNYrLc+nSpWzJkiWMMcaEQiH3P5abm8tMTU1ZRkYGY4yxoKAgNn78eFZeXs5KSkrYgAEDWHR0NGOMsZs3bzJtbW2WmZnJRCIRi4+PZ1paWmzDhg1NjrG2tpY5ODiwzZs3s6dPn7Jjx44xIyMjdu/evVbbzdXVlVlaWrKcnBz29OlT9umnn7JBgwaJHXNlZSVjjDE7Ozt28uTJZvNprV0ltd1XX33FfH19WU1NDXv48CEbNWoUu3v3bpPyP/30UzZixAgmEAhYSUkJc3FxYdra2lz5GhoaLDU1ldXV1bG9e/cyHo/Hnj59KrGdt2/fzszNzdmtW7dYdXU1CwwMZJqamuzixYutHqekMj///HOujNraWmZvb8+io6OZUChkFy5cYLq6ulx7JiUlMRMTE+48zJ49m2lpabHff/9dYtqlS5cyU1NTlp2dzWpra1s934S8L6TSg9mrVy8sXrwYrq6uyMjIQEJCArdt69at4PF4SExMREJCAr755hsUFxcDqL+6Xr9+PSIiInDw4EGu52/r1q3Q1NREamoq0tLScOLECTx48ECszD179mDNmjVtGr5euXIlvvzyS2zfvh18Ph9ycnIS0xgbGyMjIwP+/v5ir8vKyuLBgwcYNmwYNm3ahI8//hh79uyR2A48Hg8PHz4EAFRUVIDP50usAyFvE4FAAE1NzWbvhMDn8yEQCCTm0aVLF5w+fRpDhw5FVVUVOnfujAcPHojdtWL27NlQUlKCqakpnJyccP36dYn5KikpQUtLC127dkV4eDjGjh0LT09P1NbWIikpCevWrYOmpib4fD7Cw8ORkZEBAMjIyICbmxvGjBkDBQUFBAYGokePHs2WIScnh7Vr1yIqKgo8Hg9jx47FggULYGBgAAAICQmBsbEx92joXQWAWbNmwcrKCioqKli3bh1ycnKQm5sr8bjaq6W2U1BQQEVFBe7duwdtbW0cPHiwSU9cbW0tUlNTERsbCy0tLfD5fCxevFhsHz09PUyYMAEyMjLw8vKCjIwM7t69K7GdU1NTERwcjB49eqBTp06IjY1t85z0lsp82YULF1BdXY3w8HAoKSnhww8/hL+/P/bt2weg/jtl0aJF3HmIjY2FSCRqU1oAGDVqFOzt7dv0/ULI+6DD98Fsqz/++IObaK+mpgZra2tcu3YN3bt3h6qqKgYMGAALCwuxNNnZ2VwaZWVl7Nq1S2y7q6srgPogsKKiQmIdcnNzYWdnBwAYMGAAduzY8Y+OSVFREba2tgDqvzjb8kWwePFiTJ06FT/++COKiorw/fff/6M6EPKm0dbWRkVFBUQiERQVFcW23b9/H1paWhLzeP78OSIjI5GZmQkdHR1YWloCAF68eAF5+fqPqy5dunD7KykptWtxXFxcHIqLi7nPlIqKCtTU1GDgwIHcnL6qqipoaGgAAEpLS2FqaiqWh7GxcbN55+XlYfr06fjhhx8wZMgQ3Lx5EwEBAdDV1YWvry8iIyOxcOFCbv+uXbtyzxvPcVRWVoauri7u378v9bmPLbXdggULUFNTAy8vL4hEIkyePBmRkZFiaRvaqnGA/XLbaGpqiv2tpKSE58+fS2znBw8eiOXVpUsXdO7cuU3H1FKZLysqKkJhYSH09fW516qqqjBu3DgAQHFxsdixde7cmXvPSkoLAKqqqm2qLyHvi1ceYDZHVvb/O055PF6T7YyxVudjNv7yam2/5vZp/GX08iTxFy9eSMwLQJMr1LbUYc6cOfjxxx/Rs2dP/P333/D19cWJEyeafBET8rYyMzMDn89HSkoK/P39cenSJSxcuBCpqalITEzkvozl5eXFFvwIhUKuh3L//v04fvw4zp8/D3V1dQgEAiQmJkqlfmfOnMHXX3+NY8eOQVlZGUB9IKOiooKzZ882G8zxeLwmK5lv376N/v37N9n3119/RZ8+fTB69GgAQN++ffHJJ58gIyMDvr6+6NKli1iA11h+fj73vKamBsXFxdDV1W3X8bXWrpKoqKjgq6++wooVK5CXlwcvLy9YWFhg/Pjx3D6dO3eGgoIC7t69i169egEACgsL25S/pHbm8/nIy8uDm5sbAKC8vByPHj1qU95tpaurCwMDgxbnxGpra4v1fD59+pS7+4GktISQpqS2yEdRUbHZW5E4ODjg+PHjAOoniOfk5MDa2rrVvBwcHHDs2DEAgEgkgo+PT5s/yNLT07Fz506x18zNzbmJ2r/99hv3upycHOTl5bkP4eZuidFezbUDYwwCgYC7ItfQ0EBVVVWLiwUIeVtFR0cjJCQE8fHx0NTUhLm5OczMzCAQCDBjxgwAgIWFBe7cuYMDBw6goqICa9asEbu4E4lEqKqqQllZGVatWtXmstXV1VFaWtrs/5ZAIEBAQAAiIyPB4/Hw6NEjPH78GAoKCpg4cSLmzZuHkpISVFZWIigoCFFRUQCAcePG4ejRo0hPT0dNTQ2+/fbbFldxW1lZ4fz58zh8+DAeP36MK1euYM+ePejdu7fEuickJODy5ct48uQJFi5cCBsbmyYjO0D9KNDt27eb7bWV1K6t+eyzzxAWFoZHjx5BWVkZ8vLyTS5+FRUV4eHhgS+++AKVlZUoLS3lFttIIqmdfX19sX79ely7dg1VVVVYvHgxdxHwT6ipqaGgoIBbJNWpUydERESguroaBQUFcHd3x6FDhwAA48ePR1xcHPLz81FTU4Pw8HCuM0FS2pdlZmaKTZEi5H0ktQDT3t4epaWlcHd3h4+PD27fvg2g/p5xJSUlmDJlCqZNm4bQ0NBmey0bmzVrFh4+fAhfX1/4+/vDy8tLbGiiNRcvXsS5c+fEXouIiMCKFSvg5+fX5Gbmc+bMwfTp0/Hll19CQUGB+2KKioqCt7c3du/ejaSkJO55R9pBRkYGa9aswaeffoopU6Zg+vTpiI6OlsoHKCFvEg8PD+zcuRMpKSno168fd6FoY2ODTp06AaifM7d69WoEBQWhb9++4PF46N69OwDA09MTbm5uGDhwIJydnbmpLW3h4uICQ0NDmJmZcReUDXbs2IHi4mIsWbIEBgYGMDAwQN++fQEAMTExsLS0RP/+/WFra4uqqioEBgYCqA/atm/fjqioKBgaGuLWrVvw8vJqtnxXV1dER0cjNDQUxsbGmDBhAkaMGIHQ0FCJdQ8JCcGiRYtgZmYmNoT/suDgYERFRcHHx6fJttbaVZLQ0FDk5+ejV69ecHFxgYeHh1jvZYO4uDioqqrC0tISgwcPxrRp09qUP9B6O0+ePBmzZ8+Gh4cHrKysMHDgwHb34DZn6tSpuHjxIszMzFBXV4f09HTcvHkTZmZmGDlyJBwcHDB06FAAQEBAACZOnIihQ4fCwsICVlZW0NHRAVDfGdFa2pdlZWXh8OHD/7j+hLzNOvRTkWVlZa+iLv+KwsJCTJ06FUePHn3dVWlWW+apEfI2EYlE2LRpE/z8/Noc8JA3F2OMm1507do1jBgxAkVFRa+5VtLR+NiA+rmxmZmZ3Jx7QkjbvXU3WieEvF0UFRURHBxMweU7YNmyZVi4cCE3xWDjxo1wdHR83dWSil9++QUjR45EQUEBnj9/zt2Ls6W7BhBCWvfeBZj6+vpvbO8lIYS8yRqmL9na2qJHjx549OgRNm/e/LqrJRUuLi7o27cvRo4cCT09PezevRvJyclQUVF53VUj5K3UoSHyR48e0e9mvwLy8vJtvjUHIYQQQsibqkM9mLQ45dWgdiWEEELIu6BD98Fs+KUOoVBIPZlSIC8vD2Vl5WZ/AYUQQggh5G3ToSFyQgghhBBCWvLeLfIhhBBCCCGvFgWYhBBCCCFEqijAJIQQQgghUkUBJiGEEEIIkSoKMAkhhBBCiFRRgEkIIYQQQqSKAkxCCCGEECJVFGASQgghhBCpogCTEEIIIYRIVYd+KvLJkyfSrgchhBBCCHlH0E9FEkIIIYQQqaIhckIIIYQQIlUUYBJCCCGEEKmiAJMQQgghhEgVBZiEEEIIIUSqKMAkhBBCCCFSRQEmIYQQQgiRKgowCSGEEEKIVFGASQghhBBCpIoCTEIIIYQQIlUUYBJCCCGEEKmiAJMQQgghhEiVfEcTPnv2DEKhELW1tdKsz3tJXl4eysrKUFJSet1VIYQQQgj5x2QYY6y9iZ49e4YnT568ivq819TU1CjIJIQQQshbr0ND5EKhUNr1IKB2JYQQQsi7oUMBJg2LvxrUruRdcPToUbi5uYHP58PMzAyfffYZysvLX3m5169fx+7du7m/w8PDMX/+fKmXM3PmTGzcuLHZbTdu3MCwYcPQrVs3WFtbIzk5WWz7zp07YW1tjW7dusHd3R15eXmtliUUCqGhoYFHjx41u/3AgQOwt7cHYwzV1dVYvXp1u4+nqKgIlpaWEusibbdv3wafz292W3vO3datW3Hv3j1pVo0QIgVv3SIfb29vXL16Vap5lpeXw9zcXKp5EvI+OnjwICZPngxPT0+cPXsWqampKCsrg5ubG2pqal5p2S8HmBMnTsTUqVNfaZmNlZeXY/jw4fDx8UFubi5iY2MRFBSEnJwcAMDp06fx5ZdfYvPmzbh58ybs7e3h5+f3j8rs168fli5dChkZGTx58qRDASaPx8Py5cthaGj4j+oiTe05d/Hx8SgoKHjFNSKEtJfUAsxbt24hJCTkH+XRgemgUtG1a9d2Ba11dXXw9PRs8jpjDKtWrcKoUaMwatQoLFiwACKRCEB9z8b48ePh4eGB0aNH47fffpNa/Ql5U4SFhSE2Nhbz5s2DiYkJ7OzssGvXLqiqquLHH38EABw5cgQDBw4US2dsbIwrV64AAPbt2wcnJyfweDz0798fZ86cAfD/vXmJiYmwsbGBnp4eli5dCgBISUlBQEAATp06BT6fj/z8fOzduxdpaWkAgOTkZGhoaIg9hg0bBgCoqanB559/DgMDA1hYWGDFihV4/vw5V7f9+/ejT58+0NHRwbx581BXV9fssdfU1GDlypUIDAyEpqYm3N3dYWVlxR1XWVkZwsPD8dFHH0FLSwuLFi1Cbm5um+az//rrr+jRowd0dXUxf/58Lli/evUqYmNjUVhYCAsLCwAAn8/Hzp07m+Rx+/ZtjBkzBqampnB0dMThw4cB1I+czJ49m5uik5+fjxEjRkBHRwfDhg3DN998Ay8vL+7cDRkyBMuXL4epqSl69uyJ9PR0royCggKMHTsWPB4PdnZ2SE1N5bZVVVVh+vTp4PP5+OCDD3Du3LkWj7fxuVu2bBkWLVoEX19fGBgYwMnJiQvaHR0dkZeXh9GjR2POnDkS61BdXY3AwECuDmlpaejWrVub6j9kyBBERUWhd+/emDRpksRzRsh7j3WAQCAQe2RlZTFra2tmZGTEBg0axEaNGsVtKygoYJMmTWLDhw9ngwYNYps3b+a2zZgxg23ZsoWNGTOGOTo6srCwMCYQCFhhYSGbPn06c3V1Zf3792cxMTFcGldXVxYWFsbc3NyYtbU1S0xMbFKflx//+9//WL9+/diYMWPYkiVLWO/evbltISEhbNCgQaxr165iaZYsWcLmzJnDpkyZwoYMGcJCQ0O5bc7OzkxLS4sNGjSIDRo0iF24cIEJBAK2b98+5uXlxUpLS5lAIGAff/wx++mnn5hAIGCjR49mSUlJTCAQsGPHjonVofGDkLdVfn4+09bWZkKhsMm2+Ph45unpyRhj7PDhw8zJyUlsu5GREbt8+TKrqKhgTk5O7MiRI0wkErE9e/Ywc3NzxhhjNTU1TF1dnYWHhzOhUMj++usvpqenx7KyshhjjKWmprJRo0ZxeS5dupQtWbKEMcaYUCjk/sdyc3OZqakpy8jIYIwxFhQUxMaPH8/Ky8tZSUkJGzBgAIuOjmaMMXbz5k2mra3NMjMzmUgkYvHx8UxLS4tt2LBBYnv8/vvvTE9Pj+Xn5ze7fe/evcze3r7VPBqO+eOPP2YCgYDdv3+fOTs7sy+++KJJW96/f5+pq6u3mNewYcPY+vXrGWOMnT9/nn388cestraWK6OyspLV1tYyOzs7Fhoaympqalh2djYzMjISO3caGhosNTWV1dXVsb179zIej8eePn3Kamtrmb29PYuOjmZCoZBduHCB6erqspMnTzLGGJsxYwbz8PBgZWVlrKioiDk7OzMej9dsXRufu6VLlzITExN29epV9uLFCxYcHMzc3d25fe3s7LgyJNXh008/ZSNGjGACgYCVlJQwFxcXpq2t3aa0rq6ubNiwYaywsJC9ePGi1fNGCGFMKj2YvXr1wuLFi+Hq6oqMjAwkJCRw27Zu3Qoej4fExEQkJCTgm2++QXFxMYD6Xov169cjIiICBw8e5HpAt27dCk1NTaSmpiItLQ0nTpzAgwcPxMrcs2cP1qxZg02bNkms38qVK/Hll19i+/bt4PP5kJOT47aFhYUhIyMD8vLid2ySk5NDUVER4uLisHv3buzZswfV1dUAgG3btqFbt27IyMhARkYGjI2NAQDOzs74z3/+A1lZWZSXl6O0tJQbdtqxYwfXY1JbWwttbe32NDEhbzyBQABNTc1m74TA5/MhEAgk5tGlSxecPn0aQ4cORVVVFTp37owHDx6I9fLNnj0bSkpKMDU1hZOTE65fvy4xXyUlJWhpaaFr164IDw/H2LFj4enpidraWiQlJWHdunXQ1NQEn89HeHg4MjIyAAAZGRlwc3PDmDFjoKCggMDAQPTo0aPVss6cOQMDAwMMHz4cq1atgpmZWZN9bty4gZCQEGzYsIF7bdCgQTA2NuYehYWF3LaIiAhoaWmBx+MhKiqqydzOtlBUVERRURFKS0vh6OiI/fv3i30WAsCFCxcgEAiwcuVKKCsrw97eHhMnThTbR09PDxMmTICMjAy8vLwgIyODu3fv4sKFC6iurkZ4eDiUlJTw4Ycfwt/fH/v27cPz58+xf/9+REdHo2vXrujevTuWLFnS5roPHz4cvXv3hqysLPz9/Vs8563Voba2FqmpqYiNjYWWlhb4fD4WL17cprQNZs6cCT09PcjKvnWzywj513X4Ppht9ccff3CTtdXU1GBtbY1r166he/fuUFVVxYABA7ihnQbZ2dlcGmVlZezatUtsu6urK4D6ALWiokJiHXJzc2FnZwcAGDBgAHbs2NGmujs6OgIAFBQU0LVrV1RWVkJVVVViuoULF+K///0vZsyYARsbG7FtN27cwJdffon169e3qQ6EvC20tbVRUVEBkUgERUVFsW3379+HlpaWxDyeP3+OyMhIZGZmQkdHB5aWlgCAFy9ecBeBXbp04fZXUlJq1+K4uLg4FBcXc58pFRUVqKmpwcCBAyEjIwOgfihXQ0MDAFBaWgpTU1OxPBouKFtib2+Ps2fP4urVqwgODoaqqiomTJjAbb9z5w48PT2xYsUKODk5ca+npaWJHQufz+eG6g0MDLjXzczMUFpa2uJQfUu+//57LF++HA4ODtDR0cGiRYuazAEtKiqCiYmJ2AW3qakpbt26xf2tqakplkZJSQnPnz9HUVERCgsLoa+vz22rqqrCuHHjUFlZiWfPnokF25LasbHG51xRUVFsCsPL9W+pDg3nuvEFQuNz21raBm35/CeE1HvlAWZzGl/98Xi8JtsZY63Ox2z85dXafs3t054vo5d7NdtSFlD/JRYdHY0lS5bgxx9/xMyZMwEAP//8M7Zv344tW7aIfWEQ8i4wMzMDn89HSkoK/P39cenSJSxcuBCpqalITEzkvqjl5eXFFvwIhUKuh3L//v04fvw4zp8/D3V1dQgEAiQmJkqlfmfOnMHXX3+NY8eOQVlZGUB94KKiooKzZ882u8iFx+Ph0qVLYq/dvn0b/fv3b7Lv33//jfLyctja2kJfXx/6+vrIyclBWloaF2AWFhZizJgxWLRoESZPntykrJc1BFJ//fUXdHV1AdTPkeTxeO3uRTMwMMC2bdvAGMOxY8fg7e2NAQMGiK3k1tbWxt9//w3GGBdwN+5JbY2uri4MDAy4+ZEvH4eysjJyc3Nha2sLoL4dpa21OohEIigoKODu3bvo1asXAPFjay0tIaT9pNbPr6io2OytSBwcHHD8+HEA9ROsc3JyYG1t3WpeDg4OOHbsGID6DwUfH582f8ilp6c3meBubm6O7OxsAJDK4holJSU8fvy4SbCanJyMoKAgMMagoqKC7t27o7S0FED9pPWkpCTs2rWLgkvyzoqOjkZISAji4+OhqakJc3NzmJmZQSAQYMaMGQAACwsL3LlzBwcOHEBFRQXWrFmDFy9ecHmIRCJUVVWhrKwMq1atanPZ6urqKC0tRVVVVZPePYFAgICAAERGRoLH4+HRo0d4/PgxFBQUMHHiRMybNw8lJSWorKxEULe/cRUAAATZSURBVFAQoqKiAADjxo3D0aNHkZ6ejpqaGnz77bctrli+ffs23NzccPDgQVRUVCA7OxvJycncKMaDBw/g4eGBCRMmYMKECSgrK0NZWVmLvXGNrVmzBvfv30dRUREiIyObDFsD9SNEDfV4+bOprq4O9vb2SE1NxbNnz6CiogJZWdkmF9H9+/eHoqIiVq1aBZFIhD///LPJCFJLHB0d0alTJ0RERKC6uhoFBQVwd3fHoUOHoKCgAC8vL4SFhaG0tBR///231EZx1NTUuGNurQ6Kiorw8PDAF198gcrKSpSWliI2NrZN9W9OZmam2HQwQog4qQWY9vb2KC0thbu7O3x8fLir05kzZ6KkpARTpkzBtGnTEBoa2uyVemOzZs3Cw4cP4evrC39/f3h5eYkNW7Tm4sWLTVYnRkREYMWKFfDz8xO7mfnNmzfh7e0Nb29vPHv2jHvesPK7JaqqqnB1dYWbmxsmTJiAzMxMAICXlxc6deqEESNGYOTIkcjLy+NWNi5btgzFxcXw9vaGh4cHPDw88PTp0zYdEyFvCw8PD+zcuRMpKSno168fd6FoY2ODTp06Aaifw7d69WoEBQWhb9++4PF46N69OwDA09MTbm5uGDhwIJydnbmpLW3h4uICQ0NDmJmZcReUDXbs2IHi4mIsWbIEBgYGMDAwQN++fQEAMTExsLS0RP/+/WFra4uqqioEBgYCqA+Gt2/fjqioKBgaGuLWrVvciurmyv/666+xdOlSmJubY8qUKfDw8ODmGm7YsAF//fUX4uLiYGJiwj1aW03dYO7cuXBzc4ODgwM+/PBDRERENNlHVVUVwcHBcHJyanKfTllZWWzYsAEbN26EoaEh5s6di++++67J56qioiKSk5Nx5MgR6OnpITg4GLNnz5ZYP6B+3np6ejpu3rwJMzMzjBw5Eg4ODhg6dCgAYP369ejevTtsbGwwatQoLFq0qE35ShIcHIyoqCj4+PhIrENcXBxUVVVhaWmJwYMHY9q0aW2u/8uysrK4lfiEkKY69FORZWVlr6Iu/4rCwkJMnToVR48efd1VaVZb5qkR8jYRiUTYtGkT/Pz8uECSvLkaD48DwJYtW3DixAkkJSW9xlpJT+Pju3btGkaMGIGioqLXXCtC3j20FI4Q8kopKioiODiYgsu3AGMMI0eOxM6dOyEUCnHv3j0kJCRwCx7fdsuWLcPChQu5KRIbN258Z46NkDfNe9eD+aajHkxCyOt0+vRpLF++HNeuXYOKigrGjx+P6OhoKCgovO6q/WOFhYUIDQ3F6dOn8ezZM3z00UeIi4ujix9CXoEOBZiPHj2i381+BeTl5dG5c+fXXQ1CCCGEkH+kQ0PkDbf4INJF7UoIIYSQd0GH7oPZ8EsdQqGQejKlQF5eHsrKys3+AgohhBBCyNumQ0PkhBBCCCGEtIRWkRNCCCGEEKmiAJMQQgghhEgVBZiEEEIIIUSqKMAkhBBCCCFSRQEmIYQQQgiRKgowCSGEEEKIVFGASQghhBBCpIoCTEIIIYQQIlUUYBJCCCGEEKmiAJMQQgghhEgVBZiEEEIIIUSqKMAkhBBCCCFSRQEmIYQQQgiRKgowCSGEEEKIVFGASQghhBBCpIoCTEIIIYQQIlUUYBJCCCGEEKmiAJMQQgghhEjV/wGruXW2jAnbiwAAAABJRU5ErkJggg==)"
      ],
      "metadata": {
        "id": "DtPpY2mle895"
      }
    },
    {
      "cell_type": "code",
      "source": [
        "# find data type\n",
        "x.dtype"
      ],
      "metadata": {
        "colab": {
          "base_uri": "https://localhost:8080/"
        },
        "id": "FNNf3MWFe68z",
        "outputId": "6fc08dfd-1e6a-4dfb-ffb7-c4f129f1373e"
      },
      "execution_count": 21,
      "outputs": [
        {
          "output_type": "execute_result",
          "data": {
            "text/plain": [
              "torch.int64"
            ]
          },
          "metadata": {},
          "execution_count": 21
        }
      ]
    },
    {
      "cell_type": "code",
      "source": [
        "# assign data type\n",
        "torch.tensor([1.0,2.0,3.0], dtype=torch.int32)"
      ],
      "metadata": {
        "colab": {
          "base_uri": "https://localhost:8080/"
        },
        "id": "UVpwYOoue8cZ",
        "outputId": "f59e7b62-4ea1-4232-b280-efd5d5c41d9e"
      },
      "execution_count": 22,
      "outputs": [
        {
          "output_type": "execute_result",
          "data": {
            "text/plain": [
              "tensor([1, 2, 3], dtype=torch.int32)"
            ]
          },
          "metadata": {},
          "execution_count": 22
        }
      ]
    },
    {
      "cell_type": "code",
      "source": [
        "torch.tensor([1,2,3], dtype=torch.float64)"
      ],
      "metadata": {
        "colab": {
          "base_uri": "https://localhost:8080/"
        },
        "id": "wZcJPHoGfDXi",
        "outputId": "aeda981a-d2f4-4904-a1ab-7c71e3bc69b8"
      },
      "execution_count": 23,
      "outputs": [
        {
          "output_type": "execute_result",
          "data": {
            "text/plain": [
              "tensor([1., 2., 3.], dtype=torch.float64)"
            ]
          },
          "metadata": {},
          "execution_count": 23
        }
      ]
    },
    {
      "cell_type": "code",
      "source": [
        "# using to()\n",
        "x.to(torch.float32)"
      ],
      "metadata": {
        "colab": {
          "base_uri": "https://localhost:8080/"
        },
        "id": "yRUIjhWifEki",
        "outputId": "0ccc0fb6-7b16-41de-a739-cd9086e6d96b"
      },
      "execution_count": 24,
      "outputs": [
        {
          "output_type": "execute_result",
          "data": {
            "text/plain": [
              "tensor([[1., 2., 3.],\n",
              "        [4., 5., 6.]])"
            ]
          },
          "metadata": {},
          "execution_count": 24
        }
      ]
    },
    {
      "cell_type": "markdown",
      "source": [
        "# Mathematical operations"
      ],
      "metadata": {
        "id": "cNS_UYkifHyo"
      }
    },
    {
      "cell_type": "markdown",
      "source": [
        "### 1. Scalar operation"
      ],
      "metadata": {
        "id": "nw5Bsr6TfMaX"
      }
    },
    {
      "cell_type": "code",
      "source": [
        "x = torch.rand(2,2)\n",
        "x"
      ],
      "metadata": {
        "colab": {
          "base_uri": "https://localhost:8080/"
        },
        "id": "a9dnHGNQfF3g",
        "outputId": "ed863e02-0ee6-4f42-f148-e4ead27ee990"
      },
      "execution_count": 25,
      "outputs": [
        {
          "output_type": "execute_result",
          "data": {
            "text/plain": [
              "tensor([[0.2239, 0.3023],\n",
              "        [0.1784, 0.8238]])"
            ]
          },
          "metadata": {},
          "execution_count": 25
        }
      ]
    },
    {
      "cell_type": "code",
      "source": [
        "# addition\n",
        "x + 2\n",
        "# substraction\n",
        "x - 2\n",
        "# multiplication\n",
        "x * 3\n",
        "# division\n",
        "x / 3\n",
        "# int division\n",
        "(x * 100)//3\n",
        "# mod\n",
        "((x * 100)//3)%2\n",
        "# power\n",
        "x**2"
      ],
      "metadata": {
        "colab": {
          "base_uri": "https://localhost:8080/"
        },
        "id": "1uPC41KffOT4",
        "outputId": "277ce1a5-4e84-4873-8403-bbb2edb8b727"
      },
      "execution_count": 26,
      "outputs": [
        {
          "output_type": "execute_result",
          "data": {
            "text/plain": [
              "tensor([[0.0501, 0.0914],\n",
              "        [0.0318, 0.6787]])"
            ]
          },
          "metadata": {},
          "execution_count": 26
        }
      ]
    },
    {
      "cell_type": "markdown",
      "source": [
        "### 2. Element wise operation"
      ],
      "metadata": {
        "id": "gy00wV_YfT-7"
      }
    },
    {
      "cell_type": "code",
      "source": [
        "a = torch.rand(2,3)\n",
        "b = torch.rand(2,3)\n",
        "\n",
        "print(a)\n",
        "print(b)"
      ],
      "metadata": {
        "colab": {
          "base_uri": "https://localhost:8080/"
        },
        "id": "4CmextP-fPwG",
        "outputId": "c8efc1d5-a3b4-4d2d-8d2c-3c1cd915e04e"
      },
      "execution_count": 27,
      "outputs": [
        {
          "output_type": "stream",
          "name": "stdout",
          "text": [
            "tensor([[0.5557, 0.9770, 0.4440],\n",
            "        [0.9478, 0.7445, 0.4892]])\n",
            "tensor([[0.2426, 0.7003, 0.5277],\n",
            "        [0.2472, 0.7909, 0.4235]])\n"
          ]
        }
      ]
    },
    {
      "cell_type": "code",
      "source": [
        "# add\n",
        "a + b\n",
        "# sub\n",
        "a - b\n",
        "# multiply\n",
        "a * b\n",
        "# division\n",
        "a / b\n",
        "# power\n",
        "a ** b\n",
        "# mod\n",
        "a % b"
      ],
      "metadata": {
        "colab": {
          "base_uri": "https://localhost:8080/"
        },
        "id": "eAGDPzvpfVxt",
        "outputId": "f85046bf-6be8-47fd-ef95-42b02844a416"
      },
      "execution_count": 28,
      "outputs": [
        {
          "output_type": "execute_result",
          "data": {
            "text/plain": [
              "tensor([[0.0706, 0.2767, 0.4440],\n",
              "        [0.2063, 0.7445, 0.0657]])"
            ]
          },
          "metadata": {},
          "execution_count": 28
        }
      ]
    },
    {
      "cell_type": "code",
      "source": [
        "c = torch.tensor([1, -2, 3, -4])"
      ],
      "metadata": {
        "id": "oinINHdGfXh0"
      },
      "execution_count": 29,
      "outputs": []
    },
    {
      "cell_type": "code",
      "source": [
        "# abs\n",
        "torch.abs(c)"
      ],
      "metadata": {
        "colab": {
          "base_uri": "https://localhost:8080/"
        },
        "id": "9moI0iicfZXq",
        "outputId": "7dc5fe8a-12db-4a3b-c126-e54de5bcdaeb"
      },
      "execution_count": 30,
      "outputs": [
        {
          "output_type": "execute_result",
          "data": {
            "text/plain": [
              "tensor([1, 2, 3, 4])"
            ]
          },
          "metadata": {},
          "execution_count": 30
        }
      ]
    },
    {
      "cell_type": "code",
      "source": [
        "# negative\n",
        "torch.neg(c)"
      ],
      "metadata": {
        "colab": {
          "base_uri": "https://localhost:8080/"
        },
        "id": "EXYMc-w7fasw",
        "outputId": "c3afabbf-2f3f-470d-c90c-73418a4e4faf"
      },
      "execution_count": 31,
      "outputs": [
        {
          "output_type": "execute_result",
          "data": {
            "text/plain": [
              "tensor([-1,  2, -3,  4])"
            ]
          },
          "metadata": {},
          "execution_count": 31
        }
      ]
    },
    {
      "cell_type": "code",
      "source": [
        "d = torch.tensor([1.9, 2.3, 3.7, 4.4])"
      ],
      "metadata": {
        "id": "NO7dTGoyfb4M"
      },
      "execution_count": 32,
      "outputs": []
    },
    {
      "cell_type": "code",
      "source": [
        "# round\n",
        "torch.round(d)"
      ],
      "metadata": {
        "colab": {
          "base_uri": "https://localhost:8080/"
        },
        "id": "aGrdwIHUfd_F",
        "outputId": "e9ac5284-cad3-4ce8-e9b2-f63db48b2017"
      },
      "execution_count": 33,
      "outputs": [
        {
          "output_type": "execute_result",
          "data": {
            "text/plain": [
              "tensor([2., 2., 4., 4.])"
            ]
          },
          "metadata": {},
          "execution_count": 33
        }
      ]
    },
    {
      "cell_type": "code",
      "source": [
        "# ceil\n",
        "torch.ceil(d)"
      ],
      "metadata": {
        "colab": {
          "base_uri": "https://localhost:8080/"
        },
        "id": "VydJmeFpffKq",
        "outputId": "961bed53-e895-46ee-e472-cde5c1486aed"
      },
      "execution_count": 34,
      "outputs": [
        {
          "output_type": "execute_result",
          "data": {
            "text/plain": [
              "tensor([2., 3., 4., 5.])"
            ]
          },
          "metadata": {},
          "execution_count": 34
        }
      ]
    },
    {
      "cell_type": "code",
      "source": [
        "# floor\n",
        "torch.floor(d)"
      ],
      "metadata": {
        "id": "l4EpdsKYgGme",
        "outputId": "209fd338-61b4-4bb4-cf4f-f2d71223f771",
        "colab": {
          "base_uri": "https://localhost:8080/"
        }
      },
      "execution_count": 36,
      "outputs": [
        {
          "output_type": "execute_result",
          "data": {
            "text/plain": [
              "tensor([1., 2., 3., 4.])"
            ]
          },
          "metadata": {},
          "execution_count": 36
        }
      ]
    },
    {
      "cell_type": "code",
      "source": [
        "# clamp\n",
        "torch.clamp(d, min=2, max=3)"
      ],
      "metadata": {
        "colab": {
          "base_uri": "https://localhost:8080/"
        },
        "id": "orjI6Fwlfgko",
        "outputId": "be017bee-0ade-4cd2-97f1-836e8c502e43"
      },
      "execution_count": 35,
      "outputs": [
        {
          "output_type": "execute_result",
          "data": {
            "text/plain": [
              "tensor([2.0000, 2.3000, 3.0000, 3.0000])"
            ]
          },
          "metadata": {},
          "execution_count": 35
        }
      ]
    },
    {
      "cell_type": "markdown",
      "source": [
        "### 3. Reduction operation"
      ],
      "metadata": {
        "id": "QftQOmP7fnJb"
      }
    },
    {
      "cell_type": "code",
      "source": [
        "e = torch.randint(size=(2,3), low=0, high=10, dtype=torch.float32)\n",
        "e"
      ],
      "metadata": {
        "colab": {
          "base_uri": "https://localhost:8080/"
        },
        "id": "kHCdIDVifikH",
        "outputId": "da3d3a63-d284-43f0-8b08-bde87f128dcd"
      },
      "execution_count": 43,
      "outputs": [
        {
          "output_type": "execute_result",
          "data": {
            "text/plain": [
              "tensor([[5., 9., 8.],\n",
              "        [9., 7., 9.]])"
            ]
          },
          "metadata": {},
          "execution_count": 43
        }
      ]
    },
    {
      "cell_type": "code",
      "source": [
        "#sum\n",
        "torch.sum(e)\n",
        "\n",
        "# sum along columns\n",
        "torch.sum(e, dim=0)\n",
        "\n",
        "# sum along rows\n",
        "torch.sum(e, dim=1)"
      ],
      "metadata": {
        "id": "PMZHu_2zgarL",
        "outputId": "fe597ec6-3fee-4565-c9a9-6a934957c257",
        "colab": {
          "base_uri": "https://localhost:8080/"
        }
      },
      "execution_count": 41,
      "outputs": [
        {
          "output_type": "execute_result",
          "data": {
            "text/plain": [
              "tensor([17, 25])"
            ]
          },
          "metadata": {},
          "execution_count": 41
        }
      ]
    },
    {
      "cell_type": "code",
      "source": [
        "# mean\n",
        "torch.mean(e)\n",
        "\n",
        "# mean along col\n",
        "torch.mean(e, dim=0)"
      ],
      "metadata": {
        "id": "EgJ0SKfXgg3P",
        "outputId": "5056b758-24de-47e8-d712-696a5177b959",
        "colab": {
          "base_uri": "https://localhost:8080/"
        }
      },
      "execution_count": 46,
      "outputs": [
        {
          "output_type": "execute_result",
          "data": {
            "text/plain": [
              "tensor([7.0000, 8.0000, 8.5000])"
            ]
          },
          "metadata": {},
          "execution_count": 46
        }
      ]
    },
    {
      "cell_type": "code",
      "source": [
        "# median\n",
        "torch.median(e)"
      ],
      "metadata": {
        "id": "YWvp4iVzgwzq",
        "outputId": "5ee47616-4bea-4c9d-929d-e849a0a13278",
        "colab": {
          "base_uri": "https://localhost:8080/"
        }
      },
      "execution_count": 48,
      "outputs": [
        {
          "output_type": "execute_result",
          "data": {
            "text/plain": [
              "tensor(8.)"
            ]
          },
          "metadata": {},
          "execution_count": 48
        }
      ]
    },
    {
      "cell_type": "code",
      "source": [
        "# max and min\n",
        "print(torch.max(e))\n",
        "print(torch.min(e))"
      ],
      "metadata": {
        "id": "n94hHjBdhAM5",
        "outputId": "d5fb213d-2823-4542-9c65-de7d9c7b0d12",
        "colab": {
          "base_uri": "https://localhost:8080/"
        }
      },
      "execution_count": 49,
      "outputs": [
        {
          "output_type": "stream",
          "name": "stdout",
          "text": [
            "tensor(9.)\n",
            "tensor(5.)\n"
          ]
        }
      ]
    },
    {
      "cell_type": "code",
      "source": [
        "# product\n",
        "torch.prod(e)"
      ],
      "metadata": {
        "id": "V9VyyI4ohIyz",
        "outputId": "c0692629-f3f6-4430-fe04-8e1ce31ca25e",
        "colab": {
          "base_uri": "https://localhost:8080/"
        }
      },
      "execution_count": 50,
      "outputs": [
        {
          "output_type": "execute_result",
          "data": {
            "text/plain": [
              "tensor(204120.)"
            ]
          },
          "metadata": {},
          "execution_count": 50
        }
      ]
    },
    {
      "cell_type": "code",
      "source": [
        "# standard devation\n",
        "torch.std(e)"
      ],
      "metadata": {
        "id": "Zf_2-OfHhMyn",
        "outputId": "74620dbc-788e-4af9-e890-da951016e54f",
        "colab": {
          "base_uri": "https://localhost:8080/"
        }
      },
      "execution_count": 51,
      "outputs": [
        {
          "output_type": "execute_result",
          "data": {
            "text/plain": [
              "tensor(1.6021)"
            ]
          },
          "metadata": {},
          "execution_count": 51
        }
      ]
    },
    {
      "cell_type": "code",
      "source": [
        "# variance\n",
        "torch.var(e)"
      ],
      "metadata": {
        "id": "INxFpTmPhRtF",
        "outputId": "531fd7ca-5d44-4a42-d405-f5f371b5a63b",
        "colab": {
          "base_uri": "https://localhost:8080/"
        }
      },
      "execution_count": 52,
      "outputs": [
        {
          "output_type": "execute_result",
          "data": {
            "text/plain": [
              "tensor(2.5667)"
            ]
          },
          "metadata": {},
          "execution_count": 52
        }
      ]
    },
    {
      "cell_type": "code",
      "source": [
        "# argmax\n",
        "torch.argmax(e)"
      ],
      "metadata": {
        "id": "OnGvya-XhV5k",
        "outputId": "cae44926-c0b7-4eb1-afc9-b7d40fda93b8",
        "colab": {
          "base_uri": "https://localhost:8080/"
        }
      },
      "execution_count": 53,
      "outputs": [
        {
          "output_type": "execute_result",
          "data": {
            "text/plain": [
              "tensor(1)"
            ]
          },
          "metadata": {},
          "execution_count": 53
        }
      ]
    },
    {
      "cell_type": "code",
      "source": [
        "# argmin\n",
        "torch.argmin(e)"
      ],
      "metadata": {
        "id": "s-5R2y72haX0",
        "outputId": "d25f44d6-b509-472d-9ad1-e1182a3bc5e6",
        "colab": {
          "base_uri": "https://localhost:8080/"
        }
      },
      "execution_count": 54,
      "outputs": [
        {
          "output_type": "execute_result",
          "data": {
            "text/plain": [
              "tensor(0)"
            ]
          },
          "metadata": {},
          "execution_count": 54
        }
      ]
    },
    {
      "cell_type": "markdown",
      "source": [
        "### 4. Matrix Operation"
      ],
      "metadata": {
        "id": "hnmCzlgVhgs5"
      }
    },
    {
      "cell_type": "code",
      "source": [
        "f = torch.randint(size=(2,3), low=0, high=10)\n",
        "g = torch.randint(size=(3,2), low=0, high=10)"
      ],
      "metadata": {
        "id": "SIi1EnAGhd7D"
      },
      "execution_count": 55,
      "outputs": []
    },
    {
      "cell_type": "code",
      "source": [
        "f"
      ],
      "metadata": {
        "id": "E-t_5U0Eh0WN",
        "outputId": "9b9ee2ec-c362-4d9c-ff01-6d79e6c854b6",
        "colab": {
          "base_uri": "https://localhost:8080/"
        }
      },
      "execution_count": 56,
      "outputs": [
        {
          "output_type": "execute_result",
          "data": {
            "text/plain": [
              "tensor([[2, 6, 7],\n",
              "        [7, 8, 3]])"
            ]
          },
          "metadata": {},
          "execution_count": 56
        }
      ]
    },
    {
      "cell_type": "code",
      "source": [
        "g"
      ],
      "metadata": {
        "id": "BCpLdMgAh0wm",
        "outputId": "32414640-0e93-4bdf-f55a-742104ab72f4",
        "colab": {
          "base_uri": "https://localhost:8080/"
        }
      },
      "execution_count": 57,
      "outputs": [
        {
          "output_type": "execute_result",
          "data": {
            "text/plain": [
              "tensor([[6, 1],\n",
              "        [5, 5],\n",
              "        [0, 4]])"
            ]
          },
          "metadata": {},
          "execution_count": 57
        }
      ]
    },
    {
      "cell_type": "code",
      "source": [
        "# matrix multiplaction\n",
        "torch.matmul(f, g)"
      ],
      "metadata": {
        "id": "kTgtuDREh1Cs",
        "outputId": "2577ffe9-714c-4a5b-b262-bffb4cfadfd5",
        "colab": {
          "base_uri": "https://localhost:8080/"
        }
      },
      "execution_count": 58,
      "outputs": [
        {
          "output_type": "execute_result",
          "data": {
            "text/plain": [
              "tensor([[42, 60],\n",
              "        [82, 59]])"
            ]
          },
          "metadata": {},
          "execution_count": 58
        }
      ]
    },
    {
      "cell_type": "code",
      "source": [
        "vactor1 = torch.tensor([1,2])\n",
        "vactor2 = torch.tensor([3,4])"
      ],
      "metadata": {
        "id": "iB9rTpA3h-OV"
      },
      "execution_count": 60,
      "outputs": []
    },
    {
      "cell_type": "code",
      "source": [
        "vactor1"
      ],
      "metadata": {
        "id": "MhP8bWqXiGzi",
        "outputId": "b4fdff47-15e4-400e-e759-ea8528f681d3",
        "colab": {
          "base_uri": "https://localhost:8080/"
        }
      },
      "execution_count": 61,
      "outputs": [
        {
          "output_type": "execute_result",
          "data": {
            "text/plain": [
              "tensor([1, 2])"
            ]
          },
          "metadata": {},
          "execution_count": 61
        }
      ]
    },
    {
      "cell_type": "code",
      "source": [
        "vactor2"
      ],
      "metadata": {
        "id": "BGCUtPVbiLww",
        "outputId": "343c9ebc-7d4e-44f7-ef51-a97db12592f4",
        "colab": {
          "base_uri": "https://localhost:8080/"
        }
      },
      "execution_count": 62,
      "outputs": [
        {
          "output_type": "execute_result",
          "data": {
            "text/plain": [
              "tensor([3, 4])"
            ]
          },
          "metadata": {},
          "execution_count": 62
        }
      ]
    },
    {
      "cell_type": "code",
      "source": [
        "# dot product\n",
        "torch.dot(vactor1, vactor2)"
      ],
      "metadata": {
        "id": "bctU3URAiMdK",
        "outputId": "ff377d8f-a874-4e79-8403-b0266c5d2c59",
        "colab": {
          "base_uri": "https://localhost:8080/"
        }
      },
      "execution_count": 63,
      "outputs": [
        {
          "output_type": "execute_result",
          "data": {
            "text/plain": [
              "tensor(11)"
            ]
          },
          "metadata": {},
          "execution_count": 63
        }
      ]
    },
    {
      "cell_type": "code",
      "source": [
        "# transpose\n",
        "torch.transpose(f, 0, 1)"
      ],
      "metadata": {
        "id": "hCNUrwE-iTgU",
        "outputId": "6c5a2f88-7e92-4712-8bcb-e7b5cb3bb394",
        "colab": {
          "base_uri": "https://localhost:8080/"
        }
      },
      "execution_count": 65,
      "outputs": [
        {
          "output_type": "execute_result",
          "data": {
            "text/plain": [
              "tensor([[2, 7],\n",
              "        [6, 8],\n",
              "        [7, 3]])"
            ]
          },
          "metadata": {},
          "execution_count": 65
        }
      ]
    },
    {
      "cell_type": "code",
      "source": [
        "h = torch.randint(size=(3,3), low=0, high=10, dtype=torch.float32)\n",
        "h"
      ],
      "metadata": {
        "id": "XwONtDSIiZ8X",
        "outputId": "19d3ccd6-3d6e-4932-fb3b-bbe0c147b616",
        "colab": {
          "base_uri": "https://localhost:8080/"
        }
      },
      "execution_count": 66,
      "outputs": [
        {
          "output_type": "execute_result",
          "data": {
            "text/plain": [
              "tensor([[3., 8., 8.],\n",
              "        [3., 3., 5.],\n",
              "        [0., 6., 4.]])"
            ]
          },
          "metadata": {},
          "execution_count": 66
        }
      ]
    },
    {
      "cell_type": "code",
      "source": [
        "# determinant\n",
        "torch.det(h)"
      ],
      "metadata": {
        "id": "oK5NLJ0-inlO",
        "outputId": "e4cfbdfd-ea24-4f68-896f-9d05ca6df44c",
        "colab": {
          "base_uri": "https://localhost:8080/"
        }
      },
      "execution_count": 67,
      "outputs": [
        {
          "output_type": "execute_result",
          "data": {
            "text/plain": [
              "tensor(-6.)"
            ]
          },
          "metadata": {},
          "execution_count": 67
        }
      ]
    },
    {
      "cell_type": "code",
      "source": [
        "# inverse\n",
        "torch.inverse(h)"
      ],
      "metadata": {
        "id": "-Q9yNGZoirDv",
        "outputId": "9dbacb35-8b52-4eeb-8ed3-3ebe2710edbf",
        "colab": {
          "base_uri": "https://localhost:8080/"
        }
      },
      "execution_count": 69,
      "outputs": [
        {
          "output_type": "execute_result",
          "data": {
            "text/plain": [
              "tensor([[ 3.0000, -2.6667, -2.6667],\n",
              "        [ 2.0000, -2.0000, -1.5000],\n",
              "        [-3.0000,  3.0000,  2.5000]])"
            ]
          },
          "metadata": {},
          "execution_count": 69
        }
      ]
    },
    {
      "cell_type": "markdown",
      "source": [
        "### 5. Comparison operations"
      ],
      "metadata": {
        "id": "NFVeUm9ti4D9"
      }
    },
    {
      "cell_type": "code",
      "source": [
        "i = torch.randint(size=(2,3), low=0, high=10)\n",
        "j = torch.randint(size=(2,3), low=0, high=10)\n",
        "\n",
        "print(i)\n",
        "print(j)"
      ],
      "metadata": {
        "id": "sUqIkzqjiyZR",
        "outputId": "cb3aa09b-cfec-499c-ffd1-7643f7c27bb4",
        "colab": {
          "base_uri": "https://localhost:8080/"
        }
      },
      "execution_count": 70,
      "outputs": [
        {
          "output_type": "stream",
          "name": "stdout",
          "text": [
            "tensor([[0, 8, 4],\n",
            "        [7, 2, 3]])\n",
            "tensor([[8, 5, 6],\n",
            "        [2, 9, 5]])\n"
          ]
        }
      ]
    },
    {
      "cell_type": "code",
      "source": [
        "# greater than\n",
        "print(i > j)\n",
        "# less than\n",
        "print(i < j)\n",
        "# equal to\n",
        "print(i == j)\n",
        "# not equal to\n",
        "print(i != j)\n",
        "\n",
        "# greater than equal to\n",
        "\n",
        "# less than equal to"
      ],
      "metadata": {
        "id": "W2kSnzuAi6ou",
        "outputId": "07a78703-6bac-43d3-b116-ec750a3d3cd0",
        "colab": {
          "base_uri": "https://localhost:8080/"
        }
      },
      "execution_count": 71,
      "outputs": [
        {
          "output_type": "stream",
          "name": "stdout",
          "text": [
            "tensor([[False,  True, False],\n",
            "        [ True, False, False]])\n",
            "tensor([[ True, False,  True],\n",
            "        [False,  True,  True]])\n",
            "tensor([[False, False, False],\n",
            "        [False, False, False]])\n",
            "tensor([[True, True, True],\n",
            "        [True, True, True]])\n"
          ]
        }
      ]
    },
    {
      "cell_type": "markdown",
      "source": [
        "### 6. Special functions"
      ],
      "metadata": {
        "id": "SF0MjJcVjGhr"
      }
    },
    {
      "cell_type": "code",
      "source": [
        "k = torch.randint(size=(2,3), low=0, high=10, dtype=torch.float32)\n",
        "k"
      ],
      "metadata": {
        "id": "_tP0iHUUjEVE",
        "outputId": "fd761b46-0ce4-4674-ed32-2e01a8505e43",
        "colab": {
          "base_uri": "https://localhost:8080/"
        }
      },
      "execution_count": 72,
      "outputs": [
        {
          "output_type": "execute_result",
          "data": {
            "text/plain": [
              "tensor([[0., 4., 2.],\n",
              "        [7., 1., 1.]])"
            ]
          },
          "metadata": {},
          "execution_count": 72
        }
      ]
    },
    {
      "cell_type": "code",
      "source": [
        "# log\n",
        "torch.log(k)"
      ],
      "metadata": {
        "id": "QrX0T3j7jMBe",
        "outputId": "65bd3116-4055-4f1b-c8bb-09cf2ef33e99",
        "colab": {
          "base_uri": "https://localhost:8080/"
        }
      },
      "execution_count": 73,
      "outputs": [
        {
          "output_type": "execute_result",
          "data": {
            "text/plain": [
              "tensor([[  -inf, 1.3863, 0.6931],\n",
              "        [1.9459, 0.0000, 0.0000]])"
            ]
          },
          "metadata": {},
          "execution_count": 73
        }
      ]
    },
    {
      "cell_type": "code",
      "source": [
        "# exp\n",
        "torch.exp(k)"
      ],
      "metadata": {
        "id": "SY29PWlgjQqe",
        "outputId": "2ca118d5-7e0a-4b75-83d1-4d2efb93cc92",
        "colab": {
          "base_uri": "https://localhost:8080/"
        }
      },
      "execution_count": 74,
      "outputs": [
        {
          "output_type": "execute_result",
          "data": {
            "text/plain": [
              "tensor([[1.0000e+00, 5.4598e+01, 7.3891e+00],\n",
              "        [1.0966e+03, 2.7183e+00, 2.7183e+00]])"
            ]
          },
          "metadata": {},
          "execution_count": 74
        }
      ]
    },
    {
      "cell_type": "code",
      "source": [
        "# sqrt\n",
        "torch.sqrt(k)"
      ],
      "metadata": {
        "id": "jwyTTZQXjTiC",
        "outputId": "dd0b57f9-3b00-4e4a-d2b6-ff312961d0b7",
        "colab": {
          "base_uri": "https://localhost:8080/"
        }
      },
      "execution_count": 76,
      "outputs": [
        {
          "output_type": "execute_result",
          "data": {
            "text/plain": [
              "tensor([[0.0000, 2.0000, 1.4142],\n",
              "        [2.6458, 1.0000, 1.0000]])"
            ]
          },
          "metadata": {},
          "execution_count": 76
        }
      ]
    },
    {
      "cell_type": "code",
      "source": [
        "# sigmoid\n",
        "torch.sigmoid(k)"
      ],
      "metadata": {
        "id": "FiFrElA_jWHf",
        "outputId": "639ae2ff-58f8-44c6-c739-aa9ad1d8641a",
        "colab": {
          "base_uri": "https://localhost:8080/"
        }
      },
      "execution_count": 77,
      "outputs": [
        {
          "output_type": "execute_result",
          "data": {
            "text/plain": [
              "tensor([[0.5000, 0.9820, 0.8808],\n",
              "        [0.9991, 0.7311, 0.7311]])"
            ]
          },
          "metadata": {},
          "execution_count": 77
        }
      ]
    },
    {
      "cell_type": "code",
      "source": [
        "# softmax\n",
        "torch.softmax(k, dim=0)"
      ],
      "metadata": {
        "id": "-RqNYYjgjbt1",
        "outputId": "58cbb6ac-21a1-45b5-cc0d-dab53562cce4",
        "colab": {
          "base_uri": "https://localhost:8080/"
        }
      },
      "execution_count": 78,
      "outputs": [
        {
          "output_type": "execute_result",
          "data": {
            "text/plain": [
              "tensor([[9.1105e-04, 9.5257e-01, 7.3106e-01],\n",
              "        [9.9909e-01, 4.7426e-02, 2.6894e-01]])"
            ]
          },
          "metadata": {},
          "execution_count": 78
        }
      ]
    },
    {
      "cell_type": "code",
      "source": [
        "# relu\n",
        "torch.relu(k)"
      ],
      "metadata": {
        "id": "IjaEhsQijfEE",
        "outputId": "6abe098e-29e2-41d5-bae3-23ef816f6fc5",
        "colab": {
          "base_uri": "https://localhost:8080/"
        }
      },
      "execution_count": 79,
      "outputs": [
        {
          "output_type": "execute_result",
          "data": {
            "text/plain": [
              "tensor([[0., 4., 2.],\n",
              "        [7., 1., 1.]])"
            ]
          },
          "metadata": {},
          "execution_count": 79
        }
      ]
    },
    {
      "cell_type": "markdown",
      "source": [
        "### 7. Inplace Operations"
      ],
      "metadata": {
        "id": "j_NVy97Jjnz3"
      }
    },
    {
      "cell_type": "code",
      "source": [
        "m = torch.rand(2,3)\n",
        "n = torch.rand(2,3)\n",
        "\n",
        "print(m)\n",
        "print(n)"
      ],
      "metadata": {
        "id": "yY4Xa2igjiKU",
        "outputId": "a01232d7-acab-4621-9262-1b1e0280095d",
        "colab": {
          "base_uri": "https://localhost:8080/"
        }
      },
      "execution_count": 80,
      "outputs": [
        {
          "output_type": "stream",
          "name": "stdout",
          "text": [
            "tensor([[0.2243, 0.8935, 0.0497],\n",
            "        [0.1780, 0.3011, 0.1893]])\n",
            "tensor([[0.9186, 0.2131, 0.3957],\n",
            "        [0.6017, 0.4234, 0.5224]])\n"
          ]
        }
      ]
    },
    {
      "cell_type": "code",
      "source": [
        "m.add_(n)"
      ],
      "metadata": {
        "id": "bTj1PID-jr-i",
        "outputId": "ec5e1614-6bab-4994-bb33-5b9476824e71",
        "colab": {
          "base_uri": "https://localhost:8080/"
        }
      },
      "execution_count": 81,
      "outputs": [
        {
          "output_type": "execute_result",
          "data": {
            "text/plain": [
              "tensor([[1.1429, 1.1066, 0.4454],\n",
              "        [0.7796, 0.7245, 0.7117]])"
            ]
          },
          "metadata": {},
          "execution_count": 81
        }
      ]
    },
    {
      "cell_type": "code",
      "source": [
        "m"
      ],
      "metadata": {
        "id": "jClioTFhjt0F",
        "outputId": "6a931bc1-3b82-479b-a6f2-d1a6c901e0de",
        "colab": {
          "base_uri": "https://localhost:8080/"
        }
      },
      "execution_count": 82,
      "outputs": [
        {
          "output_type": "execute_result",
          "data": {
            "text/plain": [
              "tensor([[1.1429, 1.1066, 0.4454],\n",
              "        [0.7796, 0.7245, 0.7117]])"
            ]
          },
          "metadata": {},
          "execution_count": 82
        }
      ]
    },
    {
      "cell_type": "code",
      "source": [
        "n"
      ],
      "metadata": {
        "id": "pSZ_VAZxjvUT",
        "outputId": "99c474f3-c0a6-4534-b697-6f58c449783e",
        "colab": {
          "base_uri": "https://localhost:8080/"
        }
      },
      "execution_count": 83,
      "outputs": [
        {
          "output_type": "execute_result",
          "data": {
            "text/plain": [
              "tensor([[0.9186, 0.2131, 0.3957],\n",
              "        [0.6017, 0.4234, 0.5224]])"
            ]
          },
          "metadata": {},
          "execution_count": 83
        }
      ]
    },
    {
      "cell_type": "code",
      "source": [
        "torch.relu(m)"
      ],
      "metadata": {
        "id": "XYX6-i4Ljvl-",
        "outputId": "03e69a8c-80ec-40a8-e996-50b1807105b0",
        "colab": {
          "base_uri": "https://localhost:8080/"
        }
      },
      "execution_count": 84,
      "outputs": [
        {
          "output_type": "execute_result",
          "data": {
            "text/plain": [
              "tensor([[1.1429, 1.1066, 0.4454],\n",
              "        [0.7796, 0.7245, 0.7117]])"
            ]
          },
          "metadata": {},
          "execution_count": 84
        }
      ]
    },
    {
      "cell_type": "code",
      "source": [
        "m.relu_()"
      ],
      "metadata": {
        "id": "dKFVvTc8jxj0",
        "outputId": "5c64801a-3250-4220-e2fc-d8d0dd31e3bd",
        "colab": {
          "base_uri": "https://localhost:8080/"
        }
      },
      "execution_count": 85,
      "outputs": [
        {
          "output_type": "execute_result",
          "data": {
            "text/plain": [
              "tensor([[1.1429, 1.1066, 0.4454],\n",
              "        [0.7796, 0.7245, 0.7117]])"
            ]
          },
          "metadata": {},
          "execution_count": 85
        }
      ]
    },
    {
      "cell_type": "code",
      "source": [
        "m"
      ],
      "metadata": {
        "id": "YNEH_jrDjyqC",
        "outputId": "81d08b0d-9b47-4219-e25f-9ad2ecfe2dfe",
        "colab": {
          "base_uri": "https://localhost:8080/"
        }
      },
      "execution_count": 86,
      "outputs": [
        {
          "output_type": "execute_result",
          "data": {
            "text/plain": [
              "tensor([[1.1429, 1.1066, 0.4454],\n",
              "        [0.7796, 0.7245, 0.7117]])"
            ]
          },
          "metadata": {},
          "execution_count": 86
        }
      ]
    },
    {
      "cell_type": "markdown",
      "source": [
        "# Copying a Tensor"
      ],
      "metadata": {
        "id": "MMNJWdxfj4mf"
      }
    },
    {
      "cell_type": "code",
      "source": [
        "a = torch.rand(2,3)\n",
        "a"
      ],
      "metadata": {
        "id": "u3sFhzj8j0LH",
        "outputId": "855d9cbf-d360-4fc4-d325-9fd955fa727c",
        "colab": {
          "base_uri": "https://localhost:8080/"
        }
      },
      "execution_count": 87,
      "outputs": [
        {
          "output_type": "execute_result",
          "data": {
            "text/plain": [
              "tensor([[0.4175, 0.0340, 0.9157],\n",
              "        [0.3079, 0.6269, 0.8277]])"
            ]
          },
          "metadata": {},
          "execution_count": 87
        }
      ]
    },
    {
      "cell_type": "code",
      "source": [
        "b = a"
      ],
      "metadata": {
        "id": "-C5w5yzQkAhR"
      },
      "execution_count": 88,
      "outputs": []
    },
    {
      "cell_type": "code",
      "source": [
        "b"
      ],
      "metadata": {
        "id": "KP76pB4RkB16",
        "outputId": "824a7618-0ee6-42b8-8d0b-f93f444c4fdb",
        "colab": {
          "base_uri": "https://localhost:8080/"
        }
      },
      "execution_count": 89,
      "outputs": [
        {
          "output_type": "execute_result",
          "data": {
            "text/plain": [
              "tensor([[0.4175, 0.0340, 0.9157],\n",
              "        [0.3079, 0.6269, 0.8277]])"
            ]
          },
          "metadata": {},
          "execution_count": 89
        }
      ]
    },
    {
      "cell_type": "code",
      "source": [
        "a[0][0] = 0"
      ],
      "metadata": {
        "id": "biDWHVggkDZO"
      },
      "execution_count": 90,
      "outputs": []
    },
    {
      "cell_type": "code",
      "source": [
        "a"
      ],
      "metadata": {
        "id": "2yoREavhkIMU",
        "outputId": "7a4a82d2-33d4-4298-e2d0-93845a82fd9c",
        "colab": {
          "base_uri": "https://localhost:8080/"
        }
      },
      "execution_count": 91,
      "outputs": [
        {
          "output_type": "execute_result",
          "data": {
            "text/plain": [
              "tensor([[0.0000, 0.0340, 0.9157],\n",
              "        [0.3079, 0.6269, 0.8277]])"
            ]
          },
          "metadata": {},
          "execution_count": 91
        }
      ]
    },
    {
      "cell_type": "code",
      "source": [
        "b"
      ],
      "metadata": {
        "id": "iCmyzV4AkJvF",
        "outputId": "1d1d337c-0f44-4fa3-b098-93b49eeb05ec",
        "colab": {
          "base_uri": "https://localhost:8080/"
        }
      },
      "execution_count": 92,
      "outputs": [
        {
          "output_type": "execute_result",
          "data": {
            "text/plain": [
              "tensor([[0.0000, 0.0340, 0.9157],\n",
              "        [0.3079, 0.6269, 0.8277]])"
            ]
          },
          "metadata": {},
          "execution_count": 92
        }
      ]
    },
    {
      "cell_type": "code",
      "source": [
        "id(a)"
      ],
      "metadata": {
        "id": "djGuxXawkLlt",
        "outputId": "87c6b228-c4e0-4af2-d7c7-a0d892172495",
        "colab": {
          "base_uri": "https://localhost:8080/"
        }
      },
      "execution_count": 93,
      "outputs": [
        {
          "output_type": "execute_result",
          "data": {
            "text/plain": [
              "138175256481712"
            ]
          },
          "metadata": {},
          "execution_count": 93
        }
      ]
    },
    {
      "cell_type": "code",
      "source": [
        "id(b)"
      ],
      "metadata": {
        "id": "I9-4JfkRkOOr",
        "outputId": "bead8173-de69-45f3-f7a5-4e228188faf5",
        "colab": {
          "base_uri": "https://localhost:8080/"
        }
      },
      "execution_count": 94,
      "outputs": [
        {
          "output_type": "execute_result",
          "data": {
            "text/plain": [
              "138175256481712"
            ]
          },
          "metadata": {},
          "execution_count": 94
        }
      ]
    },
    {
      "cell_type": "code",
      "source": [
        "b = a.clone()"
      ],
      "metadata": {
        "id": "ZQkWiPOikPH8"
      },
      "execution_count": 95,
      "outputs": []
    },
    {
      "cell_type": "code",
      "source": [
        "a"
      ],
      "metadata": {
        "id": "zZ0KKzjekQqi",
        "outputId": "8dfbdaf1-9f4a-41e6-bae4-f4ebdc740182",
        "colab": {
          "base_uri": "https://localhost:8080/"
        }
      },
      "execution_count": 96,
      "outputs": [
        {
          "output_type": "execute_result",
          "data": {
            "text/plain": [
              "tensor([[0.0000, 0.0340, 0.9157],\n",
              "        [0.3079, 0.6269, 0.8277]])"
            ]
          },
          "metadata": {},
          "execution_count": 96
        }
      ]
    },
    {
      "cell_type": "code",
      "source": [
        "b"
      ],
      "metadata": {
        "id": "yJFF1UmlkR-J",
        "outputId": "ab303d5e-0563-4dab-b732-a24290d67e24",
        "colab": {
          "base_uri": "https://localhost:8080/"
        }
      },
      "execution_count": 97,
      "outputs": [
        {
          "output_type": "execute_result",
          "data": {
            "text/plain": [
              "tensor([[0.0000, 0.0340, 0.9157],\n",
              "        [0.3079, 0.6269, 0.8277]])"
            ]
          },
          "metadata": {},
          "execution_count": 97
        }
      ]
    },
    {
      "cell_type": "code",
      "source": [
        "a[0][0] = 10"
      ],
      "metadata": {
        "id": "r68ec8CLkTkp"
      },
      "execution_count": 98,
      "outputs": []
    },
    {
      "cell_type": "code",
      "source": [
        "a"
      ],
      "metadata": {
        "id": "SYKDBRYQkU1A",
        "outputId": "3864b38c-038a-4f82-a8cc-34fcdfb2ffd8",
        "colab": {
          "base_uri": "https://localhost:8080/"
        }
      },
      "execution_count": 99,
      "outputs": [
        {
          "output_type": "execute_result",
          "data": {
            "text/plain": [
              "tensor([[10.0000,  0.0340,  0.9157],\n",
              "        [ 0.3079,  0.6269,  0.8277]])"
            ]
          },
          "metadata": {},
          "execution_count": 99
        }
      ]
    },
    {
      "cell_type": "code",
      "source": [
        "b"
      ],
      "metadata": {
        "id": "LmfxTUmnkV9H",
        "outputId": "a48a7039-59e5-497e-863d-f35f6a6b717f",
        "colab": {
          "base_uri": "https://localhost:8080/"
        }
      },
      "execution_count": 100,
      "outputs": [
        {
          "output_type": "execute_result",
          "data": {
            "text/plain": [
              "tensor([[0.0000, 0.0340, 0.9157],\n",
              "        [0.3079, 0.6269, 0.8277]])"
            ]
          },
          "metadata": {},
          "execution_count": 100
        }
      ]
    },
    {
      "cell_type": "code",
      "source": [
        "id(a)"
      ],
      "metadata": {
        "id": "1t-aK6akkXrS",
        "outputId": "0d50de1a-b88f-4d4b-ff75-7342050c6c7c",
        "colab": {
          "base_uri": "https://localhost:8080/"
        }
      },
      "execution_count": 101,
      "outputs": [
        {
          "output_type": "execute_result",
          "data": {
            "text/plain": [
              "138175256481712"
            ]
          },
          "metadata": {},
          "execution_count": 101
        }
      ]
    },
    {
      "cell_type": "code",
      "source": [
        "id(b)"
      ],
      "metadata": {
        "id": "cAcq5kF_kYrc",
        "outputId": "7a160335-f66a-41f9-a789-cbc638fac14b",
        "colab": {
          "base_uri": "https://localhost:8080/"
        }
      },
      "execution_count": 102,
      "outputs": [
        {
          "output_type": "execute_result",
          "data": {
            "text/plain": [
              "138175256937008"
            ]
          },
          "metadata": {},
          "execution_count": 102
        }
      ]
    },
    {
      "cell_type": "code",
      "source": [],
      "metadata": {
        "id": "WA5TgggmkaIN"
      },
      "execution_count": null,
      "outputs": []
    }
  ]
}