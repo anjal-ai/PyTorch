{
  "metadata": {
    "kernelspec": {
      "name": "python3",
      "display_name": "Python 3"
    },
    "language_info": {
      "name": "python",
      "version": "3.11.13",
      "mimetype": "text/x-python",
      "codemirror_mode": {
        "name": "ipython",
        "version": 3
      },
      "pygments_lexer": "ipython3",
      "nbconvert_exporter": "python",
      "file_extension": ".py"
    },
    "colab": {
      "provenance": [],
      "gpuType": "T4",
      "include_colab_link": true
    },
    "accelerator": "GPU",
    "kaggle": {
      "accelerator": "nvidiaTeslaT4",
      "dataSources": [
        {
          "sourceId": 9243,
          "sourceType": "datasetVersion",
          "datasetId": 2243
        }
      ],
      "dockerImageVersionId": 31090,
      "isInternetEnabled": true,
      "language": "python",
      "sourceType": "notebook",
      "isGpuEnabled": true
    }
  },
  "nbformat_minor": 0,
  "nbformat": 4,
  "cells": [
    {
      "cell_type": "markdown",
      "metadata": {
        "id": "view-in-github",
        "colab_type": "text"
      },
      "source": [
        "<a href=\"https://colab.research.google.com/github/anjal-ai/PyTorch/blob/master/08_ann_fashion_mnist_pytorch_in_gpu.ipynb\" target=\"_parent\"><img src=\"https://colab.research.google.com/assets/colab-badge.svg\" alt=\"Open In Colab\"/></a>"
      ]
    },
    {
      "cell_type": "code",
      "source": [
        "import torch\n",
        "import torch.nn as nn\n",
        "import torch.optim as optim\n",
        "from torch.utils.data import DataLoader\n",
        "from torchvision import datasets, transforms"
      ],
      "metadata": {
        "id": "UrRjYiO1hpDt",
        "trusted": true,
        "execution": {
          "iopub.status.busy": "2025-07-13T12:52:31.767495Z",
          "iopub.execute_input": "2025-07-13T12:52:31.768056Z",
          "iopub.status.idle": "2025-07-13T12:52:31.771893Z",
          "shell.execute_reply.started": "2025-07-13T12:52:31.768031Z",
          "shell.execute_reply": "2025-07-13T12:52:31.771321Z"
        }
      },
      "outputs": [],
      "execution_count": 1
    },
    {
      "cell_type": "code",
      "source": [
        "torch.manual_seed(42)"
      ],
      "metadata": {
        "colab": {
          "base_uri": "https://localhost:8080/"
        },
        "id": "DsXSD6NWiLE7",
        "outputId": "5ad85131-b828-4815-cd5e-49e33bf1e135",
        "trusted": true,
        "execution": {
          "iopub.status.busy": "2025-07-13T12:52:32.153261Z",
          "iopub.execute_input": "2025-07-13T12:52:32.153858Z",
          "iopub.status.idle": "2025-07-13T12:52:32.159421Z",
          "shell.execute_reply.started": "2025-07-13T12:52:32.153835Z",
          "shell.execute_reply": "2025-07-13T12:52:32.158851Z"
        }
      },
      "outputs": [
        {
          "output_type": "execute_result",
          "data": {
            "text/plain": [
              "<torch._C.Generator at 0x7b6ca4791f70>"
            ]
          },
          "metadata": {},
          "execution_count": 2
        }
      ],
      "execution_count": 2
    },
    {
      "cell_type": "code",
      "source": [
        "device = torch.device(\"cuda\" if torch.cuda.is_available() else \"cpu\")\n",
        "print(\"Using device:\", device)"
      ],
      "metadata": {
        "colab": {
          "base_uri": "https://localhost:8080/"
        },
        "id": "HCAHXOsPw_s8",
        "outputId": "1cacafb7-e076-49a1-f6ed-dbddbc65987f",
        "trusted": true,
        "execution": {
          "iopub.status.busy": "2025-07-13T12:52:32.812177Z",
          "iopub.execute_input": "2025-07-13T12:52:32.812863Z",
          "iopub.status.idle": "2025-07-13T12:52:32.816773Z",
          "shell.execute_reply.started": "2025-07-13T12:52:32.812840Z",
          "shell.execute_reply": "2025-07-13T12:52:32.816083Z"
        }
      },
      "outputs": [
        {
          "output_type": "stream",
          "name": "stdout",
          "text": [
            "Using device: cuda\n"
          ]
        }
      ],
      "execution_count": 3
    },
    {
      "cell_type": "code",
      "source": [
        "transform = transforms.Compose([\n",
        "    transforms.ToTensor(),\n",
        "    transforms.Normalize((0.5,), (0.5,))  # normalize to [-1, 1]\n",
        "])"
      ],
      "metadata": {
        "trusted": true,
        "execution": {
          "iopub.status.busy": "2025-07-13T12:52:34.417548Z",
          "iopub.execute_input": "2025-07-13T12:52:34.418114Z",
          "iopub.status.idle": "2025-07-13T12:52:38.046432Z",
          "shell.execute_reply.started": "2025-07-13T12:52:34.418091Z",
          "shell.execute_reply": "2025-07-13T12:52:38.045640Z"
        },
        "id": "nAcnXg0wCvvj"
      },
      "outputs": [],
      "execution_count": 4
    },
    {
      "cell_type": "code",
      "source": [
        "train_dataset = datasets.FashionMNIST(\n",
        "    root='./data',\n",
        "    train=True,\n",
        "    download=True,\n",
        "    transform=transform\n",
        ")\n",
        "\n",
        "test_dataset = datasets.FashionMNIST(\n",
        "    root='./data',\n",
        "    train=False,\n",
        "    download=True,\n",
        "    transform=transform\n",
        ")"
      ],
      "metadata": {
        "trusted": true,
        "execution": {
          "iopub.status.busy": "2025-07-13T12:52:38.047688Z",
          "iopub.execute_input": "2025-07-13T12:52:38.047952Z",
          "iopub.status.idle": "2025-07-13T12:52:38.052473Z",
          "shell.execute_reply.started": "2025-07-13T12:52:38.047927Z",
          "shell.execute_reply": "2025-07-13T12:52:38.051909Z"
        },
        "colab": {
          "base_uri": "https://localhost:8080/"
        },
        "id": "1h3-hgzJCvvk",
        "outputId": "1f115c45-6644-426e-c6bf-66b47648ffd6"
      },
      "outputs": [
        {
          "output_type": "stream",
          "name": "stderr",
          "text": [
            "100%|██████████| 26.4M/26.4M [00:02<00:00, 10.9MB/s]\n",
            "100%|██████████| 29.5k/29.5k [00:00<00:00, 169kB/s]\n",
            "100%|██████████| 4.42M/4.42M [00:01<00:00, 3.15MB/s]\n",
            "100%|██████████| 5.15k/5.15k [00:00<00:00, 14.4MB/s]\n"
          ]
        }
      ],
      "execution_count": 5
    },
    {
      "cell_type": "code",
      "source": [
        "train_dataset.__len__()"
      ],
      "metadata": {
        "trusted": true,
        "execution": {
          "iopub.status.busy": "2025-07-13T12:52:38.078235Z",
          "iopub.execute_input": "2025-07-13T12:52:38.078405Z",
          "iopub.status.idle": "2025-07-13T12:52:38.082555Z",
          "shell.execute_reply.started": "2025-07-13T12:52:38.078392Z",
          "shell.execute_reply": "2025-07-13T12:52:38.081971Z"
        },
        "colab": {
          "base_uri": "https://localhost:8080/"
        },
        "id": "6o3-S8byCvvl",
        "outputId": "a300904f-283b-4105-fcec-e56612965eb0"
      },
      "outputs": [
        {
          "output_type": "execute_result",
          "data": {
            "text/plain": [
              "60000"
            ]
          },
          "metadata": {},
          "execution_count": 6
        }
      ],
      "execution_count": 6
    },
    {
      "cell_type": "code",
      "source": [
        "test_dataset.__len__()"
      ],
      "metadata": {
        "trusted": true,
        "execution": {
          "iopub.status.busy": "2025-07-13T12:52:40.011441Z",
          "iopub.execute_input": "2025-07-13T12:52:40.012013Z",
          "iopub.status.idle": "2025-07-13T12:52:40.151606Z",
          "shell.execute_reply.started": "2025-07-13T12:52:40.011990Z",
          "shell.execute_reply": "2025-07-13T12:52:40.151004Z"
        },
        "colab": {
          "base_uri": "https://localhost:8080/"
        },
        "id": "idv653JTCvvn",
        "outputId": "55ab1282-5588-4aa5-f293-eba735171912"
      },
      "outputs": [
        {
          "output_type": "execute_result",
          "data": {
            "text/plain": [
              "10000"
            ]
          },
          "metadata": {},
          "execution_count": 7
        }
      ],
      "execution_count": 7
    },
    {
      "cell_type": "code",
      "source": [
        "train_loader = DataLoader(train_dataset, batch_size=128, shuffle=True, pin_memory=True)\n",
        "test_loader = DataLoader(test_dataset, batch_size=128, shuffle=False, pin_memory=True)"
      ],
      "metadata": {
        "id": "F3vP7f8ald8B",
        "trusted": true,
        "execution": {
          "iopub.status.busy": "2025-07-13T12:55:32.262649Z",
          "iopub.execute_input": "2025-07-13T12:55:32.263354Z",
          "iopub.status.idle": "2025-07-13T12:55:32.392938Z",
          "shell.execute_reply.started": "2025-07-13T12:55:32.263329Z",
          "shell.execute_reply": "2025-07-13T12:55:32.392266Z"
        }
      },
      "outputs": [],
      "execution_count": 8
    },
    {
      "cell_type": "code",
      "source": [
        "class Model(nn.Module):\n",
        "  def __init__(self, in_features):\n",
        "    super().__init__()\n",
        "    self.network = nn.Sequential(\n",
        "        nn.Linear(784, 128),\n",
        "        nn.ReLU(),\n",
        "        nn.Linear(128, 64),\n",
        "        nn.ReLU(),\n",
        "        nn.Linear(64, 10)\n",
        "    )\n",
        "\n",
        "  def forward(self, X):\n",
        "    return self.network(X)"
      ],
      "metadata": {
        "id": "rAz_yvw1mb_w",
        "trusted": true,
        "execution": {
          "iopub.status.busy": "2025-07-13T12:55:33.595826Z",
          "iopub.execute_input": "2025-07-13T12:55:33.596654Z",
          "iopub.status.idle": "2025-07-13T12:55:33.600889Z",
          "shell.execute_reply.started": "2025-07-13T12:55:33.596620Z",
          "shell.execute_reply": "2025-07-13T12:55:33.600317Z"
        }
      },
      "outputs": [],
      "execution_count": 9
    },
    {
      "cell_type": "code",
      "source": [
        "# set learning rate and epochs\n",
        "learning_rate = 0.01\n",
        "epochs = 100"
      ],
      "metadata": {
        "id": "B9RNkrzcoNJt",
        "trusted": true,
        "execution": {
          "iopub.status.busy": "2025-07-13T12:55:34.931496Z",
          "iopub.execute_input": "2025-07-13T12:55:34.932177Z",
          "iopub.status.idle": "2025-07-13T12:55:34.935498Z",
          "shell.execute_reply.started": "2025-07-13T12:55:34.932151Z",
          "shell.execute_reply": "2025-07-13T12:55:34.934931Z"
        }
      },
      "outputs": [],
      "execution_count": 10
    },
    {
      "cell_type": "code",
      "source": [
        "# instatiate the model\n",
        "model = Model(28*28).to(device)\n",
        "\n",
        "# loss function\n",
        "criterion = nn.CrossEntropyLoss()\n",
        "\n",
        "# optimizer\n",
        "optimizer = optim.SGD(model.parameters(), lr=learning_rate)"
      ],
      "metadata": {
        "id": "gaBf1iN_oTLn",
        "trusted": true,
        "execution": {
          "iopub.status.busy": "2025-07-13T12:55:36.509114Z",
          "iopub.execute_input": "2025-07-13T12:55:36.509377Z",
          "iopub.status.idle": "2025-07-13T12:55:36.515177Z",
          "shell.execute_reply.started": "2025-07-13T12:55:36.509358Z",
          "shell.execute_reply": "2025-07-13T12:55:36.514647Z"
        }
      },
      "outputs": [],
      "execution_count": 12
    },
    {
      "cell_type": "code",
      "source": [
        "for epoch in range(epochs):\n",
        "    model.train()\n",
        "    total_loss = 0.0\n",
        "    for batch_feature, batch_label in train_loader:\n",
        "        batch_feature = batch_feature.view(batch_feature.size(0), -1).to(device)  # flatten to [B, 784]\n",
        "        batch_label = batch_label.to(device)\n",
        "\n",
        "        pred = model(batch_feature)\n",
        "        loss = criterion(pred, batch_label)\n",
        "        optimizer.zero_grad()\n",
        "        loss.backward()\n",
        "        optimizer.step()\n",
        "        total_loss += loss.item()\n",
        "    print(f\"Epoch {epoch+1:02d}, Loss: {total_loss/len(train_loader):.4f}\")"
      ],
      "metadata": {
        "id": "28aeeE14oqfq",
        "trusted": true,
        "execution": {
          "iopub.status.busy": "2025-07-13T12:55:39.264208Z",
          "iopub.execute_input": "2025-07-13T12:55:39.264996Z",
          "iopub.status.idle": "2025-07-13T12:57:10.257070Z",
          "shell.execute_reply.started": "2025-07-13T12:55:39.264969Z",
          "shell.execute_reply": "2025-07-13T12:57:10.256388Z"
        },
        "colab": {
          "base_uri": "https://localhost:8080/"
        },
        "outputId": "a8cba866-0b51-4062-abc9-7207111beba1"
      },
      "outputs": [
        {
          "output_type": "stream",
          "name": "stdout",
          "text": [
            "Epoch 01, Loss: 1.3419\n",
            "Epoch 02, Loss: 0.6681\n",
            "Epoch 03, Loss: 0.5736\n",
            "Epoch 04, Loss: 0.5242\n",
            "Epoch 05, Loss: 0.4924\n",
            "Epoch 06, Loss: 0.4698\n",
            "Epoch 07, Loss: 0.4529\n",
            "Epoch 08, Loss: 0.4399\n",
            "Epoch 09, Loss: 0.4289\n",
            "Epoch 10, Loss: 0.4186\n",
            "Epoch 11, Loss: 0.4105\n",
            "Epoch 12, Loss: 0.4022\n",
            "Epoch 13, Loss: 0.3953\n",
            "Epoch 14, Loss: 0.3889\n",
            "Epoch 15, Loss: 0.3831\n",
            "Epoch 16, Loss: 0.3774\n",
            "Epoch 17, Loss: 0.3722\n",
            "Epoch 18, Loss: 0.3665\n",
            "Epoch 19, Loss: 0.3629\n",
            "Epoch 20, Loss: 0.3576\n",
            "Epoch 21, Loss: 0.3542\n",
            "Epoch 22, Loss: 0.3498\n",
            "Epoch 23, Loss: 0.3454\n",
            "Epoch 24, Loss: 0.3421\n",
            "Epoch 25, Loss: 0.3376\n",
            "Epoch 26, Loss: 0.3349\n",
            "Epoch 27, Loss: 0.3316\n",
            "Epoch 28, Loss: 0.3276\n",
            "Epoch 29, Loss: 0.3252\n",
            "Epoch 30, Loss: 0.3216\n",
            "Epoch 31, Loss: 0.3185\n",
            "Epoch 32, Loss: 0.3156\n",
            "Epoch 33, Loss: 0.3127\n",
            "Epoch 34, Loss: 0.3101\n",
            "Epoch 35, Loss: 0.3072\n",
            "Epoch 36, Loss: 0.3041\n",
            "Epoch 37, Loss: 0.3017\n",
            "Epoch 38, Loss: 0.2990\n",
            "Epoch 39, Loss: 0.2968\n",
            "Epoch 40, Loss: 0.2945\n",
            "Epoch 41, Loss: 0.2922\n",
            "Epoch 42, Loss: 0.2894\n",
            "Epoch 43, Loss: 0.2874\n",
            "Epoch 44, Loss: 0.2851\n",
            "Epoch 45, Loss: 0.2828\n",
            "Epoch 46, Loss: 0.2798\n",
            "Epoch 47, Loss: 0.2785\n",
            "Epoch 48, Loss: 0.2759\n",
            "Epoch 49, Loss: 0.2739\n",
            "Epoch 50, Loss: 0.2717\n",
            "Epoch 51, Loss: 0.2698\n",
            "Epoch 52, Loss: 0.2680\n",
            "Epoch 53, Loss: 0.2648\n",
            "Epoch 54, Loss: 0.2643\n",
            "Epoch 55, Loss: 0.2614\n",
            "Epoch 56, Loss: 0.2594\n",
            "Epoch 57, Loss: 0.2576\n",
            "Epoch 58, Loss: 0.2553\n",
            "Epoch 59, Loss: 0.2544\n",
            "Epoch 60, Loss: 0.2529\n",
            "Epoch 61, Loss: 0.2497\n",
            "Epoch 62, Loss: 0.2484\n",
            "Epoch 63, Loss: 0.2461\n",
            "Epoch 64, Loss: 0.2452\n",
            "Epoch 65, Loss: 0.2430\n",
            "Epoch 66, Loss: 0.2415\n",
            "Epoch 67, Loss: 0.2389\n",
            "Epoch 68, Loss: 0.2385\n",
            "Epoch 69, Loss: 0.2364\n",
            "Epoch 70, Loss: 0.2347\n",
            "Epoch 71, Loss: 0.2326\n",
            "Epoch 72, Loss: 0.2313\n",
            "Epoch 73, Loss: 0.2305\n",
            "Epoch 74, Loss: 0.2290\n",
            "Epoch 75, Loss: 0.2262\n",
            "Epoch 76, Loss: 0.2237\n",
            "Epoch 77, Loss: 0.2237\n",
            "Epoch 78, Loss: 0.2219\n",
            "Epoch 79, Loss: 0.2200\n",
            "Epoch 80, Loss: 0.2192\n",
            "Epoch 81, Loss: 0.2176\n",
            "Epoch 82, Loss: 0.2142\n",
            "Epoch 83, Loss: 0.2139\n",
            "Epoch 84, Loss: 0.2134\n",
            "Epoch 85, Loss: 0.2116\n",
            "Epoch 86, Loss: 0.2096\n",
            "Epoch 87, Loss: 0.2087\n",
            "Epoch 88, Loss: 0.2066\n",
            "Epoch 89, Loss: 0.2049\n",
            "Epoch 90, Loss: 0.2051\n",
            "Epoch 91, Loss: 0.2037\n",
            "Epoch 92, Loss: 0.2015\n",
            "Epoch 93, Loss: 0.1996\n",
            "Epoch 94, Loss: 0.1986\n",
            "Epoch 95, Loss: 0.1971\n",
            "Epoch 96, Loss: 0.1957\n",
            "Epoch 97, Loss: 0.1944\n",
            "Epoch 98, Loss: 0.1932\n",
            "Epoch 99, Loss: 0.1913\n",
            "Epoch 100, Loss: 0.1915\n"
          ]
        }
      ],
      "execution_count": 13
    },
    {
      "cell_type": "code",
      "source": [
        "# set model to eval mode\n",
        "model.eval()"
      ],
      "metadata": {
        "id": "fwpzh77XpxmW",
        "trusted": true,
        "execution": {
          "iopub.status.busy": "2025-07-13T12:57:26.235552Z",
          "iopub.execute_input": "2025-07-13T12:57:26.236080Z",
          "iopub.status.idle": "2025-07-13T12:57:26.240885Z",
          "shell.execute_reply.started": "2025-07-13T12:57:26.236059Z",
          "shell.execute_reply": "2025-07-13T12:57:26.240141Z"
        },
        "colab": {
          "base_uri": "https://localhost:8080/"
        },
        "outputId": "a12a9c7d-e925-478e-cb7b-41d9ab61d1a0"
      },
      "outputs": [
        {
          "output_type": "execute_result",
          "data": {
            "text/plain": [
              "Model(\n",
              "  (network): Sequential(\n",
              "    (0): Linear(in_features=784, out_features=128, bias=True)\n",
              "    (1): ReLU()\n",
              "    (2): Linear(in_features=128, out_features=64, bias=True)\n",
              "    (3): ReLU()\n",
              "    (4): Linear(in_features=64, out_features=10, bias=True)\n",
              "  )\n",
              ")"
            ]
          },
          "metadata": {},
          "execution_count": 14
        }
      ],
      "execution_count": 14
    },
    {
      "cell_type": "code",
      "source": [
        "total = 0\n",
        "correct = 0\n",
        "\n",
        "with torch.no_grad():\n",
        "  for batch_features, batch_labels in test_loader:\n",
        "    batch_features = batch_feature.to(device)\n",
        "    batch_labels = batch_label.to(device)\n",
        "    outputs = model(batch_features)\n",
        "    _, predicted = torch.max(outputs, 1)\n",
        "    total = total + batch_labels.shape[0]\n",
        "    correct = correct + (predicted == batch_labels).sum().item()\n",
        "print(correct/total)"
      ],
      "metadata": {
        "id": "lmvrUto-qt5h",
        "trusted": true,
        "execution": {
          "iopub.status.busy": "2025-07-13T12:57:28.489487Z",
          "iopub.execute_input": "2025-07-13T12:57:28.490093Z",
          "iopub.status.idle": "2025-07-13T12:57:28.750973Z",
          "shell.execute_reply.started": "2025-07-13T12:57:28.490068Z",
          "shell.execute_reply": "2025-07-13T12:57:28.750158Z"
        },
        "colab": {
          "base_uri": "https://localhost:8080/"
        },
        "outputId": "df7dec66-a349-4d8f-9d99-1338912e2e14"
      },
      "outputs": [
        {
          "output_type": "stream",
          "name": "stdout",
          "text": [
            "0.9791666666666666\n"
          ]
        }
      ],
      "execution_count": 15
    },
    {
      "cell_type": "code",
      "source": [
        "print(model)"
      ],
      "metadata": {
        "colab": {
          "base_uri": "https://localhost:8080/"
        },
        "id": "B0EY25qINZBG",
        "outputId": "f01acfff-58ff-476e-d3b2-ff5ed3381e41"
      },
      "execution_count": 19,
      "outputs": [
        {
          "output_type": "stream",
          "name": "stdout",
          "text": [
            "Model(\n",
            "  (network): Sequential(\n",
            "    (0): Linear(in_features=784, out_features=128, bias=True)\n",
            "    (1): ReLU()\n",
            "    (2): Linear(in_features=128, out_features=64, bias=True)\n",
            "    (3): ReLU()\n",
            "    (4): Linear(in_features=64, out_features=10, bias=True)\n",
            "  )\n",
            ")\n"
          ]
        }
      ]
    },
    {
      "cell_type": "code",
      "source": [
        "from torchsummary import summary\n",
        "summary(model, input_size=(784,))"
      ],
      "metadata": {
        "colab": {
          "base_uri": "https://localhost:8080/"
        },
        "id": "GjWL_-X3ONdO",
        "outputId": "daf35f1e-9a1c-41ce-8a92-f0761bf9b572"
      },
      "execution_count": 20,
      "outputs": [
        {
          "output_type": "stream",
          "name": "stdout",
          "text": [
            "----------------------------------------------------------------\n",
            "        Layer (type)               Output Shape         Param #\n",
            "================================================================\n",
            "            Linear-1                  [-1, 128]         100,480\n",
            "              ReLU-2                  [-1, 128]               0\n",
            "            Linear-3                   [-1, 64]           8,256\n",
            "              ReLU-4                   [-1, 64]               0\n",
            "            Linear-5                   [-1, 10]             650\n",
            "================================================================\n",
            "Total params: 109,386\n",
            "Trainable params: 109,386\n",
            "Non-trainable params: 0\n",
            "----------------------------------------------------------------\n",
            "Input size (MB): 0.00\n",
            "Forward/backward pass size (MB): 0.00\n",
            "Params size (MB): 0.42\n",
            "Estimated Total Size (MB): 0.42\n",
            "----------------------------------------------------------------\n"
          ]
        }
      ]
    },
    {
      "cell_type": "code",
      "source": [],
      "metadata": {
        "id": "7vmUOwdeRWeg"
      },
      "execution_count": null,
      "outputs": []
    }
  ]
}